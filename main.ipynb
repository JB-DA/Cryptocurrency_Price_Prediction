{
 "cells": [
  {
   "cell_type": "code",
   "execution_count": null,
   "id": "intimate-stranger",
   "metadata": {
    "ExecuteTime": {
     "end_time": "2021-02-22T14:25:23.744857Z",
     "start_time": "2021-02-22T14:25:23.739855Z"
    }
   },
   "outputs": [],
   "source": [
    "# IMPORTS\n",
    "###\n",
    "#\n",
    "import requests\n",
    "import json\n",
    "\n",
    "#from apikeys import apikey_coinio as key\n",
    "\n",
    "import sqlite3\n",
    "from sqlite3 import Error\n",
    "\n",
    "import glob\n",
    "import pandas as pd\n",
    "\n",
    "from sqlalchemy import create_engine\n",
    "# END IMPORTS"
   ]
  },
  {
   "cell_type": "code",
   "execution_count": null,
   "id": "honest-meter",
   "metadata": {
    "ExecuteTime": {
     "end_time": "2021-02-22T14:25:51.546251Z",
     "start_time": "2021-02-22T14:25:27.097267Z"
    }
   },
   "outputs": [],
   "source": [
    "# VARIABLES\n",
    "###\n",
    "#\n",
    "# General\n",
    "database = r\"crypto_db.sqlite\"\n",
    "coins = ['BTC', 'ETH']\n",
    "apikeys = \"B44F0242-E0BA-4C1A-BED2-831A67426480\", \"1830D89F-A633-4F73-9707-3A7FAFE5C0F0\", \"200EF4DD-8BF3-4A8A-9FC9-CF9C9D6D1173\"\n",
    "\n",
    "# Database Schema\n",
    "sql_create_assets_table = \"\"\" CREATE TABLE IF NOT EXISTS \"assets\" (\n",
    "    \"asset_id\" VARCHAR   NOT NULL,\n",
    "    \"name\" VARCHAR   NOT NULL,\n",
    "    \"type_is_crypto\" INT   NOT NULL,\n",
    "    \"data_quote_start\" VARCHAR   NOT NULL,\n",
    "    \"data_quote_end\" VARCHAR   NOT NULL,\n",
    "    \"data_orderbook_start\" VARCHAR   NOT NULL,\n",
    "    \"data_orderbook_end\" VARCHAR   NOT NULL,\n",
    "    \"data_trade_start\" VARCHAR   NOT NULL,\n",
    "    \"data_trade_end\" VARCHAR   NOT NULL,\n",
    "    \"data_quote_count\" VARCHAR   NOT NULL,\n",
    "    \"data_trade_count\" VARCHAR   NOT NULL,\n",
    "    \"data_symbols_count\" INT   NOT NULL,\n",
    "    \"volume_1hrs_usd\" FLOAT   NOT NULL,\n",
    "    \"volume_1day_usd\" FLOAT   NOT NULL,\n",
    "    \"volume_1mth_usd\" FLOAT   NOT NULL,\n",
    "    \"price_usd\" FLOAT   NOT NULL,\n",
    "    PRIMARY KEY (\"asset_id\"),\n",
    "    FOREIGN KEY (\"asset_id\") REFERENCES \"historic_trades\" (\"asset_id\")\n",
    ");\"\"\"\n",
    "\n",
    "sql_create_periods_table = \"\"\" CREATE TABLE IF NOT EXISTS \"periods\" (\n",
    "    \"period_id\" VARCHAR   NOT NULL,\n",
    "    \"length_seconds\" INT   NOT NULL,\n",
    "    \"length_months\" INT   NOT NULL,\n",
    "    \"unit_count\" INT   NOT NULL,\n",
    "    \"unit_name\" VARCHAR   NOT NULL,\n",
    "    \"display_name\" VARCHAR   NOT NULL\n",
    ");\"\"\"\n",
    "\n",
    "sql_create_current_rates_table = \"\"\" CREATE TABLE IF NOT EXISTS \"current_rates\" (\n",
    "    \"time\" VARCHAR   NOT NULL,\n",
    "    \"asset_id_base\" VARCHAR   NOT NULL,\n",
    "    \"asset_id_quote\" VARCHAR   NOT NULL,\n",
    "    \"rate\" FLOAT   NOT NULL,\n",
    "    FOREIGN KEY (\"asset_id_base\") REFERENCES \"assets\" (\"asset_id\")\n",
    ");\"\"\"\n",
    "\n",
    "sql_create_exchanges_table = \"\"\" CREATE TABLE IF NOT EXISTS \"exchanges\" (\n",
    "    \"exchange_id\" VARCHAR   NOT NULL,\n",
    "    \"website\" VARCHAR   NOT NULL,\n",
    "    \"name\" VARCHAR   NOT NULL,\n",
    "    \"data_start\" VARCHAR   NOT NULL,\n",
    "    \"data_end\" VARCHAR   NOT NULL,\n",
    "    \"data_quote_start\" VARCHAR   NOT NULL,\n",
    "    \"data_quote_end\" VARCHAR   NOT NULL,\n",
    "    \"data_orderbook_start\" VARCHAR   NOT NULL,\n",
    "    \"data_orderbook_end\" VARCHAR   NOT NULL,\n",
    "    \"data_trade_start\" VARCHAR   NOT NULL,\n",
    "    \"data_trade_end\" VARCHAR   NOT NULL,\n",
    "    \"data_symbols_count\" INT   NOT NULL,\n",
    "    \"volume_1hrs_usd\" FLOAT   NOT NULL,\n",
    "    \"volume_1day_usd\" FLOAT   NOT NULL,\n",
    "    \"volume_1mth_usd\" FLOAT   NOT NULL\n",
    ");\"\"\"\n",
    "\n",
    "sql_create_historic_trades_table = \"\"\" CREATE TABLE IF NOT EXISTS \"historic_trades\" (\n",
    "    \"asset_id\" VARCHAR  NOT NULL,\n",
    "    \"time_period_start\" VARCHAR   NOT NULL,\n",
    "    \"time_period_end\" VARCHAR   NOT NULL,\n",
    "    \"time_open\" VARCHAR   NULL,\n",
    "    \"time_close\" VARCHAR   NULL,\n",
    "    \"price_open\" FLOAT   NOT NULL,\n",
    "    \"price_high\" FLOAT   NOT NULL,\n",
    "    \"price_low\" FLOAT   NOT NULL,\n",
    "    \"price_close\" FLOAT   NOT NULL,\n",
    "    \"volume_traded\" FLOAT   NOT NULL,\n",
    "    \"trades_count\" INT   NULL\n",
    ");\"\"\"\n",
    "# END VARIABLES\n",
    "\n",
    "\n",
    "# DATABASE CONNECTION\n",
    "###\n",
    "##\n",
    "def create_connection(db_file):\n",
    "    \"\"\" create a database connection to the SQLite database specified by db_file\n",
    "    :param db_file: database file\n",
    "    :return: Connection object or None\n",
    "    \"\"\"\n",
    "    conn = None\n",
    "    try:\n",
    "        conn = sqlite3.connect(db_file)\n",
    "        return conn\n",
    "    except Error as e:\n",
    "        print(e)\n",
    "    return conn\n",
    "# END create_connection\n",
    "\n",
    "\n",
    "# RUN SQL COMMAND\n",
    "###\n",
    "#\n",
    "def execute_sql_cmd(conn, command):\n",
    "    \"\"\" run a sql command statement\n",
    "    :param conn: Connection object\n",
    "    :param execute_sql_cmd: run sql statement\n",
    "    :return:\n",
    "    \"\"\"\n",
    "    try:\n",
    "        c = conn.cursor()\n",
    "        c.execute(command)\n",
    "    except Error as e:\n",
    "        print(e)\n",
    "# END execute_sql_cmd\n",
    "\n",
    "\n",
    "# LOAD SCHEMA\n",
    "###\n",
    "#\n",
    "conn = create_connection(database)\n",
    "\n",
    "if conn is not None:\n",
    "    execute_sql_cmd(conn, sql_create_assets_table)\n",
    "    execute_sql_cmd(conn, sql_create_periods_table)\n",
    "    execute_sql_cmd(conn, sql_create_current_rates_table)\n",
    "    execute_sql_cmd(conn, sql_create_exchanges_table)\n",
    "    execute_sql_cmd(conn, sql_create_historic_trades_table)\n",
    "else:\n",
    "    print(\"Error! cannot create the database connection.\")\n",
    "conn.close()\n",
    "# END LOAD SCHEMA\n",
    "\n",
    "# ETL ALL CSVS in 'data_raw'\n",
    "###\n",
    "#\n",
    "def data_csv_load():\n",
    "    find_csvs = glob.glob(\"data_raw/*.csv\")\n",
    "\n",
    "    for i in find_csvs:\n",
    "        df_csv = pd.read_csv(i)\n",
    "        df_csv['asset_id'] = find_csvs[find_csvs.index(i)].split(\"\\\\\", 1)[\n",
    "            1].split(\"_\", 2)[0]\n",
    "        df_csv.dropna(inplace=True)\n",
    "        df_csv = df_csv.drop(columns=['Adj Close'])\n",
    "        df_csv = df_csv.rename(columns={\n",
    "            'Date': 'time_period_end',\n",
    "            'Open': 'price_open',\n",
    "            'High': 'price_high',\n",
    "            'Low': 'price_low',\n",
    "            'Close': 'price_close',\n",
    "            'Volume': 'volume_traded',\n",
    "        })\n",
    "\n",
    "        df_csv['time_period_end'] = pd.to_datetime(\n",
    "            df_csv['time_period_end'], format='%d/%m/%Y')\n",
    "        df_csv['time_period_start'] = df_csv['time_period_end'].copy()\n",
    "\n",
    "        with open(f'data_raw/{df_csv.asset_id[0]}.json', 'w') as f:\n",
    "            f.write(df_csv.to_json())\n",
    "\n",
    "        conn = create_connection(database)\n",
    "        df_csv.to_sql(\"historic_trades\", conn, if_exists=\"append\", index=False)\n",
    "        conn.close()\n",
    "# END data_csv_load\n",
    "\n",
    "\n",
    "# ETL ALL API CALL DATA\n",
    "###\n",
    "#\n",
    "def data_api_load():\n",
    "    # ASSETS\n",
    "    # https://docs.coinapi.io/#list-all-assets\n",
    "    url = 'https://rest.coinapi.io/v1/assets'\n",
    "    headers = {'X-CoinAPI-Key': apikeys[0]}\n",
    "    response = requests.get(url, headers=headers)\n",
    "\n",
    "    with open('data_raw/assets.json', 'w') as ii:\n",
    "        json.dump(response.json(), ii)\n",
    "\n",
    "    # PERIODS\n",
    "    endpoint = 'https://rest.coinapi.io'\n",
    "\n",
    "    furl = f\"{endpoint}/v1/ohlcv/periods\"\n",
    "\n",
    "    url = furl\n",
    "    headers = {'X-CoinAPI-Key': apikeys[0]}\n",
    "    response = requests.get(url, headers=headers)\n",
    "\n",
    "    display(f'{response}')\n",
    "\n",
    "    # save to asset_id_base.json\n",
    "    with open(f'data_raw/periods.json', 'w') as ii:\n",
    "        json.dump(response.json(), ii)\n",
    "\n",
    "    # CURRENT RATES\n",
    "    asset_id_base = 'USD'\n",
    "    endpoint = 'https://rest.coinapi.io'\n",
    "\n",
    "    furl = f\"{endpoint}/v1/exchangerate/{asset_id_base}\"\n",
    "\n",
    "    url = furl\n",
    "    headers = {'X-CoinAPI-Key': apikeys[0]}\n",
    "    response = requests.get(url, headers=headers)\n",
    "\n",
    "    display(f'{response}')\n",
    "\n",
    "    # save to asset_id_base.json\n",
    "    with open(f'data_raw/current_rates_{asset_id_base}.json', 'w') as ii:\n",
    "        json.dump(response.json(), ii)\n",
    "\n",
    "    # ALL EXCHANGES\n",
    "    endpoint = 'https://rest.coinapi.io'\n",
    "\n",
    "    furl = f\"{endpoint}/v1/exchanges\"\n",
    "\n",
    "    url = furl\n",
    "    headers = {'X-CoinAPI-Key': apikeys[0]}\n",
    "    response = requests.get(url, headers=headers)\n",
    "\n",
    "    display(f'{response}')\n",
    "\n",
    "    # save to asset_id_base.json\n",
    "    with open(f'data_raw/exchanges.json', 'w') as ii:\n",
    "        json.dump(response.json(), ii)\n",
    "\n",
    "    # COINS\n",
    "    with open( 'data_raw/assets.json', 'r' ) as jj:\n",
    "        json_d = json.load( jj )\n",
    "        global df_assets\n",
    "        df_assets = pd.DataFrame( json_d )\n",
    "    \n",
    "    for coin in coins:\n",
    "        print(coin)\n",
    "        print(apikeys[coins.index(coin)])\n",
    "        asset_id_base = f'{coin}'\n",
    "        asset_id_quote = 'USD'\n",
    "        limit = 5000\n",
    "        # database query on assets [coins.i] in data_Start column\n",
    "        \n",
    "        time_start = df_assets[df_assets['asset_id']== asset_id_base]['data_start']\n",
    "        period_id = '1DAY'\n",
    "        endpoint = 'https://rest.coinapi.io'\n",
    "        include_empty_items = False\n",
    "\n",
    "        furl = f\"{endpoint}/v1/ohlcv/{asset_id_base}/{asset_id_quote}/history?period_id={period_id}&time_start={time_start.iloc[0]}&limit={limit}&include_empty_items={include_empty_items}\"\n",
    "\n",
    "        url = furl\n",
    "        headers = {'X-CoinAPI-Key': apikeys[coins.index(coin)+1]}\n",
    "        response = requests.get(url, headers=headers)\n",
    "\n",
    "        # save to asset_id_base.json\n",
    "        with open(f'data_raw/{asset_id_base}.json', 'w') as ii:\n",
    "            json.dump(response.json(), ii)\n",
    "        \n",
    "        data = pd.DataFrame(response.json()) #load to dataframe\n",
    "        \n",
    "        conn = create_connection(database)\n",
    "        data.to_sql(\"historic_trades\", conn, if_exists=\"append\", index=False)\n",
    "        conn.close()\n",
    "        \n",
    "        display(data)\n",
    "        \n",
    "        return(data)\n",
    "        \n",
    "# END data_api_load\n",
    "\n",
    "\n",
    "def model():\n",
    "    pass\n",
    "# END data_update\n",
    "\n",
    "\n",
    "data_csv_load()\n",
    "data_api_load()\n",
    "\n",
    "x = data_api_load()"
   ]
  },
  {
   "cell_type": "code",
   "execution_count": null,
   "id": "expired-clinton",
   "metadata": {
    "ExecuteTime": {
     "end_time": "2021-02-22T14:19:32.269137Z",
     "start_time": "2021-02-22T14:19:32.251148Z"
    }
   },
   "outputs": [],
   "source": []
  },
  {
   "cell_type": "code",
   "execution_count": null,
   "id": "following-breed",
   "metadata": {
    "ExecuteTime": {
     "end_time": "2021-02-22T14:01:27.097410Z",
     "start_time": "2021-02-22T14:01:27.089448Z"
    },
    "deletable": false,
    "editable": false,
    "run_control": {
     "frozen": true
    }
   },
   "outputs": [],
   "source": [
    "response\n",
    "data = pd.DataFrame(response.json()) #load to dataframe"
   ]
  },
  {
   "cell_type": "code",
   "execution_count": null,
   "id": "organizational-index",
   "metadata": {
    "ExecuteTime": {
     "end_time": "2021-02-22T14:01:35.201921Z",
     "start_time": "2021-02-22T14:01:35.171917Z"
    },
    "deletable": false,
    "editable": false,
    "run_control": {
     "frozen": true
    }
   },
   "outputs": [],
   "source": [
    "data"
   ]
  },
  {
   "cell_type": "code",
   "execution_count": null,
   "id": "narrow-contemporary",
   "metadata": {
    "ExecuteTime": {
     "end_time": "2021-02-22T13:44:18.904972Z",
     "start_time": "2021-02-22T13:44:18.895973Z"
    }
   },
   "outputs": [],
   "source": [
    "coins = ['BTC', 'ETH']\n",
    "apikeys = \"B44F0242-E0BA-4C1A-BED2-831A67426480\", \"1830D89F-A633-4F73-9707-3A7FAFE5C0F0\", \"200EF4DD-8BF3-4A8A-9FC9-CF9C9D6D1173\"\n",
    "i = 0\n",
    "\n",
    "coins[i], apikeys[i]"
   ]
  },
  {
   "cell_type": "code",
   "execution_count": null,
   "id": "weekly-cloud",
   "metadata": {
    "ExecuteTime": {
     "end_time": "2021-02-22T13:44:21.997093Z",
     "start_time": "2021-02-22T13:44:21.783369Z"
    }
   },
   "outputs": [],
   "source": [
    "with open('data_raw/assets.json', 'r') as jj:\n",
    "    json_d = json.load(jj)\n",
    "    df_assets = pd.DataFrame(json_d)"
   ]
  },
  {
   "cell_type": "code",
   "execution_count": null,
   "id": "sharp-poultry",
   "metadata": {
    "ExecuteTime": {
     "end_time": "2021-02-22T13:44:53.878319Z",
     "start_time": "2021-02-22T13:44:52.742941Z"
    }
   },
   "outputs": [],
   "source": [
    "coin='BTC'\n",
    "print(coin)\n",
    "print(apikeys[coins.index(coin)])\n",
    "asset_id_base = f'{coin}'\n",
    "asset_id_quote = 'USD'\n",
    "limit = 5\n",
    "# database query on assets [coins.i] in data_Start column\n",
    "time_start = df_assets[df_assets['asset_id']== asset_id_base]['data_start']\n",
    "period_id = '1DAY'\n",
    "endpoint = 'https://rest.coinapi.io'\n",
    "include_empty_items = False\n",
    "\n",
    "furl = f\"{endpoint}/v1/ohlcv/{asset_id_base}/{asset_id_quote}/history?period_id={period_id}&time_start={time_start.iloc[0]}&limit={limit}&include_empty_items={include_empty_items}\"\n",
    "\n",
    "url = furl\n",
    "headers = {'X-CoinAPI-Key': apikeys[coins.index(coin)+1]}\n",
    "response = requests.get(url, headers=headers)\n",
    "\n",
    "display(f'{response}')\n",
    "\n",
    "# save to asset_id_base.json\n",
    "with open(f'data_raw/{asset_id_base}.json', 'w') as ii:\n",
    "    json.dump(response.json(), ii)"
   ]
  },
  {
   "cell_type": "code",
   "execution_count": null,
   "id": "rational-cycle",
   "metadata": {
    "ExecuteTime": {
     "end_time": "2021-02-22T13:49:28.470304Z",
     "start_time": "2021-02-22T13:49:28.460273Z"
    }
   },
   "outputs": [],
   "source": [
    "response.json()"
   ]
  },
  {
   "cell_type": "code",
   "execution_count": null,
   "id": "addressed-shirt",
   "metadata": {
    "ExecuteTime": {
     "end_time": "2021-02-22T14:26:01.241367Z",
     "start_time": "2021-02-22T14:26:01.057362Z"
    }
   },
   "outputs": [],
   "source": [
    "# a = execute_sql_cmd(\n",
    "#     conn, \"SELECT * from historic_trades WHERE asset_id='brentoil'\")\n",
    "# conn.close()\n",
    "\n",
    "\n",
    "con = sqlite3.connect(database)\n",
    "\n",
    "a = pd.read_sql_query(\"SELECT * from historic_trades WHERE asset_id='brentoil'\", con)\n",
    "b = pd.read_sql_query(f\"SELECT * from historic_trades WHERE asset_id='goldfutures'\", con)\n",
    "c = pd.read_sql_query(\"SELECT * from historic_trades WHERE asset_id='BTC'\", con)\n",
    "d = pd.read_sql_query(f\"SELECT * from historic_trades WHERE asset_id='ETH'\", con)\n",
    "# df_csv.to_sql(\"historic_trades\", con, if_exists=\"replace\")\n",
    "\n",
    "con.close()\n",
    "\n",
    "display(a, b, c, d)"
   ]
  },
  {
   "cell_type": "code",
   "execution_count": null,
   "id": "documented-vacation",
   "metadata": {
    "ExecuteTime": {
     "end_time": "2021-02-21T14:38:09.757085Z",
     "start_time": "2021-02-21T14:38:09.688559Z"
    }
   },
   "outputs": [],
   "source": [
    "with open('data_raw/BTC.json', 'r') as jj:  # open api results\n",
    "    json_d = json.load(jj)\n",
    "    df_api = pd.DataFrame(json_d)  # save to dataframe\n",
    "df_api['asset_id'] = 'BTC'\n",
    "# df = df_api.head(50)\n",
    "df = df_api\n",
    "\n",
    "con = sqlite3.connect(\"crypto_db.sqlite\")\n",
    "df.to_sql(\"historic_trades\", con, if_exists=\"append\", index=False)\n",
    "con.close()"
   ]
  },
  {
   "cell_type": "code",
   "execution_count": null,
   "id": "timely-crown",
   "metadata": {
    "ExecuteTime": {
     "end_time": "2021-02-21T14:38:12.189013Z",
     "start_time": "2021-02-21T14:38:12.119994Z"
    }
   },
   "outputs": [],
   "source": [
    "with open('data_raw/ETH.json', 'r') as jj:  # open api results\n",
    "    json_d = json.load(jj)\n",
    "    df_api = pd.DataFrame(json_d)  # save to dataframe\n",
    "df_api['asset_id'] = 'ETH'\n",
    "# df = df_api.head(50)\n",
    "df = df_api\n",
    "\n",
    "con = sqlite3.connect(\"crypto_db.sqlite\")\n",
    "df.to_sql(\"historic_trades\", con, if_exists=\"append\", index=False)\n",
    "con.close()"
   ]
  },
  {
   "cell_type": "code",
   "execution_count": null,
   "id": "ahead-champion",
   "metadata": {
    "ExecuteTime": {
     "end_time": "2021-02-21T14:38:23.718149Z",
     "start_time": "2021-02-21T14:38:23.564524Z"
    }
   },
   "outputs": [],
   "source": [
    "con = sqlite3.connect(database)\n",
    "\n",
    "a = pd.read_sql_query(\n",
    "    \"SELECT * from historic_trades WHERE asset_id='brentoil'\", con)\n",
    "b = pd.read_sql_query(\n",
    "    f\"SELECT * from historic_trades WHERE asset_id='goldfutures'\", con)\n",
    "c = pd.read_sql_query(\n",
    "    \"SELECT * from historic_trades WHERE asset_id='BTC'\", con)\n",
    "d = pd.read_sql_query(\n",
    "    f\"SELECT * from historic_trades WHERE asset_id='ETH'\", con)\n",
    "# df_csv.to_sql(\"historic_trades\", con, if_exists=\"replace\")\n",
    "\n",
    "con.close()\n",
    "\n",
    "display(a, b, c, d)"
   ]
  },
  {
   "cell_type": "code",
   "execution_count": null,
   "id": "heavy-russell",
   "metadata": {
    "ExecuteTime": {
     "end_time": "2021-02-21T14:13:40.211420Z",
     "start_time": "2021-02-21T14:13:40.203422Z"
    }
   },
   "outputs": [],
   "source": [
    "con = sqlite3.connect(\"crypto_db.sqlite\")\n",
    "#pd.read_sql_query(\"SELECT * from historic_trades WHERE asset_id='brentoil'  max('time_period_end')\", con)\n",
    "con.close()\n",
    "\n",
    "\n",
    "# WHERE Dates IN (SELECT max(Dates) FROM table);"
   ]
  },
  {
   "cell_type": "code",
   "execution_count": null,
   "id": "impressed-modeling",
   "metadata": {
    "ExecuteTime": {
     "end_time": "2021-02-21T14:39:06.089853Z",
     "start_time": "2021-02-21T14:39:05.008552Z"
    }
   },
   "outputs": [],
   "source": [
    "import numpy as np\n",
    "import pandas as pd\n",
    "import matplotlib.pyplot as plt\n",
    "from pandas.plotting import lag_plot\n",
    "from pandas import datetime\n",
    "from statsmodels.tsa.arima_model import ARIMA\n",
    "from sklearn.metrics import mean_squared_error"
   ]
  },
  {
   "cell_type": "code",
   "execution_count": null,
   "id": "presidential-photography",
   "metadata": {
    "ExecuteTime": {
     "end_time": "2021-02-21T14:39:07.429033Z",
     "start_time": "2021-02-21T14:39:07.413482Z"
    }
   },
   "outputs": [],
   "source": [
    "df = c.copy()"
   ]
  },
  {
   "cell_type": "code",
   "execution_count": null,
   "id": "particular-infrared",
   "metadata": {
    "ExecuteTime": {
     "end_time": "2021-02-21T15:05:11.264925Z",
     "start_time": "2021-02-21T15:05:09.339021Z"
    },
    "scrolled": false
   },
   "outputs": [],
   "source": [
    "from statsmodels.tsa.stattools import adfuller\n",
    "\n",
    "\n",
    "def test_stationarity(timeseries, window=12, cutoff=0.01):\n",
    "    # Determing rolling statistics\n",
    "    rolmean = timeseries.rolling(window).mean()\n",
    "    rolstd = timeseries.rolling(window).std()\n",
    "    # Plot rolling statistics:\n",
    "    fig = plt.figure(figsize=(12, 8))\n",
    "    orig = plt.plot(timeseries, color='blue', label='Original')\n",
    "    mean = plt.plot(rolmean, color='red', label='Rolling Mean')\n",
    "    std = plt.plot(rolstd, color='black', label='Rolling Std')\n",
    "    plt.legend(loc='best')\n",
    "    plt.title('Rolling Mean & Standard Deviation')\n",
    "    plt.show()\n",
    "    # Perform Dickey-Fuller test:\n",
    "    print('Results of Dickey-Fuller Test:')\n",
    "    dftest = adfuller(timeseries, autolag='AIC', maxlag=100)\n",
    "    dfoutput = pd.Series(dftest[0:4], index=[\n",
    "                         'Test Statistic', 'p-value', '#Lags Used', 'Number of Observations Used'])\n",
    "    for key, value in dftest[4].items():\n",
    "        dfoutput['Critical Value (%s)' % key] = value\n",
    "        pvalue = dftest[1]\n",
    "        if pvalue < cutoff:\n",
    "            print('p-value = %.4f. The series is likely stationary.' % pvalue)\n",
    "        else:\n",
    "            print('p-value = %.4f. The series is likely non-stationary.' % pvalue)\n",
    "    return(dfoutput)\n",
    "#     print(dfoutput)\n",
    "\n",
    "\n",
    "outs = test_stationarity(df['price_close'])\n",
    "outs"
   ]
  },
  {
   "cell_type": "code",
   "execution_count": null,
   "id": "cardiac-condition",
   "metadata": {
    "ExecuteTime": {
     "end_time": "2021-02-21T15:05:26.571154Z",
     "start_time": "2021-02-21T15:05:26.529505Z"
    }
   },
   "outputs": [],
   "source": [
    "import numpy as np\n",
    "from statsmodels.graphics.tsaplots import plot_acf, plot_pacf\n",
    "import matplotlib.pyplot as plt\n",
    "plt.rcParams.update({'figure.figsize': (9, 7), 'figure.dpi': 120})"
   ]
  },
  {
   "cell_type": "code",
   "execution_count": null,
   "id": "finished-military",
   "metadata": {
    "ExecuteTime": {
     "end_time": "2021-02-21T14:40:33.023216Z",
     "start_time": "2021-02-21T14:40:33.007725Z"
    }
   },
   "outputs": [],
   "source": [
    "# # Original Series\n",
    "# fig, axes = plt.subplots(3, 2, sharex=True)\n",
    "# axes[0, 0].plot(df[\"price_close\"].values); axes[0, 0].set_title('Original Series')\n",
    "# plot_acf(df[\"price_close\"].values, ax=axes[0, 1])\n",
    "\n",
    "\n",
    "# # 1st Differencing\n",
    "# axes[1, 0].plot(np.diff(df[\"price_close\"].values)); axes[1, 0].set_title('1st Order Differencing')\n",
    "# df=df.dropna()\n",
    "# plot_acf(np.diff(df[\"price_close\"].values), ax=axes[1, 1])\n",
    "\n",
    "# # 2nd Differencing\n",
    "# axes[2, 0].plot(np.diff(df[\"price_close\"].values)); axes[2, 0].set_title('2nd Order Differencing')\n",
    "# plot_acf(np.diff(df[\"price_close\"].values), ax=axes[2, 1])\n",
    "\n",
    "# plt.show()"
   ]
  },
  {
   "cell_type": "code",
   "execution_count": null,
   "id": "homeless-upgrade",
   "metadata": {
    "ExecuteTime": {
     "end_time": "2021-02-21T15:24:56.604024Z",
     "start_time": "2021-02-21T15:21:59.261138Z"
    }
   },
   "outputs": [],
   "source": [
    "from statsmodels.tsa.arima_model import ARIMAResults\n",
    "import joblib\n",
    "train_data, test_data = df[0:int(len(df)*0.8)], df[int(len(df)*0.8):]\n",
    "\n",
    "filename = f'{df.asset_id[0]}_model.sav'\n",
    "\n",
    "training_data = train_data['price_close'].values\n",
    "test_data = test_data['price_close'].values\n",
    "\n",
    "history = [x for x in training_data]\n",
    "model_predictions = []\n",
    "N_test_observations = len(test_data)\n",
    "\n",
    "for time_point in range(N_test_observations):\n",
    "    model = ARIMA(history, order=(6, 1, 0))\n",
    "    model_fit = model.fit(disp=0)\n",
    "    output = model_fit.forecast()\n",
    "    yhat = output[0]\n",
    "    model_predictions.append(yhat)\n",
    "    true_test_value = test_data[time_point]\n",
    "    history.append(true_test_value)\n",
    "model_fit.save(filename)\n",
    "\n",
    "MSE_error = mean_squared_error(test_data, model_predictions)\n",
    "print('Testing Mean Squared Error is {}'.format(MSE_error))"
   ]
  },
  {
   "cell_type": "code",
   "execution_count": null,
   "id": "worse-saturn",
   "metadata": {
    "ExecuteTime": {
     "end_time": "2021-02-21T15:12:06.418239Z",
     "start_time": "2021-02-21T15:12:06.402609Z"
    }
   },
   "outputs": [],
   "source": [
    "date_df = pd.DataFrame(df[int(len(df)*0.8):].time_period_end)\n",
    "df_test = pd.DataFrame(data=test_data)\n",
    "df_preds = pd.DataFrame(data=model_predictions)\n",
    "\n",
    "#display(date_df.head(3), df_test.head(3), df_preds.head(3))"
   ]
  },
  {
   "cell_type": "code",
   "execution_count": null,
   "id": "stopped-majority",
   "metadata": {
    "ExecuteTime": {
     "end_time": "2021-02-21T15:12:09.134878Z",
     "start_time": "2021-02-21T15:12:09.102984Z"
    }
   },
   "outputs": [],
   "source": [
    "date_df.reset_index(drop=True, inplace=True)\n",
    "df_test.reset_index(drop=True, inplace=True)\n",
    "df_preds.reset_index(drop=True, inplace=True)\n",
    "\n",
    "df_preds = df_preds.shift(periods=-3)\n",
    "\n",
    "# p = p.iloc[:-1]\n",
    "# t = t.iloc[:-1]\n",
    "\n",
    "frames = [date_df['time_period_end'], df_test[0], df_preds[0]]\n",
    "headers = ['Date', 'test', 'preds']\n",
    "graphdata = pd.concat(frames, axis=1, keys=headers)\n",
    "\n",
    "# graphdata = df_test.merge(df_preds, how='inner', suffixes=('_actual', '_prediction'))\n",
    "graphdata"
   ]
  },
  {
   "cell_type": "code",
   "execution_count": null,
   "id": "outstanding-exploration",
   "metadata": {
    "ExecuteTime": {
     "end_time": "2021-02-21T15:12:13.970276Z",
     "start_time": "2021-02-21T15:12:13.515618Z"
    }
   },
   "outputs": [],
   "source": [
    "import plotly.express as px\n",
    "import plotly.graph_objects as go\n",
    "\n",
    "fig = go.Figure([\n",
    "\n",
    "    go.Scatter(\n",
    "        name='Actual',\n",
    "        x=graphdata.Date,\n",
    "        y=graphdata['test'],\n",
    "        mode='lines',\n",
    "        marker=dict(color=\"#008080\"),\n",
    "        line=dict(width=1),\n",
    "        showlegend=True\n",
    "    ),\n",
    "    go.Scatter(\n",
    "        name='Prediction',\n",
    "        x=graphdata.Date,\n",
    "        y=graphdata['preds'],\n",
    "        marker=dict(color=\"#FF8C00\"),\n",
    "        line=dict(width=1),\n",
    "        mode='lines',\n",
    "        fillcolor='rgba(68, 68, 68, 0.3)',\n",
    "        showlegend=True\n",
    "    )\n",
    "])\n",
    "\n",
    "fig.update_layout(\n",
    "    yaxis_title='',\n",
    "    title='',\n",
    "    hovermode=\"x\"\n",
    ")\n",
    "\n",
    "fig.show()"
   ]
  },
  {
   "cell_type": "code",
   "execution_count": null,
   "id": "friendly-dryer",
   "metadata": {
    "ExecuteTime": {
     "end_time": "2021-02-21T15:21:27.859455Z",
     "start_time": "2021-02-21T15:21:27.828218Z"
    }
   },
   "outputs": [],
   "source": [
    "table = graphdata[['test', 'preds']].copy()\n",
    "table.dropna(inplace=True)\n",
    "table['delta'] = graphdata['preds'] - graphdata['test']\n",
    "#table['perc'] = abs(graphdata['delta'] / graphdata['test'])*100\n",
    "\n",
    "table.nlargest(10, ['delta'])\n",
    "\n",
    "table"
   ]
  },
  {
   "cell_type": "code",
   "execution_count": null,
   "id": "worldwide-clark",
   "metadata": {
    "ExecuteTime": {
     "end_time": "2021-02-21T14:02:58.742551Z",
     "start_time": "2021-02-21T14:02:58.730551Z"
    }
   },
   "outputs": [],
   "source": [
    "from statsmodels.tsa.arima_model import ARIMAResults\n",
    "loaded = ARIMAResults.load(filename)"
   ]
  }
 ],
 "metadata": {
  "kernelspec": {
   "display_name": "Python 3",
   "language": "python",
   "name": "python3"
  },
  "language_info": {
   "codemirror_mode": {
    "name": "ipython",
    "version": 3
   },
   "file_extension": ".py",
   "mimetype": "text/x-python",
   "name": "python",
   "nbconvert_exporter": "python",
   "pygments_lexer": "ipython3",
   "version": "3.8.5"
  },
  "varInspector": {
   "cols": {
    "lenName": 16,
    "lenType": 16,
    "lenVar": 40
   },
   "kernels_config": {
    "python": {
     "delete_cmd_postfix": "",
     "delete_cmd_prefix": "del ",
     "library": "var_list.py",
     "varRefreshCmd": "print(var_dic_list())"
    },
    "r": {
     "delete_cmd_postfix": ") ",
     "delete_cmd_prefix": "rm(",
     "library": "var_list.r",
     "varRefreshCmd": "cat(var_dic_list()) "
    }
   },
   "types_to_exclude": [
    "module",
    "function",
    "builtin_function_or_method",
    "instance",
    "_Feature"
   ],
   "window_display": false
  }
 },
 "nbformat": 4,
 "nbformat_minor": 5
}
