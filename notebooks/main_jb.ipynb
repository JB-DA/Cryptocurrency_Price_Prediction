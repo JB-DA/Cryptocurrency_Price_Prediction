{
 "cells": [
  {
   "cell_type": "code",
   "execution_count": 54,
   "id": "ambient-minutes",
   "metadata": {
    "ExecuteTime": {
     "end_time": "2021-02-17T09:31:41.570749Z",
     "start_time": "2021-02-17T09:31:41.566794Z"
    }
   },
   "outputs": [],
   "source": [
    "#####\n",
    "###\n",
    "##\n",
    "#\n",
    "#   PROJECT DETAILS HERE\n",
    "#\n",
    "##\n",
    "###\n",
    "#####\n",
    "\n",
    "### SETTINGS\n",
    "##\n",
    "# Dependencies\n",
    "import requests\n",
    "import json\n",
    "import pandas as pd\n",
    "from datetime import date\n",
    "import plotly.express as px\n",
    "\n",
    "asset_id_base = 'BTC'\n",
    "limit = 100\n",
    "\n",
    "# API Keys\n",
    "# Daily limits apply, make sure to only use 1\n",
    "#apikey_coinapi = 'B44F0242-E0BA-4C1A-BED2-831A67426480'\n",
    "#apikey_coinapi = '1830D89F-A633-4F73-9707-3A7FAFE5C0F0'\n",
    "apikey_coinapi = '200EF4DD-8BF3-4A8A-9FC9-CF9C9D6D1173'"
   ]
  },
  {
   "cell_type": "code",
   "execution_count": 55,
   "id": "little-acoustic",
   "metadata": {
    "ExecuteTime": {
     "end_time": "2021-02-17T09:31:43.255048Z",
     "start_time": "2021-02-17T09:31:43.252031Z"
    }
   },
   "outputs": [],
   "source": [
    "# # Download the list of assets\n",
    "\n",
    "# # #Assets\n",
    "\n",
    "# # https://docs.coinapi.io/#list-all-assets\n",
    "# url = 'https://rest.coinapi.io/v1/assets'\n",
    "# headers = { 'X-CoinAPI-Key' : 'B44F0242-E0BA-4C1A-BED2-831A67426480' }\n",
    "# response = requests.get(url, headers=headers)\n",
    "\n",
    "# with open( 'data_raw/assets.json', 'w' ) as ii:\n",
    "#     json.dump( response.json(), ii )"
   ]
  },
  {
   "cell_type": "code",
   "execution_count": 56,
   "id": "yellow-chamber",
   "metadata": {
    "ExecuteTime": {
     "end_time": "2021-02-17T09:31:44.031792Z",
     "start_time": "2021-02-17T09:31:43.940716Z"
    }
   },
   "outputs": [],
   "source": [
    "#load downloaded asset list to pandas frame\n",
    "with open( 'data_raw/assets.json', 'r' ) as jj:\n",
    "    json_d = json.load( jj )\n",
    "    df_assets = pd.DataFrame( json_d )"
   ]
  },
  {
   "cell_type": "code",
   "execution_count": 91,
   "id": "gross-observer",
   "metadata": {
    "ExecuteTime": {
     "end_time": "2021-02-17T10:36:37.023513Z",
     "start_time": "2021-02-17T10:36:36.996919Z"
    },
    "scrolled": false
   },
   "outputs": [
    {
     "data": {
      "text/html": [
       "<div>\n",
       "<style scoped>\n",
       "    .dataframe tbody tr th:only-of-type {\n",
       "        vertical-align: middle;\n",
       "    }\n",
       "\n",
       "    .dataframe tbody tr th {\n",
       "        vertical-align: top;\n",
       "    }\n",
       "\n",
       "    .dataframe thead th {\n",
       "        text-align: right;\n",
       "    }\n",
       "</style>\n",
       "<table border=\"1\" class=\"dataframe\">\n",
       "  <thead>\n",
       "    <tr style=\"text-align: right;\">\n",
       "      <th></th>\n",
       "      <th>asset_id</th>\n",
       "      <th>name</th>\n",
       "      <th>type_is_crypto</th>\n",
       "      <th>data_start</th>\n",
       "      <th>data_end</th>\n",
       "      <th>data_symbols_count</th>\n",
       "      <th>volume_1hrs_usd</th>\n",
       "      <th>volume_1day_usd</th>\n",
       "      <th>volume_1mth_usd</th>\n",
       "      <th>price_usd</th>\n",
       "      <th>id_icon</th>\n",
       "    </tr>\n",
       "  </thead>\n",
       "  <tbody>\n",
       "    <tr>\n",
       "      <th>0</th>\n",
       "      <td>BTC</td>\n",
       "      <td>Bitcoin</td>\n",
       "      <td>1</td>\n",
       "      <td>2010-07-17</td>\n",
       "      <td>2021-02-08</td>\n",
       "      <td>47678</td>\n",
       "      <td>9.060663e+12</td>\n",
       "      <td>3.153321e+14</td>\n",
       "      <td>1.315314e+16</td>\n",
       "      <td>39186.174251</td>\n",
       "      <td>4caf2b16-a017-4e26-a348-2cea69c34cba</td>\n",
       "    </tr>\n",
       "    <tr>\n",
       "      <th>1</th>\n",
       "      <td>USD</td>\n",
       "      <td>US Dollar</td>\n",
       "      <td>0</td>\n",
       "      <td>2010-07-17</td>\n",
       "      <td>2021-02-08</td>\n",
       "      <td>43055</td>\n",
       "      <td>9.283904e+12</td>\n",
       "      <td>3.214332e+14</td>\n",
       "      <td>1.327275e+16</td>\n",
       "      <td>NaN</td>\n",
       "      <td>0a4185f2-1a03-4a7c-b866-ba7076d8c73b</td>\n",
       "    </tr>\n",
       "    <tr>\n",
       "      <th>2</th>\n",
       "      <td>PLN</td>\n",
       "      <td>Zloty</td>\n",
       "      <td>0</td>\n",
       "      <td>2011-04-05</td>\n",
       "      <td>2021-02-08</td>\n",
       "      <td>57</td>\n",
       "      <td>3.719296e+06</td>\n",
       "      <td>5.076524e+07</td>\n",
       "      <td>2.562955e+09</td>\n",
       "      <td>0.266961</td>\n",
       "      <td>3f682b5b-77ec-4d8c-b612-b8ff3ac748f7</td>\n",
       "    </tr>\n",
       "    <tr>\n",
       "      <th>3</th>\n",
       "      <td>EUR</td>\n",
       "      <td>Euro</td>\n",
       "      <td>0</td>\n",
       "      <td>2011-04-06</td>\n",
       "      <td>2021-02-08</td>\n",
       "      <td>1265</td>\n",
       "      <td>1.414691e+10</td>\n",
       "      <td>2.097391e+11</td>\n",
       "      <td>5.891991e+12</td>\n",
       "      <td>1.198300</td>\n",
       "      <td>688fcf1c-92bb-4c84-ac95-0971e9bfed2f</td>\n",
       "    </tr>\n",
       "    <tr>\n",
       "      <th>4</th>\n",
       "      <td>CNY</td>\n",
       "      <td>Yuan Renminbi</td>\n",
       "      <td>0</td>\n",
       "      <td>2011-06-13</td>\n",
       "      <td>2021-02-08</td>\n",
       "      <td>421</td>\n",
       "      <td>0.000000e+00</td>\n",
       "      <td>0.000000e+00</td>\n",
       "      <td>2.063000e+01</td>\n",
       "      <td>0.154984</td>\n",
       "      <td>NaN</td>\n",
       "    </tr>\n",
       "  </tbody>\n",
       "</table>\n",
       "</div>"
      ],
      "text/plain": [
       "  asset_id           name  type_is_crypto  data_start    data_end  \\\n",
       "0      BTC        Bitcoin               1  2010-07-17  2021-02-08   \n",
       "1      USD      US Dollar               0  2010-07-17  2021-02-08   \n",
       "2      PLN          Zloty               0  2011-04-05  2021-02-08   \n",
       "3      EUR           Euro               0  2011-04-06  2021-02-08   \n",
       "4      CNY  Yuan Renminbi               0  2011-06-13  2021-02-08   \n",
       "\n",
       "   data_symbols_count  volume_1hrs_usd  volume_1day_usd  volume_1mth_usd  \\\n",
       "0               47678     9.060663e+12     3.153321e+14     1.315314e+16   \n",
       "1               43055     9.283904e+12     3.214332e+14     1.327275e+16   \n",
       "2                  57     3.719296e+06     5.076524e+07     2.562955e+09   \n",
       "3                1265     1.414691e+10     2.097391e+11     5.891991e+12   \n",
       "4                 421     0.000000e+00     0.000000e+00     2.063000e+01   \n",
       "\n",
       "      price_usd                               id_icon  \n",
       "0  39186.174251  4caf2b16-a017-4e26-a348-2cea69c34cba  \n",
       "1           NaN  0a4185f2-1a03-4a7c-b866-ba7076d8c73b  \n",
       "2      0.266961  3f682b5b-77ec-4d8c-b612-b8ff3ac748f7  \n",
       "3      1.198300  688fcf1c-92bb-4c84-ac95-0971e9bfed2f  \n",
       "4      0.154984                                   NaN  "
      ]
     },
     "execution_count": 91,
     "metadata": {},
     "output_type": "execute_result"
    }
   ],
   "source": [
    "df_assets[['asset_id', 'name', 'type_is_crypto', 'data_start', 'data_end', 'data_symbols_count', 'volume_1hrs_usd', 'volume_1day_usd', 'volume_1mth_usd', 'price_usd', 'id_icon']].head(5)"
   ]
  },
  {
   "cell_type": "code",
   "execution_count": 58,
   "id": "worst-services",
   "metadata": {
    "ExecuteTime": {
     "end_time": "2021-02-17T09:31:45.507483Z",
     "start_time": "2021-02-17T09:31:45.482485Z"
    },
    "scrolled": false
   },
   "outputs": [
    {
     "data": {
      "text/html": [
       "<div>\n",
       "<style scoped>\n",
       "    .dataframe tbody tr th:only-of-type {\n",
       "        vertical-align: middle;\n",
       "    }\n",
       "\n",
       "    .dataframe tbody tr th {\n",
       "        vertical-align: top;\n",
       "    }\n",
       "\n",
       "    .dataframe thead th {\n",
       "        text-align: right;\n",
       "    }\n",
       "</style>\n",
       "<table border=\"1\" class=\"dataframe\">\n",
       "  <thead>\n",
       "    <tr style=\"text-align: right;\">\n",
       "      <th></th>\n",
       "      <th>asset_id</th>\n",
       "      <th>name</th>\n",
       "      <th>type_is_crypto</th>\n",
       "      <th>data_start</th>\n",
       "      <th>data_end</th>\n",
       "      <th>data_quote_start</th>\n",
       "      <th>data_quote_end</th>\n",
       "      <th>data_orderbook_start</th>\n",
       "      <th>data_orderbook_end</th>\n",
       "      <th>data_trade_start</th>\n",
       "      <th>data_trade_end</th>\n",
       "      <th>data_symbols_count</th>\n",
       "      <th>volume_1hrs_usd</th>\n",
       "      <th>volume_1day_usd</th>\n",
       "      <th>volume_1mth_usd</th>\n",
       "      <th>price_usd</th>\n",
       "      <th>id_icon</th>\n",
       "    </tr>\n",
       "  </thead>\n",
       "  <tbody>\n",
       "    <tr>\n",
       "      <th>0</th>\n",
       "      <td>BTC</td>\n",
       "      <td>Bitcoin</td>\n",
       "      <td>1</td>\n",
       "      <td>2010-07-17</td>\n",
       "      <td>2021-02-08</td>\n",
       "      <td>2014-02-24T17:43:05.0000000Z</td>\n",
       "      <td>2021-02-08T08:34:49.1645002Z</td>\n",
       "      <td>2014-02-24T17:43:05.0000000Z</td>\n",
       "      <td>2020-08-05T14:38:38.3413202Z</td>\n",
       "      <td>2010-07-17T23:09:17.0000000Z</td>\n",
       "      <td>2021-02-08T10:13:31.0000000Z</td>\n",
       "      <td>47678</td>\n",
       "      <td>9.060663e+12</td>\n",
       "      <td>3.153321e+14</td>\n",
       "      <td>1.315314e+16</td>\n",
       "      <td>39186.174251</td>\n",
       "      <td>4caf2b16-a017-4e26-a348-2cea69c34cba</td>\n",
       "    </tr>\n",
       "    <tr>\n",
       "      <th>17</th>\n",
       "      <td>NIS</td>\n",
       "      <td>NIS</td>\n",
       "      <td>1</td>\n",
       "      <td>2013-03-15</td>\n",
       "      <td>2021-02-08</td>\n",
       "      <td>2018-01-24T00:42:50.1443495Z</td>\n",
       "      <td>2021-02-08T08:27:33.3199822Z</td>\n",
       "      <td>2018-01-24T00:42:50.1443495Z</td>\n",
       "      <td>2020-08-05T14:37:37.8190850Z</td>\n",
       "      <td>2013-03-15T12:48:43.0000000Z</td>\n",
       "      <td>2020-06-25T13:09:04.0000000Z</td>\n",
       "      <td>8</td>\n",
       "      <td>0.000000e+00</td>\n",
       "      <td>0.000000e+00</td>\n",
       "      <td>0.000000e+00</td>\n",
       "      <td>0.289939</td>\n",
       "      <td>NaN</td>\n",
       "    </tr>\n",
       "    <tr>\n",
       "      <th>18</th>\n",
       "      <td>LTC</td>\n",
       "      <td>Litecoin</td>\n",
       "      <td>1</td>\n",
       "      <td>2013-05-19</td>\n",
       "      <td>2021-02-08</td>\n",
       "      <td>2014-04-20T15:06:34.0000000Z</td>\n",
       "      <td>2021-02-08T08:33:59.5351489Z</td>\n",
       "      <td>2014-04-20T15:06:34.0000000Z</td>\n",
       "      <td>2020-08-05T14:37:59.4868435Z</td>\n",
       "      <td>2013-05-19T15:23:45.0000000Z</td>\n",
       "      <td>2021-02-08T08:34:38.3580000Z</td>\n",
       "      <td>4022</td>\n",
       "      <td>3.744373e+09</td>\n",
       "      <td>1.109785e+11</td>\n",
       "      <td>3.925387e+12</td>\n",
       "      <td>152.148505</td>\n",
       "      <td>a201762f-1499-41ef-9b84-e0742cd00e48</td>\n",
       "    </tr>\n",
       "    <tr>\n",
       "      <th>20</th>\n",
       "      <td>VEN</td>\n",
       "      <td>VeChain (pre-swap)</td>\n",
       "      <td>1</td>\n",
       "      <td>2013-10-22</td>\n",
       "      <td>2021-02-08</td>\n",
       "      <td>2014-07-31T13:05:46.0000000Z</td>\n",
       "      <td>2021-02-08T08:32:23.6146926Z</td>\n",
       "      <td>2014-07-31T13:05:46.0000000Z</td>\n",
       "      <td>2020-08-05T14:37:58.3010000Z</td>\n",
       "      <td>2013-10-22T23:09:46.8630000Z</td>\n",
       "      <td>2021-02-08T08:32:38.3330000Z</td>\n",
       "      <td>131</td>\n",
       "      <td>2.484975e+06</td>\n",
       "      <td>8.811079e+07</td>\n",
       "      <td>3.465864e+09</td>\n",
       "      <td>0.030039</td>\n",
       "      <td>99d66a67-9bdc-4b85-84ac-2a23f912b398</td>\n",
       "    </tr>\n",
       "    <tr>\n",
       "      <th>21</th>\n",
       "      <td>XRP</td>\n",
       "      <td>Ripple</td>\n",
       "      <td>1</td>\n",
       "      <td>2013-11-25</td>\n",
       "      <td>2021-02-08</td>\n",
       "      <td>2014-07-31T13:05:46.0000000Z</td>\n",
       "      <td>2021-02-08T08:34:03.9960603Z</td>\n",
       "      <td>2014-07-31T13:05:46.0000000Z</td>\n",
       "      <td>2020-08-05T14:37:58.7010000Z</td>\n",
       "      <td>2013-11-25T11:54:57.9270000Z</td>\n",
       "      <td>2021-02-08T08:34:18.5383130Z</td>\n",
       "      <td>1758</td>\n",
       "      <td>1.231453e+08</td>\n",
       "      <td>4.606453e+09</td>\n",
       "      <td>2.148420e+11</td>\n",
       "      <td>0.429193</td>\n",
       "      <td>ba90bcb0-cafb-4801-ac5d-d310f47d6411</td>\n",
       "    </tr>\n",
       "  </tbody>\n",
       "</table>\n",
       "</div>"
      ],
      "text/plain": [
       "   asset_id                name  type_is_crypto  data_start    data_end  \\\n",
       "0       BTC             Bitcoin               1  2010-07-17  2021-02-08   \n",
       "17      NIS                 NIS               1  2013-03-15  2021-02-08   \n",
       "18      LTC            Litecoin               1  2013-05-19  2021-02-08   \n",
       "20      VEN  VeChain (pre-swap)               1  2013-10-22  2021-02-08   \n",
       "21      XRP              Ripple               1  2013-11-25  2021-02-08   \n",
       "\n",
       "                data_quote_start                data_quote_end  \\\n",
       "0   2014-02-24T17:43:05.0000000Z  2021-02-08T08:34:49.1645002Z   \n",
       "17  2018-01-24T00:42:50.1443495Z  2021-02-08T08:27:33.3199822Z   \n",
       "18  2014-04-20T15:06:34.0000000Z  2021-02-08T08:33:59.5351489Z   \n",
       "20  2014-07-31T13:05:46.0000000Z  2021-02-08T08:32:23.6146926Z   \n",
       "21  2014-07-31T13:05:46.0000000Z  2021-02-08T08:34:03.9960603Z   \n",
       "\n",
       "            data_orderbook_start            data_orderbook_end  \\\n",
       "0   2014-02-24T17:43:05.0000000Z  2020-08-05T14:38:38.3413202Z   \n",
       "17  2018-01-24T00:42:50.1443495Z  2020-08-05T14:37:37.8190850Z   \n",
       "18  2014-04-20T15:06:34.0000000Z  2020-08-05T14:37:59.4868435Z   \n",
       "20  2014-07-31T13:05:46.0000000Z  2020-08-05T14:37:58.3010000Z   \n",
       "21  2014-07-31T13:05:46.0000000Z  2020-08-05T14:37:58.7010000Z   \n",
       "\n",
       "                data_trade_start                data_trade_end  \\\n",
       "0   2010-07-17T23:09:17.0000000Z  2021-02-08T10:13:31.0000000Z   \n",
       "17  2013-03-15T12:48:43.0000000Z  2020-06-25T13:09:04.0000000Z   \n",
       "18  2013-05-19T15:23:45.0000000Z  2021-02-08T08:34:38.3580000Z   \n",
       "20  2013-10-22T23:09:46.8630000Z  2021-02-08T08:32:38.3330000Z   \n",
       "21  2013-11-25T11:54:57.9270000Z  2021-02-08T08:34:18.5383130Z   \n",
       "\n",
       "    data_symbols_count  volume_1hrs_usd  volume_1day_usd  volume_1mth_usd  \\\n",
       "0                47678     9.060663e+12     3.153321e+14     1.315314e+16   \n",
       "17                   8     0.000000e+00     0.000000e+00     0.000000e+00   \n",
       "18                4022     3.744373e+09     1.109785e+11     3.925387e+12   \n",
       "20                 131     2.484975e+06     8.811079e+07     3.465864e+09   \n",
       "21                1758     1.231453e+08     4.606453e+09     2.148420e+11   \n",
       "\n",
       "       price_usd                               id_icon  \n",
       "0   39186.174251  4caf2b16-a017-4e26-a348-2cea69c34cba  \n",
       "17      0.289939                                   NaN  \n",
       "18    152.148505  a201762f-1499-41ef-9b84-e0742cd00e48  \n",
       "20      0.030039  99d66a67-9bdc-4b85-84ac-2a23f912b398  \n",
       "21      0.429193  ba90bcb0-cafb-4801-ac5d-d310f47d6411  "
      ]
     },
     "execution_count": 58,
     "metadata": {},
     "output_type": "execute_result"
    }
   ],
   "source": [
    "#show only assets that are crypto\n",
    "df_assets.loc[df_assets['type_is_crypto'] == 1].head(5)"
   ]
  },
  {
   "cell_type": "code",
   "execution_count": 59,
   "id": "vulnerable-auction",
   "metadata": {
    "ExecuteTime": {
     "end_time": "2021-02-17T09:31:47.693012Z",
     "start_time": "2021-02-17T09:31:47.677954Z"
    }
   },
   "outputs": [
    {
     "data": {
      "text/html": [
       "<div>\n",
       "<style scoped>\n",
       "    .dataframe tbody tr th:only-of-type {\n",
       "        vertical-align: middle;\n",
       "    }\n",
       "\n",
       "    .dataframe tbody tr th {\n",
       "        vertical-align: top;\n",
       "    }\n",
       "\n",
       "    .dataframe thead th {\n",
       "        text-align: right;\n",
       "    }\n",
       "</style>\n",
       "<table border=\"1\" class=\"dataframe\">\n",
       "  <thead>\n",
       "    <tr style=\"text-align: right;\">\n",
       "      <th></th>\n",
       "      <th>asset_id</th>\n",
       "      <th>name</th>\n",
       "      <th>type_is_crypto</th>\n",
       "      <th>price_usd</th>\n",
       "      <th>data_start</th>\n",
       "      <th>data_end</th>\n",
       "      <th>data_symbols_count</th>\n",
       "      <th>volume_1hrs_usd</th>\n",
       "      <th>volume_1day_usd</th>\n",
       "      <th>volume_1mth_usd</th>\n",
       "    </tr>\n",
       "  </thead>\n",
       "  <tbody>\n",
       "    <tr>\n",
       "      <th>0</th>\n",
       "      <td>BTC</td>\n",
       "      <td>Bitcoin</td>\n",
       "      <td>1</td>\n",
       "      <td>39186.174251</td>\n",
       "      <td>2010-07-17</td>\n",
       "      <td>2021-02-08</td>\n",
       "      <td>47678</td>\n",
       "      <td>9.060663e+12</td>\n",
       "      <td>3.153321e+14</td>\n",
       "      <td>1.315314e+16</td>\n",
       "    </tr>\n",
       "  </tbody>\n",
       "</table>\n",
       "</div>"
      ],
      "text/plain": [
       "  asset_id     name  type_is_crypto     price_usd  data_start    data_end  \\\n",
       "0      BTC  Bitcoin               1  39186.174251  2010-07-17  2021-02-08   \n",
       "\n",
       "   data_symbols_count  volume_1hrs_usd  volume_1day_usd  volume_1mth_usd  \n",
       "0               47678     9.060663e+12     3.153321e+14     1.315314e+16  "
      ]
     },
     "execution_count": 59,
     "metadata": {},
     "output_type": "execute_result"
    }
   ],
   "source": [
    "df_assets.loc[df_assets['asset_id'] == asset_id_base, ['asset_id', 'name', 'type_is_crypto', 'price_usd', 'data_start', 'data_end', 'data_symbols_count', 'volume_1hrs_usd', 'volume_1day_usd', 'volume_1mth_usd']]"
   ]
  },
  {
   "cell_type": "code",
   "execution_count": 60,
   "id": "threatened-industry",
   "metadata": {
    "ExecuteTime": {
     "end_time": "2021-02-17T09:31:48.879667Z",
     "start_time": "2021-02-17T09:31:48.876624Z"
    }
   },
   "outputs": [],
   "source": [
    "#record # of days data available, vs, total amount of data available\n",
    "#can be used on webpage to show % complete information\n",
    "#also to show rough number of API calls used (100 results = 1 call)\n",
    "\n",
    "# date_start = df_assets[df_assets['asset_id'] == asset_id_base]['data_start']\n",
    "\n",
    "# today = date.today()\n",
    "\n",
    "# print(f'{asset_id_base} Data Start: {date_start.iloc[0]}, Today: {today}')\n",
    "# print(f'Number of Days: {(today - date_start.iloc[0]).days}')\n",
    "# #print(f'Approx # of API calls to calculate: { (today - date_start.iloc[0])/100 }')\n",
    "\n",
    "# print(date_start.iloc[0])"
   ]
  },
  {
   "cell_type": "code",
   "execution_count": 61,
   "id": "married-summer",
   "metadata": {
    "ExecuteTime": {
     "end_time": "2021-02-17T09:31:49.927796Z",
     "start_time": "2021-02-17T09:31:49.914790Z"
    }
   },
   "outputs": [
    {
     "data": {
      "text/html": [
       "<div>\n",
       "<style scoped>\n",
       "    .dataframe tbody tr th:only-of-type {\n",
       "        vertical-align: middle;\n",
       "    }\n",
       "\n",
       "    .dataframe tbody tr th {\n",
       "        vertical-align: top;\n",
       "    }\n",
       "\n",
       "    .dataframe thead th {\n",
       "        text-align: right;\n",
       "    }\n",
       "</style>\n",
       "<table border=\"1\" class=\"dataframe\">\n",
       "  <thead>\n",
       "    <tr style=\"text-align: right;\">\n",
       "      <th></th>\n",
       "      <th>asset_id</th>\n",
       "      <th>name</th>\n",
       "      <th>type_is_crypto</th>\n",
       "      <th>data_end</th>\n",
       "      <th>price_usd</th>\n",
       "    </tr>\n",
       "  </thead>\n",
       "  <tbody>\n",
       "    <tr>\n",
       "      <th>6</th>\n",
       "      <td>AUD</td>\n",
       "      <td>Australian Dollar</td>\n",
       "      <td>0</td>\n",
       "      <td>2021-02-08</td>\n",
       "      <td>0.761895</td>\n",
       "    </tr>\n",
       "  </tbody>\n",
       "</table>\n",
       "</div>"
      ],
      "text/plain": [
       "  asset_id               name  type_is_crypto    data_end  price_usd\n",
       "6      AUD  Australian Dollar               0  2021-02-08   0.761895"
      ]
     },
     "execution_count": 61,
     "metadata": {},
     "output_type": "execute_result"
    }
   ],
   "source": [
    "#check USD > AUD conversion rate\n",
    "df_assets.loc[df_assets['asset_id'] == 'AUD', ['asset_id', 'name', 'type_is_crypto', 'data_end', 'price_usd']]"
   ]
  },
  {
   "cell_type": "code",
   "execution_count": 62,
   "id": "looking-dutch",
   "metadata": {
    "ExecuteTime": {
     "end_time": "2021-02-17T09:31:58.749739Z",
     "start_time": "2021-02-17T09:31:57.402917Z"
    }
   },
   "outputs": [
    {
     "data": {
      "text/plain": [
       "'<Response [200]>'"
      ]
     },
     "metadata": {},
     "output_type": "display_data"
    }
   ],
   "source": [
    "#get historical data, starting from beginning date in 'assets.json' for particular asset\n",
    "#asset_id_base = 'LTC'\n",
    "asset_id_quote = 'USD'\n",
    "time_start = df_assets[df_assets['asset_id'] == asset_id_base]['data_start']\n",
    "period_id = '1DAY'\n",
    "endpoint = 'https://rest.coinapi.io'\n",
    "#limit = 3\n",
    "include_empty_items = False\n",
    "\n",
    "\n",
    "# furl = f\"{endpoint}/v1/ohlcv/{asset_id_base}/{asset_id_quote}/history?period_id={period_id}&time_start={time_start.iloc[0]}&limit={limit}&include_empty_items={include_empty_items}\"\n",
    "\n",
    "# url = furl\n",
    "# headers = {'X-CoinAPI-Key' : apikey_coinapi }\n",
    "# response = requests.get(url, headers=headers)\n",
    "\n",
    "# display(f'{response}')\n",
    "\n",
    "# #save to asset_id_base.json\n",
    "# with open( f'data_raw/{asset_id_base}.json', 'w' ) as ii:\n",
    "#     json.dump( response.json(), ii )"
   ]
  },
  {
   "cell_type": "code",
   "execution_count": 63,
   "id": "canadian-scheme",
   "metadata": {
    "ExecuteTime": {
     "end_time": "2021-02-17T09:32:05.891292Z",
     "start_time": "2021-02-17T09:32:05.857347Z"
    }
   },
   "outputs": [
    {
     "data": {
      "text/html": [
       "<div>\n",
       "<style scoped>\n",
       "    .dataframe tbody tr th:only-of-type {\n",
       "        vertical-align: middle;\n",
       "    }\n",
       "\n",
       "    .dataframe tbody tr th {\n",
       "        vertical-align: top;\n",
       "    }\n",
       "\n",
       "    .dataframe thead th {\n",
       "        text-align: right;\n",
       "    }\n",
       "</style>\n",
       "<table border=\"1\" class=\"dataframe\">\n",
       "  <thead>\n",
       "    <tr style=\"text-align: right;\">\n",
       "      <th></th>\n",
       "      <th>time_period_start</th>\n",
       "      <th>time_period_end</th>\n",
       "      <th>time_open</th>\n",
       "      <th>time_close</th>\n",
       "      <th>price_open</th>\n",
       "      <th>price_high</th>\n",
       "      <th>price_low</th>\n",
       "      <th>price_close</th>\n",
       "      <th>volume_traded</th>\n",
       "      <th>trades_count</th>\n",
       "    </tr>\n",
       "  </thead>\n",
       "  <tbody>\n",
       "    <tr>\n",
       "      <th>0</th>\n",
       "      <td>2011-09-13T00:00:00.0000000Z</td>\n",
       "      <td>2011-09-14T00:00:00.0000000Z</td>\n",
       "      <td>2011-09-13T13:53:36.0000000Z</td>\n",
       "      <td>2011-09-13T19:34:36.0000000Z</td>\n",
       "      <td>5.80</td>\n",
       "      <td>6.00</td>\n",
       "      <td>5.65</td>\n",
       "      <td>5.97</td>\n",
       "      <td>58.371382</td>\n",
       "      <td>12</td>\n",
       "    </tr>\n",
       "    <tr>\n",
       "      <th>1</th>\n",
       "      <td>2011-09-14T00:00:00.0000000Z</td>\n",
       "      <td>2011-09-15T00:00:00.0000000Z</td>\n",
       "      <td>2011-09-14T07:00:00.0000000Z</td>\n",
       "      <td>2011-09-14T15:42:31.0000000Z</td>\n",
       "      <td>5.58</td>\n",
       "      <td>5.72</td>\n",
       "      <td>5.52</td>\n",
       "      <td>5.53</td>\n",
       "      <td>61.145984</td>\n",
       "      <td>14</td>\n",
       "    </tr>\n",
       "    <tr>\n",
       "      <th>2</th>\n",
       "      <td>2011-09-15T00:00:00.0000000Z</td>\n",
       "      <td>2011-09-16T00:00:00.0000000Z</td>\n",
       "      <td>2011-09-15T08:39:33.0000000Z</td>\n",
       "      <td>2011-09-15T15:11:22.0000000Z</td>\n",
       "      <td>5.12</td>\n",
       "      <td>5.24</td>\n",
       "      <td>5.00</td>\n",
       "      <td>5.13</td>\n",
       "      <td>80.140795</td>\n",
       "      <td>6</td>\n",
       "    </tr>\n",
       "    <tr>\n",
       "      <th>3</th>\n",
       "      <td>2011-09-16T00:00:00.0000000Z</td>\n",
       "      <td>2011-09-17T00:00:00.0000000Z</td>\n",
       "      <td>2011-09-16T07:02:06.0000000Z</td>\n",
       "      <td>2011-09-16T16:13:02.0000000Z</td>\n",
       "      <td>4.82</td>\n",
       "      <td>4.87</td>\n",
       "      <td>4.80</td>\n",
       "      <td>4.85</td>\n",
       "      <td>39.914007</td>\n",
       "      <td>4</td>\n",
       "    </tr>\n",
       "    <tr>\n",
       "      <th>4</th>\n",
       "      <td>2011-09-17T00:00:00.0000000Z</td>\n",
       "      <td>2011-09-18T00:00:00.0000000Z</td>\n",
       "      <td>2011-09-17T15:32:08.0000000Z</td>\n",
       "      <td>2011-09-17T15:32:08.0000000Z</td>\n",
       "      <td>4.87</td>\n",
       "      <td>4.87</td>\n",
       "      <td>4.87</td>\n",
       "      <td>4.87</td>\n",
       "      <td>0.300000</td>\n",
       "      <td>1</td>\n",
       "    </tr>\n",
       "    <tr>\n",
       "      <th>...</th>\n",
       "      <td>...</td>\n",
       "      <td>...</td>\n",
       "      <td>...</td>\n",
       "      <td>...</td>\n",
       "      <td>...</td>\n",
       "      <td>...</td>\n",
       "      <td>...</td>\n",
       "      <td>...</td>\n",
       "      <td>...</td>\n",
       "      <td>...</td>\n",
       "    </tr>\n",
       "    <tr>\n",
       "      <th>95</th>\n",
       "      <td>2012-01-04T00:00:00.0000000Z</td>\n",
       "      <td>2012-01-05T00:00:00.0000000Z</td>\n",
       "      <td>2012-01-04T04:17:56.0000000Z</td>\n",
       "      <td>2012-01-04T17:51:57.0000000Z</td>\n",
       "      <td>4.93</td>\n",
       "      <td>5.57</td>\n",
       "      <td>4.93</td>\n",
       "      <td>5.37</td>\n",
       "      <td>107.233260</td>\n",
       "      <td>20</td>\n",
       "    </tr>\n",
       "    <tr>\n",
       "      <th>96</th>\n",
       "      <td>2012-01-05T00:00:00.0000000Z</td>\n",
       "      <td>2012-01-06T00:00:00.0000000Z</td>\n",
       "      <td>2012-01-05T01:40:09.0000000Z</td>\n",
       "      <td>2012-01-05T23:46:01.0000000Z</td>\n",
       "      <td>5.72</td>\n",
       "      <td>6.65</td>\n",
       "      <td>5.72</td>\n",
       "      <td>6.65</td>\n",
       "      <td>94.801829</td>\n",
       "      <td>29</td>\n",
       "    </tr>\n",
       "    <tr>\n",
       "      <th>97</th>\n",
       "      <td>2012-01-06T00:00:00.0000000Z</td>\n",
       "      <td>2012-01-07T00:00:00.0000000Z</td>\n",
       "      <td>2012-01-06T06:02:28.0000000Z</td>\n",
       "      <td>2012-01-06T20:22:48.0000000Z</td>\n",
       "      <td>6.65</td>\n",
       "      <td>6.90</td>\n",
       "      <td>6.00</td>\n",
       "      <td>6.00</td>\n",
       "      <td>33.882747</td>\n",
       "      <td>21</td>\n",
       "    </tr>\n",
       "    <tr>\n",
       "      <th>98</th>\n",
       "      <td>2012-01-07T00:00:00.0000000Z</td>\n",
       "      <td>2012-01-08T00:00:00.0000000Z</td>\n",
       "      <td>2012-01-07T18:14:19.0000000Z</td>\n",
       "      <td>2012-01-07T18:14:19.0000000Z</td>\n",
       "      <td>6.80</td>\n",
       "      <td>6.80</td>\n",
       "      <td>6.80</td>\n",
       "      <td>6.80</td>\n",
       "      <td>0.295858</td>\n",
       "      <td>1</td>\n",
       "    </tr>\n",
       "    <tr>\n",
       "      <th>99</th>\n",
       "      <td>2012-01-08T00:00:00.0000000Z</td>\n",
       "      <td>2012-01-09T00:00:00.0000000Z</td>\n",
       "      <td>2012-01-08T14:20:51.0000000Z</td>\n",
       "      <td>2012-01-08T23:31:23.0000000Z</td>\n",
       "      <td>6.90</td>\n",
       "      <td>7.00</td>\n",
       "      <td>6.90</td>\n",
       "      <td>7.00</td>\n",
       "      <td>5.000000</td>\n",
       "      <td>2</td>\n",
       "    </tr>\n",
       "  </tbody>\n",
       "</table>\n",
       "<p>100 rows × 10 columns</p>\n",
       "</div>"
      ],
      "text/plain": [
       "               time_period_start               time_period_end  \\\n",
       "0   2011-09-13T00:00:00.0000000Z  2011-09-14T00:00:00.0000000Z   \n",
       "1   2011-09-14T00:00:00.0000000Z  2011-09-15T00:00:00.0000000Z   \n",
       "2   2011-09-15T00:00:00.0000000Z  2011-09-16T00:00:00.0000000Z   \n",
       "3   2011-09-16T00:00:00.0000000Z  2011-09-17T00:00:00.0000000Z   \n",
       "4   2011-09-17T00:00:00.0000000Z  2011-09-18T00:00:00.0000000Z   \n",
       "..                           ...                           ...   \n",
       "95  2012-01-04T00:00:00.0000000Z  2012-01-05T00:00:00.0000000Z   \n",
       "96  2012-01-05T00:00:00.0000000Z  2012-01-06T00:00:00.0000000Z   \n",
       "97  2012-01-06T00:00:00.0000000Z  2012-01-07T00:00:00.0000000Z   \n",
       "98  2012-01-07T00:00:00.0000000Z  2012-01-08T00:00:00.0000000Z   \n",
       "99  2012-01-08T00:00:00.0000000Z  2012-01-09T00:00:00.0000000Z   \n",
       "\n",
       "                       time_open                    time_close  price_open  \\\n",
       "0   2011-09-13T13:53:36.0000000Z  2011-09-13T19:34:36.0000000Z        5.80   \n",
       "1   2011-09-14T07:00:00.0000000Z  2011-09-14T15:42:31.0000000Z        5.58   \n",
       "2   2011-09-15T08:39:33.0000000Z  2011-09-15T15:11:22.0000000Z        5.12   \n",
       "3   2011-09-16T07:02:06.0000000Z  2011-09-16T16:13:02.0000000Z        4.82   \n",
       "4   2011-09-17T15:32:08.0000000Z  2011-09-17T15:32:08.0000000Z        4.87   \n",
       "..                           ...                           ...         ...   \n",
       "95  2012-01-04T04:17:56.0000000Z  2012-01-04T17:51:57.0000000Z        4.93   \n",
       "96  2012-01-05T01:40:09.0000000Z  2012-01-05T23:46:01.0000000Z        5.72   \n",
       "97  2012-01-06T06:02:28.0000000Z  2012-01-06T20:22:48.0000000Z        6.65   \n",
       "98  2012-01-07T18:14:19.0000000Z  2012-01-07T18:14:19.0000000Z        6.80   \n",
       "99  2012-01-08T14:20:51.0000000Z  2012-01-08T23:31:23.0000000Z        6.90   \n",
       "\n",
       "    price_high  price_low  price_close  volume_traded  trades_count  \n",
       "0         6.00       5.65         5.97      58.371382            12  \n",
       "1         5.72       5.52         5.53      61.145984            14  \n",
       "2         5.24       5.00         5.13      80.140795             6  \n",
       "3         4.87       4.80         4.85      39.914007             4  \n",
       "4         4.87       4.87         4.87       0.300000             1  \n",
       "..         ...        ...          ...            ...           ...  \n",
       "95        5.57       4.93         5.37     107.233260            20  \n",
       "96        6.65       5.72         6.65      94.801829            29  \n",
       "97        6.90       6.00         6.00      33.882747            21  \n",
       "98        6.80       6.80         6.80       0.295858             1  \n",
       "99        7.00       6.90         7.00       5.000000             2  \n",
       "\n",
       "[100 rows x 10 columns]"
      ]
     },
     "execution_count": 63,
     "metadata": {},
     "output_type": "execute_result"
    }
   ],
   "source": [
    "#open and save it to a dataframe\n",
    "with open( f'data_raw/{asset_id_base}.json', 'r' ) as jj:\n",
    "    json_d = json.load( jj )\n",
    "    df_asset_id = pd.DataFrame( json_d )\n",
    "df_asset_id"
   ]
  },
  {
   "cell_type": "code",
   "execution_count": 64,
   "id": "great-portland",
   "metadata": {
    "ExecuteTime": {
     "end_time": "2021-02-17T09:32:10.258347Z",
     "start_time": "2021-02-17T09:32:09.056368Z"
    }
   },
   "outputs": [],
   "source": [
    "#get new start time from time period end\n",
    "#note this should be done using the json format instead of pandas, cuts out extra step\n",
    "#json_d[-1][\"price_close\"]\n",
    "\n",
    "time_start = df_asset_id['time_period_end'].iloc[-1]\n",
    "furl = f\"{endpoint}/v1/ohlcv/{asset_id_base}/{asset_id_quote}/history?period_id={period_id}&time_start={time_start}&limit={limit}&include_empty_items={include_empty_items}\"\n",
    "\n",
    "url = furl\n",
    "headers = {'X-CoinAPI-Key' : apikey_coinapi }\n",
    "response = requests.get(url, headers=headers)"
   ]
  },
  {
   "cell_type": "code",
   "execution_count": 65,
   "id": "impossible-insulin",
   "metadata": {
    "ExecuteTime": {
     "end_time": "2021-02-17T09:32:12.632130Z",
     "start_time": "2021-02-17T09:32:12.601201Z"
    }
   },
   "outputs": [
    {
     "data": {
      "text/plain": [
       "[{'time_period_start': '2012-01-09T00:00:00.0000000Z',\n",
       "  'time_period_end': '2012-01-10T00:00:00.0000000Z',\n",
       "  'time_open': '2012-01-09T04:40:29.0000000Z',\n",
       "  'time_close': '2012-01-09T22:57:05.0000000Z',\n",
       "  'price_open': 6.99,\n",
       "  'price_high': 6.99,\n",
       "  'price_low': 6.23,\n",
       "  'price_close': 6.3,\n",
       "  'volume_traded': 66.8693229,\n",
       "  'trades_count': 39},\n",
       " {'time_period_start': '2012-01-10T00:00:00.0000000Z',\n",
       "  'time_period_end': '2012-01-11T00:00:00.0000000Z',\n",
       "  'time_open': '2012-01-10T09:56:04.0000000Z',\n",
       "  'time_close': '2012-01-10T22:57:26.0000000Z',\n",
       "  'price_open': 6.24,\n",
       "  'price_high': 7.14,\n",
       "  'price_low': 6.24,\n",
       "  'price_close': 7.14,\n",
       "  'volume_traded': 62.28998018,\n",
       "  'trades_count': 33},\n",
       " {'time_period_start': '2012-01-11T00:00:00.0000000Z',\n",
       "  'time_period_end': '2012-01-12T00:00:00.0000000Z',\n",
       "  'time_open': '2012-01-11T07:05:27.0000000Z',\n",
       "  'time_close': '2012-01-11T21:15:44.0000000Z',\n",
       "  'price_open': 7.14,\n",
       "  'price_high': 7.33,\n",
       "  'price_low': 6.25,\n",
       "  'price_close': 7.0,\n",
       "  'volume_traded': 105.35893402,\n",
       "  'trades_count': 51},\n",
       " {'time_period_start': '2012-01-12T00:00:00.0000000Z',\n",
       "  'time_period_end': '2012-01-13T00:00:00.0000000Z',\n",
       "  'time_open': '2012-01-12T03:04:50.0000000Z',\n",
       "  'time_close': '2012-01-12T18:13:36.0000000Z',\n",
       "  'price_open': 6.95,\n",
       "  'price_high': 7.38,\n",
       "  'price_low': 6.51,\n",
       "  'price_close': 6.51,\n",
       "  'volume_traded': 82.30163181,\n",
       "  'trades_count': 14},\n",
       " {'time_period_start': '2012-01-13T00:00:00.0000000Z',\n",
       "  'time_period_end': '2012-01-14T00:00:00.0000000Z',\n",
       "  'time_open': '2012-01-13T02:00:36.0000000Z',\n",
       "  'time_close': '2012-01-13T23:57:45.0000000Z',\n",
       "  'price_open': 6.8,\n",
       "  'price_high': 7.36,\n",
       "  'price_low': 6.6,\n",
       "  'price_close': 6.6,\n",
       "  'volume_traded': 48.97014484,\n",
       "  'trades_count': 45},\n",
       " {'time_period_start': '2012-01-14T00:00:00.0000000Z',\n",
       "  'time_period_end': '2012-01-15T00:00:00.0000000Z',\n",
       "  'time_open': '2012-01-14T00:41:55.0000000Z',\n",
       "  'time_close': '2012-01-14T20:45:49.0000000Z',\n",
       "  'price_open': 6.5,\n",
       "  'price_high': 6.5,\n",
       "  'price_low': 6.3,\n",
       "  'price_close': 6.3,\n",
       "  'volume_traded': 16.836,\n",
       "  'trades_count': 12},\n",
       " {'time_period_start': '2012-01-15T00:00:00.0000000Z',\n",
       "  'time_period_end': '2012-01-16T00:00:00.0000000Z',\n",
       "  'time_open': '2012-01-15T10:25:32.0000000Z',\n",
       "  'time_close': '2012-01-15T10:30:20.0000000Z',\n",
       "  'price_open': 7.15,\n",
       "  'price_high': 7.15,\n",
       "  'price_low': 7.15,\n",
       "  'price_close': 7.15,\n",
       "  'volume_traded': 16.6993007,\n",
       "  'trades_count': 6},\n",
       " {'time_period_start': '2012-01-16T00:00:00.0000000Z',\n",
       "  'time_period_end': '2012-01-17T00:00:00.0000000Z',\n",
       "  'time_open': '2012-01-16T15:50:54.0000000Z',\n",
       "  'time_close': '2012-01-16T17:49:03.0000000Z',\n",
       "  'price_open': 6.2,\n",
       "  'price_high': 7.1,\n",
       "  'price_low': 6.2,\n",
       "  'price_close': 7.1,\n",
       "  'volume_traded': 12.64929577,\n",
       "  'trades_count': 8},\n",
       " {'time_period_start': '2012-01-17T00:00:00.0000000Z',\n",
       "  'time_period_end': '2012-01-18T00:00:00.0000000Z',\n",
       "  'time_open': '2012-01-17T12:05:57.0000000Z',\n",
       "  'time_close': '2012-01-17T23:02:40.0000000Z',\n",
       "  'price_open': 6.5,\n",
       "  'price_high': 6.9,\n",
       "  'price_low': 6.0,\n",
       "  'price_close': 6.0,\n",
       "  'volume_traded': 80.51400824,\n",
       "  'trades_count': 27},\n",
       " {'time_period_start': '2012-01-18T00:00:00.0000000Z',\n",
       "  'time_period_end': '2012-01-19T00:00:00.0000000Z',\n",
       "  'time_open': '2012-01-18T01:15:42.0000000Z',\n",
       "  'time_close': '2012-01-18T14:48:33.0000000Z',\n",
       "  'price_open': 5.99,\n",
       "  'price_high': 7.1,\n",
       "  'price_low': 5.99,\n",
       "  'price_close': 7.1,\n",
       "  'volume_traded': 133.44676912,\n",
       "  'trades_count': 47},\n",
       " {'time_period_start': '2012-01-19T00:00:00.0000000Z',\n",
       "  'time_period_end': '2012-01-20T00:00:00.0000000Z',\n",
       "  'time_open': '2012-01-19T06:12:00.0000000Z',\n",
       "  'time_close': '2012-01-19T23:25:03.0000000Z',\n",
       "  'price_open': 5.52,\n",
       "  'price_high': 7.0,\n",
       "  'price_low': 5.52,\n",
       "  'price_close': 6.22,\n",
       "  'volume_traded': 246.71581895,\n",
       "  'trades_count': 21},\n",
       " {'time_period_start': '2012-01-20T00:00:00.0000000Z',\n",
       "  'time_period_end': '2012-01-21T00:00:00.0000000Z',\n",
       "  'time_open': '2012-01-20T07:42:30.0000000Z',\n",
       "  'time_close': '2012-01-20T15:33:17.0000000Z',\n",
       "  'price_open': 6.9,\n",
       "  'price_high': 6.95,\n",
       "  'price_low': 6.55,\n",
       "  'price_close': 6.95,\n",
       "  'volume_traded': 95.82599863,\n",
       "  'trades_count': 12},\n",
       " {'time_period_start': '2012-01-21T00:00:00.0000000Z',\n",
       "  'time_period_end': '2012-01-22T00:00:00.0000000Z',\n",
       "  'time_open': '2012-01-21T20:03:48.0000000Z',\n",
       "  'time_close': '2012-01-21T21:41:59.0000000Z',\n",
       "  'price_open': 6.3,\n",
       "  'price_high': 6.77,\n",
       "  'price_low': 6.28,\n",
       "  'price_close': 6.77,\n",
       "  'volume_traded': 81.41385241,\n",
       "  'trades_count': 6},\n",
       " {'time_period_start': '2012-01-22T00:00:00.0000000Z',\n",
       "  'time_period_end': '2012-01-23T00:00:00.0000000Z',\n",
       "  'time_open': '2012-01-22T07:42:32.0000000Z',\n",
       "  'time_close': '2012-01-22T20:55:52.0000000Z',\n",
       "  'price_open': 6.79,\n",
       "  'price_high': 6.83,\n",
       "  'price_low': 6.03,\n",
       "  'price_close': 6.79,\n",
       "  'volume_traded': 81.27103303,\n",
       "  'trades_count': 13},\n",
       " {'time_period_start': '2012-01-23T00:00:00.0000000Z',\n",
       "  'time_period_end': '2012-01-24T00:00:00.0000000Z',\n",
       "  'time_open': '2012-01-23T09:35:05.0000000Z',\n",
       "  'time_close': '2012-01-23T18:19:48.0000000Z',\n",
       "  'price_open': 6.5,\n",
       "  'price_high': 6.52,\n",
       "  'price_low': 6.0,\n",
       "  'price_close': 6.52,\n",
       "  'volume_traded': 94.92062909,\n",
       "  'trades_count': 14},\n",
       " {'time_period_start': '2012-01-24T00:00:00.0000000Z',\n",
       "  'time_period_end': '2012-01-25T00:00:00.0000000Z',\n",
       "  'time_open': '2012-01-24T02:21:00.0000000Z',\n",
       "  'time_close': '2012-01-24T18:44:58.0000000Z',\n",
       "  'price_open': 6.52,\n",
       "  'price_high': 6.57,\n",
       "  'price_low': 6.0,\n",
       "  'price_close': 6.55,\n",
       "  'volume_traded': 85.44624147,\n",
       "  'trades_count': 18},\n",
       " {'time_period_start': '2012-01-25T00:00:00.0000000Z',\n",
       "  'time_period_end': '2012-01-26T00:00:00.0000000Z',\n",
       "  'time_open': '2012-01-25T09:03:29.0000000Z',\n",
       "  'time_close': '2012-01-25T21:37:14.0000000Z',\n",
       "  'price_open': 6.26,\n",
       "  'price_high': 6.86,\n",
       "  'price_low': 6.0,\n",
       "  'price_close': 6.31,\n",
       "  'volume_traded': 81.1232564,\n",
       "  'trades_count': 41},\n",
       " {'time_period_start': '2012-01-26T00:00:00.0000000Z',\n",
       "  'time_period_end': '2012-01-27T00:00:00.0000000Z',\n",
       "  'time_open': '2012-01-26T14:33:41.0000000Z',\n",
       "  'time_close': '2012-01-26T23:03:49.0000000Z',\n",
       "  'price_open': 6.27,\n",
       "  'price_high': 6.3,\n",
       "  'price_low': 5.5,\n",
       "  'price_close': 5.5,\n",
       "  'volume_traded': 29.91907058,\n",
       "  'trades_count': 19},\n",
       " {'time_period_start': '2012-01-27T00:00:00.0000000Z',\n",
       "  'time_period_end': '2012-01-28T00:00:00.0000000Z',\n",
       "  'time_open': '2012-01-27T01:58:26.0000000Z',\n",
       "  'time_close': '2012-01-27T16:14:37.0000000Z',\n",
       "  'price_open': 3.8,\n",
       "  'price_high': 6.03,\n",
       "  'price_low': 3.8,\n",
       "  'price_close': 5.88,\n",
       "  'volume_traded': 92.07999287,\n",
       "  'trades_count': 42},\n",
       " {'time_period_start': '2012-01-28T00:00:00.0000000Z',\n",
       "  'time_period_end': '2012-01-29T00:00:00.0000000Z',\n",
       "  'time_open': '2012-01-28T04:04:45.0000000Z',\n",
       "  'time_close': '2012-01-28T04:04:45.0000000Z',\n",
       "  'price_open': 4.91,\n",
       "  'price_high': 4.91,\n",
       "  'price_low': 4.91,\n",
       "  'price_close': 4.91,\n",
       "  'volume_traded': 0.25,\n",
       "  'trades_count': 1},\n",
       " {'time_period_start': '2012-01-29T00:00:00.0000000Z',\n",
       "  'time_period_end': '2012-01-30T00:00:00.0000000Z',\n",
       "  'time_open': '2012-01-29T03:14:27.0000000Z',\n",
       "  'time_close': '2012-01-29T23:07:23.0000000Z',\n",
       "  'price_open': 5.89,\n",
       "  'price_high': 5.9,\n",
       "  'price_low': 5.3,\n",
       "  'price_close': 5.5,\n",
       "  'volume_traded': 9.45484643,\n",
       "  'trades_count': 6},\n",
       " {'time_period_start': '2012-01-30T00:00:00.0000000Z',\n",
       "  'time_period_end': '2012-01-31T00:00:00.0000000Z',\n",
       "  'time_open': '2012-01-30T12:40:20.0000000Z',\n",
       "  'time_close': '2012-01-30T19:54:11.0000000Z',\n",
       "  'price_open': 5.3,\n",
       "  'price_high': 5.58,\n",
       "  'price_low': 5.3,\n",
       "  'price_close': 5.58,\n",
       "  'volume_traded': 15.16,\n",
       "  'trades_count': 8},\n",
       " {'time_period_start': '2012-01-31T00:00:00.0000000Z',\n",
       "  'time_period_end': '2012-02-01T00:00:00.0000000Z',\n",
       "  'time_open': '2012-01-31T05:43:22.0000000Z',\n",
       "  'time_close': '2012-01-31T19:23:36.0000000Z',\n",
       "  'price_open': 5.7,\n",
       "  'price_high': 6.22,\n",
       "  'price_low': 3.8,\n",
       "  'price_close': 5.3,\n",
       "  'volume_traded': 110.50333334,\n",
       "  'trades_count': 127},\n",
       " {'time_period_start': '2012-02-01T00:00:00.0000000Z',\n",
       "  'time_period_end': '2012-02-02T00:00:00.0000000Z',\n",
       "  'time_open': '2012-02-01T13:06:04.0000000Z',\n",
       "  'time_close': '2012-02-01T22:08:02.0000000Z',\n",
       "  'price_open': 5.53,\n",
       "  'price_high': 5.99,\n",
       "  'price_low': 5.52,\n",
       "  'price_close': 5.88,\n",
       "  'volume_traded': 12.05880628,\n",
       "  'trades_count': 12},\n",
       " {'time_period_start': '2012-02-02T00:00:00.0000000Z',\n",
       "  'time_period_end': '2012-02-03T00:00:00.0000000Z',\n",
       "  'time_open': '2012-02-02T00:32:33.0000000Z',\n",
       "  'time_close': '2012-02-02T23:37:27.0000000Z',\n",
       "  'price_open': 5.99,\n",
       "  'price_high': 6.28,\n",
       "  'price_low': 5.89,\n",
       "  'price_close': 6.28,\n",
       "  'volume_traded': 251.00093001,\n",
       "  'trades_count': 92},\n",
       " {'time_period_start': '2012-02-03T00:00:00.0000000Z',\n",
       "  'time_period_end': '2012-02-04T00:00:00.0000000Z',\n",
       "  'time_open': '2012-02-03T00:38:21.0000000Z',\n",
       "  'time_close': '2012-02-03T20:14:38.0000000Z',\n",
       "  'price_open': 6.29,\n",
       "  'price_high': 6.35,\n",
       "  'price_low': 5.93,\n",
       "  'price_close': 6.3,\n",
       "  'volume_traded': 155.5524532,\n",
       "  'trades_count': 44},\n",
       " {'time_period_start': '2012-02-04T00:00:00.0000000Z',\n",
       "  'time_period_end': '2012-02-05T00:00:00.0000000Z',\n",
       "  'time_open': '2012-02-04T02:38:15.0000000Z',\n",
       "  'time_close': '2012-02-04T22:49:47.0000000Z',\n",
       "  'price_open': 6.35,\n",
       "  'price_high': 6.5,\n",
       "  'price_low': 5.94,\n",
       "  'price_close': 5.94,\n",
       "  'volume_traded': 67.63499409,\n",
       "  'trades_count': 21},\n",
       " {'time_period_start': '2012-02-05T00:00:00.0000000Z',\n",
       "  'time_period_end': '2012-02-06T00:00:00.0000000Z',\n",
       "  'time_open': '2012-02-05T00:21:04.0000000Z',\n",
       "  'time_close': '2012-02-05T23:06:03.0000000Z',\n",
       "  'price_open': 5.93,\n",
       "  'price_high': 6.15,\n",
       "  'price_low': 5.6,\n",
       "  'price_close': 5.6,\n",
       "  'volume_traded': 47.85042396,\n",
       "  'trades_count': 29},\n",
       " {'time_period_start': '2012-02-06T00:00:00.0000000Z',\n",
       "  'time_period_end': '2012-02-07T00:00:00.0000000Z',\n",
       "  'time_open': '2012-02-06T09:38:46.0000000Z',\n",
       "  'time_close': '2012-02-06T23:34:03.0000000Z',\n",
       "  'price_open': 5.6,\n",
       "  'price_high': 5.9,\n",
       "  'price_low': 5.2,\n",
       "  'price_close': 5.6,\n",
       "  'volume_traded': 29.17833833,\n",
       "  'trades_count': 12},\n",
       " {'time_period_start': '2012-02-07T00:00:00.0000000Z',\n",
       "  'time_period_end': '2012-02-08T00:00:00.0000000Z',\n",
       "  'time_open': '2012-02-07T09:42:42.0000000Z',\n",
       "  'time_close': '2012-02-07T20:37:52.0000000Z',\n",
       "  'price_open': 5.5,\n",
       "  'price_high': 5.88,\n",
       "  'price_low': 5.5,\n",
       "  'price_close': 5.69,\n",
       "  'volume_traded': 165.40541896,\n",
       "  'trades_count': 17},\n",
       " {'time_period_start': '2012-02-08T00:00:00.0000000Z',\n",
       "  'time_period_end': '2012-02-09T00:00:00.0000000Z',\n",
       "  'time_open': '2012-02-08T11:39:10.0000000Z',\n",
       "  'time_close': '2012-02-08T22:14:21.0000000Z',\n",
       "  'price_open': 5.79,\n",
       "  'price_high': 5.87,\n",
       "  'price_low': 5.66,\n",
       "  'price_close': 5.87,\n",
       "  'volume_traded': 83.57202011,\n",
       "  'trades_count': 12},\n",
       " {'time_period_start': '2012-02-09T00:00:00.0000000Z',\n",
       "  'time_period_end': '2012-02-10T00:00:00.0000000Z',\n",
       "  'time_open': '2012-02-09T07:35:28.0000000Z',\n",
       "  'time_close': '2012-02-09T19:52:13.0000000Z',\n",
       "  'price_open': 5.52,\n",
       "  'price_high': 5.89,\n",
       "  'price_low': 5.51,\n",
       "  'price_close': 5.89,\n",
       "  'volume_traded': 83.60318875,\n",
       "  'trades_count': 27},\n",
       " {'time_period_start': '2012-02-10T00:00:00.0000000Z',\n",
       "  'time_period_end': '2012-02-11T00:00:00.0000000Z',\n",
       "  'time_open': '2012-02-10T04:46:38.0000000Z',\n",
       "  'time_close': '2012-02-10T18:47:29.0000000Z',\n",
       "  'price_open': 5.88,\n",
       "  'price_high': 5.88,\n",
       "  'price_low': 5.8,\n",
       "  'price_close': 5.88,\n",
       "  'volume_traded': 176.93050375,\n",
       "  'trades_count': 51},\n",
       " {'time_period_start': '2012-02-11T00:00:00.0000000Z',\n",
       "  'time_period_end': '2012-02-12T00:00:00.0000000Z',\n",
       "  'time_open': '2012-02-11T08:21:39.0000000Z',\n",
       "  'time_close': '2012-02-11T09:40:44.0000000Z',\n",
       "  'price_open': 5.71,\n",
       "  'price_high': 5.71,\n",
       "  'price_low': 5.5,\n",
       "  'price_close': 5.5,\n",
       "  'volume_traded': 1.8794878,\n",
       "  'trades_count': 3},\n",
       " {'time_period_start': '2012-02-12T00:00:00.0000000Z',\n",
       "  'time_period_end': '2012-02-13T00:00:00.0000000Z',\n",
       "  'time_open': '2012-02-12T12:44:32.0000000Z',\n",
       "  'time_close': '2012-02-12T22:11:34.0000000Z',\n",
       "  'price_open': 5.78,\n",
       "  'price_high': 5.78,\n",
       "  'price_low': 5.55,\n",
       "  'price_close': 5.67,\n",
       "  'volume_traded': 64.8434324,\n",
       "  'trades_count': 4},\n",
       " {'time_period_start': '2012-02-13T00:00:00.0000000Z',\n",
       "  'time_period_end': '2012-02-14T00:00:00.0000000Z',\n",
       "  'time_open': '2012-02-13T03:01:09.0000000Z',\n",
       "  'time_close': '2012-02-13T16:42:36.0000000Z',\n",
       "  'price_open': 5.53,\n",
       "  'price_high': 5.79,\n",
       "  'price_low': 5.5,\n",
       "  'price_close': 5.79,\n",
       "  'volume_traded': 99.78443902,\n",
       "  'trades_count': 23},\n",
       " {'time_period_start': '2012-02-14T00:00:00.0000000Z',\n",
       "  'time_period_end': '2012-02-15T00:00:00.0000000Z',\n",
       "  'time_open': '2012-02-14T02:43:36.0000000Z',\n",
       "  'time_close': '2012-02-14T20:56:35.0000000Z',\n",
       "  'price_open': 5.2,\n",
       "  'price_high': 5.8,\n",
       "  'price_low': 4.56,\n",
       "  'price_close': 4.89,\n",
       "  'volume_traded': 128.34493428,\n",
       "  'trades_count': 48},\n",
       " {'time_period_start': '2012-02-15T00:00:00.0000000Z',\n",
       "  'time_period_end': '2012-02-16T00:00:00.0000000Z',\n",
       "  'time_open': '2012-02-15T12:33:26.0000000Z',\n",
       "  'time_close': '2012-02-15T18:26:02.0000000Z',\n",
       "  'price_open': 4.9,\n",
       "  'price_high': 5.08,\n",
       "  'price_low': 4.69,\n",
       "  'price_close': 4.69,\n",
       "  'volume_traded': 67.78916535,\n",
       "  'trades_count': 26},\n",
       " {'time_period_start': '2012-02-16T00:00:00.0000000Z',\n",
       "  'time_period_end': '2012-02-17T00:00:00.0000000Z',\n",
       "  'time_open': '2012-02-16T01:06:51.0000000Z',\n",
       "  'time_close': '2012-02-16T23:11:12.0000000Z',\n",
       "  'price_open': 4.5,\n",
       "  'price_high': 4.98,\n",
       "  'price_low': 4.15,\n",
       "  'price_close': 4.51,\n",
       "  'volume_traded': 115.6239213,\n",
       "  'trades_count': 57},\n",
       " {'time_period_start': '2012-02-17T00:00:00.0000000Z',\n",
       "  'time_period_end': '2012-02-18T00:00:00.0000000Z',\n",
       "  'time_open': '2012-02-17T02:52:50.0000000Z',\n",
       "  'time_close': '2012-02-17T21:32:10.0000000Z',\n",
       "  'price_open': 4.68,\n",
       "  'price_high': 4.8,\n",
       "  'price_low': 4.5,\n",
       "  'price_close': 4.67,\n",
       "  'volume_traded': 244.67028923,\n",
       "  'trades_count': 53},\n",
       " {'time_period_start': '2012-02-18T00:00:00.0000000Z',\n",
       "  'time_period_end': '2012-02-19T00:00:00.0000000Z',\n",
       "  'time_open': '2012-02-18T01:45:18.0000000Z',\n",
       "  'time_close': '2012-02-18T21:51:54.0000000Z',\n",
       "  'price_open': 4.67,\n",
       "  'price_high': 4.73,\n",
       "  'price_low': 4.14,\n",
       "  'price_close': 4.23,\n",
       "  'volume_traded': 254.39025201,\n",
       "  'trades_count': 44},\n",
       " {'time_period_start': '2012-02-19T00:00:00.0000000Z',\n",
       "  'time_period_end': '2012-02-20T00:00:00.0000000Z',\n",
       "  'time_open': '2012-02-19T00:20:18.0000000Z',\n",
       "  'time_close': '2012-02-19T18:01:58.0000000Z',\n",
       "  'price_open': 4.38,\n",
       "  'price_high': 4.38,\n",
       "  'price_low': 4.3,\n",
       "  'price_close': 4.38,\n",
       "  'volume_traded': 92.68354434,\n",
       "  'trades_count': 11},\n",
       " {'time_period_start': '2012-02-20T00:00:00.0000000Z',\n",
       "  'time_period_end': '2012-02-21T00:00:00.0000000Z',\n",
       "  'time_open': '2012-02-20T10:19:48.0000000Z',\n",
       "  'time_close': '2012-02-20T23:32:04.0000000Z',\n",
       "  'price_open': 4.72,\n",
       "  'price_high': 4.72,\n",
       "  'price_low': 4.4,\n",
       "  'price_close': 4.44,\n",
       "  'volume_traded': 315.93925361,\n",
       "  'trades_count': 53},\n",
       " {'time_period_start': '2012-02-21T00:00:00.0000000Z',\n",
       "  'time_period_end': '2012-02-22T00:00:00.0000000Z',\n",
       "  'time_open': '2012-02-21T05:28:37.0000000Z',\n",
       "  'time_close': '2012-02-21T23:52:02.0000000Z',\n",
       "  'price_open': 4.52,\n",
       "  'price_high': 4.58,\n",
       "  'price_low': 4.3,\n",
       "  'price_close': 4.58,\n",
       "  'volume_traded': 358.44920149,\n",
       "  'trades_count': 54},\n",
       " {'time_period_start': '2012-02-22T00:00:00.0000000Z',\n",
       "  'time_period_end': '2012-02-23T00:00:00.0000000Z',\n",
       "  'time_open': '2012-02-22T00:06:23.0000000Z',\n",
       "  'time_close': '2012-02-22T23:29:16.0000000Z',\n",
       "  'price_open': 4.47,\n",
       "  'price_high': 4.59,\n",
       "  'price_low': 4.46,\n",
       "  'price_close': 4.51,\n",
       "  'volume_traded': 75.30876636,\n",
       "  'trades_count': 15},\n",
       " {'time_period_start': '2012-02-23T00:00:00.0000000Z',\n",
       "  'time_period_end': '2012-02-24T00:00:00.0000000Z',\n",
       "  'time_open': '2012-02-23T05:34:41.0000000Z',\n",
       "  'time_close': '2012-02-23T23:58:02.0000000Z',\n",
       "  'price_open': 4.59,\n",
       "  'price_high': 5.22,\n",
       "  'price_low': 4.55,\n",
       "  'price_close': 5.22,\n",
       "  'volume_traded': 714.84400933,\n",
       "  'trades_count': 99},\n",
       " {'time_period_start': '2012-02-24T00:00:00.0000000Z',\n",
       "  'time_period_end': '2012-02-25T00:00:00.0000000Z',\n",
       "  'time_open': '2012-02-24T04:02:40.0000000Z',\n",
       "  'time_close': '2012-02-24T20:24:04.0000000Z',\n",
       "  'price_open': 5.12,\n",
       "  'price_high': 5.22,\n",
       "  'price_low': 4.95,\n",
       "  'price_close': 4.95,\n",
       "  'volume_traded': 37.59711782,\n",
       "  'trades_count': 16},\n",
       " {'time_period_start': '2012-02-25T00:00:00.0000000Z',\n",
       "  'time_period_end': '2012-02-26T00:00:00.0000000Z',\n",
       "  'time_open': '2012-02-25T08:22:23.0000000Z',\n",
       "  'time_close': '2012-02-25T15:57:25.0000000Z',\n",
       "  'price_open': 5.11,\n",
       "  'price_high': 5.11,\n",
       "  'price_low': 5.0,\n",
       "  'price_close': 5.0,\n",
       "  'volume_traded': 119.80740151,\n",
       "  'trades_count': 11},\n",
       " {'time_period_start': '2012-02-26T00:00:00.0000000Z',\n",
       "  'time_period_end': '2012-02-27T00:00:00.0000000Z',\n",
       "  'time_open': '2012-02-26T07:39:16.0000000Z',\n",
       "  'time_close': '2012-02-26T20:16:38.0000000Z',\n",
       "  'price_open': 4.78,\n",
       "  'price_high': 5.07,\n",
       "  'price_low': 4.78,\n",
       "  'price_close': 4.98,\n",
       "  'volume_traded': 40.9,\n",
       "  'trades_count': 11},\n",
       " {'time_period_start': '2012-02-27T00:00:00.0000000Z',\n",
       "  'time_period_end': '2012-02-28T00:00:00.0000000Z',\n",
       "  'time_open': '2012-02-27T03:53:19.0000000Z',\n",
       "  'time_close': '2012-02-27T19:16:55.0000000Z',\n",
       "  'price_open': 4.97,\n",
       "  'price_high': 5.1,\n",
       "  'price_low': 4.95,\n",
       "  'price_close': 5.04,\n",
       "  'volume_traded': 309.05231411,\n",
       "  'trades_count': 61},\n",
       " {'time_period_start': '2012-02-28T00:00:00.0000000Z',\n",
       "  'time_period_end': '2012-02-29T00:00:00.0000000Z',\n",
       "  'time_open': '2012-02-28T00:28:06.0000000Z',\n",
       "  'time_close': '2012-02-28T22:50:23.0000000Z',\n",
       "  'price_open': 5.09,\n",
       "  'price_high': 5.1,\n",
       "  'price_low': 4.71,\n",
       "  'price_close': 4.88,\n",
       "  'volume_traded': 440.24138707,\n",
       "  'trades_count': 52},\n",
       " {'time_period_start': '2012-02-29T00:00:00.0000000Z',\n",
       "  'time_period_end': '2012-03-01T00:00:00.0000000Z',\n",
       "  'time_open': '2012-02-29T00:04:10.0000000Z',\n",
       "  'time_close': '2012-02-29T23:49:03.0000000Z',\n",
       "  'price_open': 4.97,\n",
       "  'price_high': 5.0,\n",
       "  'price_low': 4.85,\n",
       "  'price_close': 4.99,\n",
       "  'volume_traded': 242.23784635,\n",
       "  'trades_count': 44},\n",
       " {'time_period_start': '2012-03-01T00:00:00.0000000Z',\n",
       "  'time_period_end': '2012-03-02T00:00:00.0000000Z',\n",
       "  'time_open': '2012-03-01T00:12:45.0000000Z',\n",
       "  'time_close': '2012-03-01T23:01:03.0000000Z',\n",
       "  'price_open': 4.99,\n",
       "  'price_high': 5.05,\n",
       "  'price_low': 4.9,\n",
       "  'price_close': 5.0,\n",
       "  'volume_traded': 291.16358119,\n",
       "  'trades_count': 48},\n",
       " {'time_period_start': '2012-03-02T00:00:00.0000000Z',\n",
       "  'time_period_end': '2012-03-03T00:00:00.0000000Z',\n",
       "  'time_open': '2012-03-02T03:55:34.0000000Z',\n",
       "  'time_close': '2012-03-02T18:23:42.0000000Z',\n",
       "  'price_open': 4.99,\n",
       "  'price_high': 4.99,\n",
       "  'price_low': 4.64,\n",
       "  'price_close': 4.79,\n",
       "  'volume_traded': 245.97471171,\n",
       "  'trades_count': 34},\n",
       " {'time_period_start': '2012-03-03T00:00:00.0000000Z',\n",
       "  'time_period_end': '2012-03-04T00:00:00.0000000Z',\n",
       "  'time_open': '2012-03-03T01:05:33.0000000Z',\n",
       "  'time_close': '2012-03-03T13:36:09.0000000Z',\n",
       "  'price_open': 4.81,\n",
       "  'price_high': 4.99,\n",
       "  'price_low': 4.6,\n",
       "  'price_close': 4.65,\n",
       "  'volume_traded': 125.91831514,\n",
       "  'trades_count': 16},\n",
       " {'time_period_start': '2012-03-04T00:00:00.0000000Z',\n",
       "  'time_period_end': '2012-03-05T00:00:00.0000000Z',\n",
       "  'time_open': '2012-03-04T13:35:06.0000000Z',\n",
       "  'time_close': '2012-03-04T18:03:23.0000000Z',\n",
       "  'price_open': 4.78,\n",
       "  'price_high': 4.81,\n",
       "  'price_low': 4.77,\n",
       "  'price_close': 4.81,\n",
       "  'volume_traded': 113.6084153,\n",
       "  'trades_count': 11},\n",
       " {'time_period_start': '2012-03-05T00:00:00.0000000Z',\n",
       "  'time_period_end': '2012-03-06T00:00:00.0000000Z',\n",
       "  'time_open': '2012-03-05T01:20:06.0000000Z',\n",
       "  'time_close': '2012-03-05T23:43:40.0000000Z',\n",
       "  'price_open': 4.8,\n",
       "  'price_high': 5.06,\n",
       "  'price_low': 4.77,\n",
       "  'price_close': 5.05,\n",
       "  'volume_traded': 518.05455153,\n",
       "  'trades_count': 75},\n",
       " {'time_period_start': '2012-03-06T00:00:00.0000000Z',\n",
       "  'time_period_end': '2012-03-07T00:00:00.0000000Z',\n",
       "  'time_open': '2012-03-06T05:09:39.0000000Z',\n",
       "  'time_close': '2012-03-06T22:36:00.0000000Z',\n",
       "  'price_open': 5.0,\n",
       "  'price_high': 5.05,\n",
       "  'price_low': 4.95,\n",
       "  'price_close': 4.98,\n",
       "  'volume_traded': 296.62794242,\n",
       "  'trades_count': 37},\n",
       " {'time_period_start': '2012-03-07T00:00:00.0000000Z',\n",
       "  'time_period_end': '2012-03-08T00:00:00.0000000Z',\n",
       "  'time_open': '2012-03-07T08:42:19.0000000Z',\n",
       "  'time_close': '2012-03-07T21:00:36.0000000Z',\n",
       "  'price_open': 5.05,\n",
       "  'price_high': 5.09,\n",
       "  'price_low': 4.93,\n",
       "  'price_close': 4.97,\n",
       "  'volume_traded': 373.49234495,\n",
       "  'trades_count': 74},\n",
       " {'time_period_start': '2012-03-08T00:00:00.0000000Z',\n",
       "  'time_period_end': '2012-03-09T00:00:00.0000000Z',\n",
       "  'time_open': '2012-03-08T02:58:10.0000000Z',\n",
       "  'time_close': '2012-03-08T22:55:00.0000000Z',\n",
       "  'price_open': 4.92,\n",
       "  'price_high': 5.08,\n",
       "  'price_low': 4.87,\n",
       "  'price_close': 5.01,\n",
       "  'volume_traded': 326.5657549,\n",
       "  'trades_count': 40},\n",
       " {'time_period_start': '2012-03-09T00:00:00.0000000Z',\n",
       "  'time_period_end': '2012-03-10T00:00:00.0000000Z',\n",
       "  'time_open': '2012-03-09T05:18:31.0000000Z',\n",
       "  'time_close': '2012-03-09T22:19:07.0000000Z',\n",
       "  'price_open': 4.97,\n",
       "  'price_high': 5.07,\n",
       "  'price_low': 4.93,\n",
       "  'price_close': 4.95,\n",
       "  'volume_traded': 277.58947934,\n",
       "  'trades_count': 25},\n",
       " {'time_period_start': '2012-03-10T00:00:00.0000000Z',\n",
       "  'time_period_end': '2012-03-11T00:00:00.0000000Z',\n",
       "  'time_open': '2012-03-10T09:43:19.0000000Z',\n",
       "  'time_close': '2012-03-10T17:13:22.0000000Z',\n",
       "  'price_open': 4.89,\n",
       "  'price_high': 4.99,\n",
       "  'price_low': 4.85,\n",
       "  'price_close': 4.94,\n",
       "  'volume_traded': 114.04892826,\n",
       "  'trades_count': 15},\n",
       " {'time_period_start': '2012-03-11T00:00:00.0000000Z',\n",
       "  'time_period_end': '2012-03-12T00:00:00.0000000Z',\n",
       "  'time_open': '2012-03-11T00:02:23.0000000Z',\n",
       "  'time_close': '2012-03-11T15:45:41.0000000Z',\n",
       "  'price_open': 4.94,\n",
       "  'price_high': 5.0,\n",
       "  'price_low': 4.84,\n",
       "  'price_close': 5.0,\n",
       "  'volume_traded': 24.68252609,\n",
       "  'trades_count': 5},\n",
       " {'time_period_start': '2012-03-12T00:00:00.0000000Z',\n",
       "  'time_period_end': '2012-03-13T00:00:00.0000000Z',\n",
       "  'time_open': '2012-03-12T13:53:05.0000000Z',\n",
       "  'time_close': '2012-03-12T22:51:34.0000000Z',\n",
       "  'price_open': 4.85,\n",
       "  'price_high': 4.99,\n",
       "  'price_low': 4.85,\n",
       "  'price_close': 4.99,\n",
       "  'volume_traded': 108.76167997,\n",
       "  'trades_count': 17},\n",
       " {'time_period_start': '2012-03-13T00:00:00.0000000Z',\n",
       "  'time_period_end': '2012-03-14T00:00:00.0000000Z',\n",
       "  'time_open': '2012-03-13T11:28:16.0000000Z',\n",
       "  'time_close': '2012-03-13T22:47:00.0000000Z',\n",
       "  'price_open': 4.99,\n",
       "  'price_high': 5.32,\n",
       "  'price_low': 4.96,\n",
       "  'price_close': 5.29,\n",
       "  'volume_traded': 734.65394306,\n",
       "  'trades_count': 117},\n",
       " {'time_period_start': '2012-03-14T00:00:00.0000000Z',\n",
       "  'time_period_end': '2012-03-15T00:00:00.0000000Z',\n",
       "  'time_open': '2012-03-14T05:33:13.0000000Z',\n",
       "  'time_close': '2012-03-14T19:39:42.0000000Z',\n",
       "  'price_open': 5.33,\n",
       "  'price_high': 5.44,\n",
       "  'price_low': 5.27,\n",
       "  'price_close': 5.27,\n",
       "  'volume_traded': 1129.74327668,\n",
       "  'trades_count': 99},\n",
       " {'time_period_start': '2012-03-15T00:00:00.0000000Z',\n",
       "  'time_period_end': '2012-03-16T00:00:00.0000000Z',\n",
       "  'time_open': '2012-03-15T03:25:24.0000000Z',\n",
       "  'time_close': '2012-03-15T22:45:23.0000000Z',\n",
       "  'price_open': 5.27,\n",
       "  'price_high': 5.43,\n",
       "  'price_low': 5.27,\n",
       "  'price_close': 5.39,\n",
       "  'volume_traded': 633.16784947,\n",
       "  'trades_count': 30},\n",
       " {'time_period_start': '2012-03-16T00:00:00.0000000Z',\n",
       "  'time_period_end': '2012-03-17T00:00:00.0000000Z',\n",
       "  'time_open': '2012-03-16T06:11:32.0000000Z',\n",
       "  'time_close': '2012-03-16T21:00:02.0000000Z',\n",
       "  'price_open': 5.3,\n",
       "  'price_high': 5.41,\n",
       "  'price_low': 5.26,\n",
       "  'price_close': 5.26,\n",
       "  'volume_traded': 157.69794429,\n",
       "  'trades_count': 21},\n",
       " {'time_period_start': '2012-03-17T00:00:00.0000000Z',\n",
       "  'time_period_end': '2012-03-18T00:00:00.0000000Z',\n",
       "  'time_open': '2012-03-17T08:28:52.0000000Z',\n",
       "  'time_close': '2012-03-17T18:15:56.0000000Z',\n",
       "  'price_open': 5.38,\n",
       "  'price_high': 5.42,\n",
       "  'price_low': 5.38,\n",
       "  'price_close': 5.42,\n",
       "  'volume_traded': 143.87332861,\n",
       "  'trades_count': 16},\n",
       " {'time_period_start': '2012-03-18T00:00:00.0000000Z',\n",
       "  'time_period_end': '2012-03-19T00:00:00.0000000Z',\n",
       "  'time_open': '2012-03-18T07:50:39.0000000Z',\n",
       "  'time_close': '2012-03-18T22:16:02.0000000Z',\n",
       "  'price_open': 5.41,\n",
       "  'price_high': 5.42,\n",
       "  'price_low': 5.24,\n",
       "  'price_close': 5.25,\n",
       "  'volume_traded': 412.66352117,\n",
       "  'trades_count': 61},\n",
       " {'time_period_start': '2012-03-19T00:00:00.0000000Z',\n",
       "  'time_period_end': '2012-03-20T00:00:00.0000000Z',\n",
       "  'time_open': '2012-03-19T06:41:20.0000000Z',\n",
       "  'time_close': '2012-03-19T23:00:22.0000000Z',\n",
       "  'price_open': 5.24,\n",
       "  'price_high': 5.37,\n",
       "  'price_low': 4.83,\n",
       "  'price_close': 4.84,\n",
       "  'volume_traded': 415.19375675,\n",
       "  'trades_count': 85},\n",
       " {'time_period_start': '2012-03-20T00:00:00.0000000Z',\n",
       "  'time_period_end': '2012-03-21T00:00:00.0000000Z',\n",
       "  'time_open': '2012-03-20T01:37:55.0000000Z',\n",
       "  'time_close': '2012-03-20T20:54:59.0000000Z',\n",
       "  'price_open': 4.82,\n",
       "  'price_high': 4.97,\n",
       "  'price_low': 4.79,\n",
       "  'price_close': 4.79,\n",
       "  'volume_traded': 279.75591707,\n",
       "  'trades_count': 37},\n",
       " {'time_period_start': '2012-03-21T00:00:00.0000000Z',\n",
       "  'time_period_end': '2012-03-22T00:00:00.0000000Z',\n",
       "  'time_open': '2012-03-21T11:36:05.0000000Z',\n",
       "  'time_close': '2012-03-21T11:58:01.0000000Z',\n",
       "  'price_open': 4.9,\n",
       "  'price_high': 4.96,\n",
       "  'price_low': 4.9,\n",
       "  'price_close': 4.96,\n",
       "  'volume_traded': 9.32862903,\n",
       "  'trades_count': 3},\n",
       " {'time_period_start': '2012-03-22T00:00:00.0000000Z',\n",
       "  'time_period_end': '2012-03-23T00:00:00.0000000Z',\n",
       "  'time_open': '2012-03-22T00:03:27.0000000Z',\n",
       "  'time_close': '2012-03-22T23:27:31.0000000Z',\n",
       "  'price_open': 4.86,\n",
       "  'price_high': 4.98,\n",
       "  'price_low': 4.72,\n",
       "  'price_close': 4.91,\n",
       "  'volume_traded': 396.4109947,\n",
       "  'trades_count': 50},\n",
       " {'time_period_start': '2012-03-23T00:00:00.0000000Z',\n",
       "  'time_period_end': '2012-03-24T00:00:00.0000000Z',\n",
       "  'time_open': '2012-03-23T08:18:51.0000000Z',\n",
       "  'time_close': '2012-03-23T17:10:44.0000000Z',\n",
       "  'price_open': 4.73,\n",
       "  'price_high': 4.89,\n",
       "  'price_low': 4.6,\n",
       "  'price_close': 4.78,\n",
       "  'volume_traded': 393.13018484,\n",
       "  'trades_count': 21},\n",
       " {'time_period_start': '2012-03-24T00:00:00.0000000Z',\n",
       "  'time_period_end': '2012-03-25T00:00:00.0000000Z',\n",
       "  'time_open': '2012-03-24T14:06:11.0000000Z',\n",
       "  'time_close': '2012-03-24T23:01:23.0000000Z',\n",
       "  'price_open': 4.72,\n",
       "  'price_high': 4.83,\n",
       "  'price_low': 4.62,\n",
       "  'price_close': 4.83,\n",
       "  'volume_traded': 191.53850932,\n",
       "  'trades_count': 9},\n",
       " {'time_period_start': '2012-03-25T00:00:00.0000000Z',\n",
       "  'time_period_end': '2012-03-26T00:00:00.0000000Z',\n",
       "  'time_open': '2012-03-25T05:43:49.0000000Z',\n",
       "  'time_close': '2012-03-25T13:54:58.0000000Z',\n",
       "  'price_open': 4.61,\n",
       "  'price_high': 4.84,\n",
       "  'price_low': 4.54,\n",
       "  'price_close': 4.54,\n",
       "  'volume_traded': 15.47357192,\n",
       "  'trades_count': 5},\n",
       " {'time_period_start': '2012-03-26T00:00:00.0000000Z',\n",
       "  'time_period_end': '2012-03-27T00:00:00.0000000Z',\n",
       "  'time_open': '2012-03-26T03:53:27.0000000Z',\n",
       "  'time_close': '2012-03-26T22:06:13.0000000Z',\n",
       "  'price_open': 4.6,\n",
       "  'price_high': 4.75,\n",
       "  'price_low': 4.54,\n",
       "  'price_close': 4.73,\n",
       "  'volume_traded': 64.76455997,\n",
       "  'trades_count': 23},\n",
       " {'time_period_start': '2012-03-27T00:00:00.0000000Z',\n",
       "  'time_period_end': '2012-03-28T00:00:00.0000000Z',\n",
       "  'time_open': '2012-03-27T01:25:29.0000000Z',\n",
       "  'time_close': '2012-03-27T23:58:15.0000000Z',\n",
       "  'price_open': 4.54,\n",
       "  'price_high': 4.97,\n",
       "  'price_low': 4.54,\n",
       "  'price_close': 4.84,\n",
       "  'volume_traded': 369.59079623,\n",
       "  'trades_count': 79},\n",
       " {'time_period_start': '2012-03-28T00:00:00.0000000Z',\n",
       "  'time_period_end': '2012-03-29T00:00:00.0000000Z',\n",
       "  'time_open': '2012-03-28T00:09:32.0000000Z',\n",
       "  'time_close': '2012-03-28T23:59:50.0000000Z',\n",
       "  'price_open': 4.73,\n",
       "  'price_high': 4.95,\n",
       "  'price_low': 4.72,\n",
       "  'price_close': 4.93,\n",
       "  'volume_traded': 418.64896346,\n",
       "  'trades_count': 66},\n",
       " {'time_period_start': '2012-03-29T00:00:00.0000000Z',\n",
       "  'time_period_end': '2012-03-30T00:00:00.0000000Z',\n",
       "  'time_open': '2012-03-29T00:00:04.0000000Z',\n",
       "  'time_close': '2012-03-29T20:12:16.0000000Z',\n",
       "  'price_open': 4.93,\n",
       "  'price_high': 4.93,\n",
       "  'price_low': 4.77,\n",
       "  'price_close': 4.84,\n",
       "  'volume_traded': 110.39370311,\n",
       "  'trades_count': 32},\n",
       " {'time_period_start': '2012-03-30T00:00:00.0000000Z',\n",
       "  'time_period_end': '2012-03-31T00:00:00.0000000Z',\n",
       "  'time_open': '2012-03-30T05:05:08.0000000Z',\n",
       "  'time_close': '2012-03-30T18:38:06.0000000Z',\n",
       "  'price_open': 4.81,\n",
       "  'price_high': 4.91,\n",
       "  'price_low': 4.76,\n",
       "  'price_close': 4.88,\n",
       "  'volume_traded': 161.39879423,\n",
       "  'trades_count': 42},\n",
       " {'time_period_start': '2012-03-31T00:00:00.0000000Z',\n",
       "  'time_period_end': '2012-04-01T00:00:00.0000000Z',\n",
       "  'time_open': '2012-03-31T07:15:58.0000000Z',\n",
       "  'time_close': '2012-03-31T22:29:41.0000000Z',\n",
       "  'price_open': 4.92,\n",
       "  'price_high': 4.92,\n",
       "  'price_low': 4.89,\n",
       "  'price_close': 4.9,\n",
       "  'volume_traded': 158.37378321,\n",
       "  'trades_count': 33},\n",
       " {'time_period_start': '2012-04-01T00:00:00.0000000Z',\n",
       "  'time_period_end': '2012-04-02T00:00:00.0000000Z',\n",
       "  'time_open': '2012-04-01T06:12:41.0000000Z',\n",
       "  'time_close': '2012-04-01T18:59:09.0000000Z',\n",
       "  'price_open': 4.89,\n",
       "  'price_high': 4.89,\n",
       "  'price_low': 4.77,\n",
       "  'price_close': 4.89,\n",
       "  'volume_traded': 308.5058652,\n",
       "  'trades_count': 37},\n",
       " {'time_period_start': '2012-04-02T00:00:00.0000000Z',\n",
       "  'time_period_end': '2012-04-03T00:00:00.0000000Z',\n",
       "  'time_open': '2012-04-02T08:53:40.0000000Z',\n",
       "  'time_close': '2012-04-02T20:28:17.0000000Z',\n",
       "  'price_open': 4.8,\n",
       "  'price_high': 5.04,\n",
       "  'price_low': 4.78,\n",
       "  'price_close': 5.04,\n",
       "  'volume_traded': 888.57861157,\n",
       "  'trades_count': 115},\n",
       " {'time_period_start': '2012-04-03T00:00:00.0000000Z',\n",
       "  'time_period_end': '2012-04-04T00:00:00.0000000Z',\n",
       "  'time_open': '2012-04-03T04:32:14.0000000Z',\n",
       "  'time_close': '2012-04-03T22:10:21.0000000Z',\n",
       "  'price_open': 5.04,\n",
       "  'price_high': 5.04,\n",
       "  'price_low': 4.86,\n",
       "  'price_close': 4.99,\n",
       "  'volume_traded': 244.30290125,\n",
       "  'trades_count': 21},\n",
       " {'time_period_start': '2012-04-04T00:00:00.0000000Z',\n",
       "  'time_period_end': '2012-04-05T00:00:00.0000000Z',\n",
       "  'time_open': '2012-04-04T08:14:20.0000000Z',\n",
       "  'time_close': '2012-04-04T20:22:36.0000000Z',\n",
       "  'price_open': 4.92,\n",
       "  'price_high': 5.01,\n",
       "  'price_low': 4.86,\n",
       "  'price_close': 5.01,\n",
       "  'volume_traded': 305.43564088,\n",
       "  'trades_count': 39},\n",
       " {'time_period_start': '2012-04-05T00:00:00.0000000Z',\n",
       "  'time_period_end': '2012-04-06T00:00:00.0000000Z',\n",
       "  'time_open': '2012-04-05T08:41:43.0000000Z',\n",
       "  'time_close': '2012-04-05T21:50:28.0000000Z',\n",
       "  'price_open': 4.99,\n",
       "  'price_high': 5.04,\n",
       "  'price_low': 4.89,\n",
       "  'price_close': 5.0,\n",
       "  'volume_traded': 400.86488523,\n",
       "  'trades_count': 32},\n",
       " {'time_period_start': '2012-04-06T00:00:00.0000000Z',\n",
       "  'time_period_end': '2012-04-07T00:00:00.0000000Z',\n",
       "  'time_open': '2012-04-06T04:06:12.0000000Z',\n",
       "  'time_close': '2012-04-06T22:05:09.0000000Z',\n",
       "  'price_open': 4.89,\n",
       "  'price_high': 4.99,\n",
       "  'price_low': 4.81,\n",
       "  'price_close': 4.99,\n",
       "  'volume_traded': 725.95771755,\n",
       "  'trades_count': 63},\n",
       " {'time_period_start': '2012-04-07T00:00:00.0000000Z',\n",
       "  'time_period_end': '2012-04-08T00:00:00.0000000Z',\n",
       "  'time_open': '2012-04-07T02:08:17.0000000Z',\n",
       "  'time_close': '2012-04-07T23:46:41.0000000Z',\n",
       "  'price_open': 4.93,\n",
       "  'price_high': 4.94,\n",
       "  'price_low': 4.7,\n",
       "  'price_close': 4.7,\n",
       "  'volume_traded': 228.65562961,\n",
       "  'trades_count': 53},\n",
       " {'time_period_start': '2012-04-08T00:00:00.0000000Z',\n",
       "  'time_period_end': '2012-04-09T00:00:00.0000000Z',\n",
       "  'time_open': '2012-04-08T03:38:10.0000000Z',\n",
       "  'time_close': '2012-04-08T19:16:19.0000000Z',\n",
       "  'price_open': 4.8,\n",
       "  'price_high': 4.8,\n",
       "  'price_low': 4.69,\n",
       "  'price_close': 4.76,\n",
       "  'volume_traded': 177.21795867,\n",
       "  'trades_count': 36},\n",
       " {'time_period_start': '2012-04-09T00:00:00.0000000Z',\n",
       "  'time_period_end': '2012-04-10T00:00:00.0000000Z',\n",
       "  'time_open': '2012-04-09T05:28:39.0000000Z',\n",
       "  'time_close': '2012-04-09T20:26:17.0000000Z',\n",
       "  'price_open': 4.7,\n",
       "  'price_high': 4.85,\n",
       "  'price_low': 4.7,\n",
       "  'price_close': 4.75,\n",
       "  'volume_traded': 158.55832457,\n",
       "  'trades_count': 17},\n",
       " {'time_period_start': '2012-04-10T00:00:00.0000000Z',\n",
       "  'time_period_end': '2012-04-11T00:00:00.0000000Z',\n",
       "  'time_open': '2012-04-10T06:39:04.0000000Z',\n",
       "  'time_close': '2012-04-10T18:15:02.0000000Z',\n",
       "  'price_open': 4.75,\n",
       "  'price_high': 4.87,\n",
       "  'price_low': 4.75,\n",
       "  'price_close': 4.8,\n",
       "  'volume_traded': 314.81763742,\n",
       "  'trades_count': 18},\n",
       " {'time_period_start': '2012-04-11T00:00:00.0000000Z',\n",
       "  'time_period_end': '2012-04-12T00:00:00.0000000Z',\n",
       "  'time_open': '2012-04-11T04:47:54.0000000Z',\n",
       "  'time_close': '2012-04-11T21:15:42.0000000Z',\n",
       "  'price_open': 4.86,\n",
       "  'price_high': 4.92,\n",
       "  'price_low': 4.78,\n",
       "  'price_close': 4.92,\n",
       "  'volume_traded': 425.60463177,\n",
       "  'trades_count': 89},\n",
       " {'time_period_start': '2012-04-12T00:00:00.0000000Z',\n",
       "  'time_period_end': '2012-04-13T00:00:00.0000000Z',\n",
       "  'time_open': '2012-04-12T03:19:23.0000000Z',\n",
       "  'time_close': '2012-04-12T22:41:02.0000000Z',\n",
       "  'price_open': 4.87,\n",
       "  'price_high': 4.93,\n",
       "  'price_low': 4.73,\n",
       "  'price_close': 4.93,\n",
       "  'volume_traded': 756.79455183,\n",
       "  'trades_count': 117},\n",
       " {'time_period_start': '2012-04-13T00:00:00.0000000Z',\n",
       "  'time_period_end': '2012-04-14T00:00:00.0000000Z',\n",
       "  'time_open': '2012-04-13T03:46:02.0000000Z',\n",
       "  'time_close': '2012-04-13T22:30:00.0000000Z',\n",
       "  'price_open': 4.88,\n",
       "  'price_high': 4.95,\n",
       "  'price_low': 4.81,\n",
       "  'price_close': 4.93,\n",
       "  'volume_traded': 1102.2658949,\n",
       "  'trades_count': 126},\n",
       " {'time_period_start': '2012-04-14T00:00:00.0000000Z',\n",
       "  'time_period_end': '2012-04-15T00:00:00.0000000Z',\n",
       "  'time_open': '2012-04-14T00:18:33.0000000Z',\n",
       "  'time_close': '2012-04-14T21:15:34.0000000Z',\n",
       "  'price_open': 4.94,\n",
       "  'price_high': 5.01,\n",
       "  'price_low': 4.94,\n",
       "  'price_close': 4.96,\n",
       "  'volume_traded': 544.64998903,\n",
       "  'trades_count': 94},\n",
       " {'time_period_start': '2012-04-15T00:00:00.0000000Z',\n",
       "  'time_period_end': '2012-04-16T00:00:00.0000000Z',\n",
       "  'time_open': '2012-04-15T03:11:50.0000000Z',\n",
       "  'time_close': '2012-04-15T23:50:22.0000000Z',\n",
       "  'price_open': 4.96,\n",
       "  'price_high': 4.99,\n",
       "  'price_low': 4.92,\n",
       "  'price_close': 4.99,\n",
       "  'volume_traded': 114.97408628,\n",
       "  'trades_count': 36},\n",
       " {'time_period_start': '2012-04-16T00:00:00.0000000Z',\n",
       "  'time_period_end': '2012-04-17T00:00:00.0000000Z',\n",
       "  'time_open': '2012-04-16T04:11:19.0000000Z',\n",
       "  'time_close': '2012-04-16T22:05:17.0000000Z',\n",
       "  'price_open': 4.93,\n",
       "  'price_high': 4.98,\n",
       "  'price_low': 4.93,\n",
       "  'price_close': 4.98,\n",
       "  'volume_traded': 487.00754874,\n",
       "  'trades_count': 26},\n",
       " {'time_period_start': '2012-04-17T00:00:00.0000000Z',\n",
       "  'time_period_end': '2012-04-18T00:00:00.0000000Z',\n",
       "  'time_open': '2012-04-17T10:13:17.0000000Z',\n",
       "  'time_close': '2012-04-17T22:45:27.0000000Z',\n",
       "  'price_open': 4.99,\n",
       "  'price_high': 4.99,\n",
       "  'price_low': 4.95,\n",
       "  'price_close': 4.98,\n",
       "  'volume_traded': 282.51538718,\n",
       "  'trades_count': 23}]"
      ]
     },
     "execution_count": 65,
     "metadata": {},
     "output_type": "execute_result"
    }
   ],
   "source": [
    "response.json()"
   ]
  },
  {
   "cell_type": "code",
   "execution_count": 66,
   "id": "opponent-fraud",
   "metadata": {
    "ExecuteTime": {
     "end_time": "2021-02-17T09:32:16.702642Z",
     "start_time": "2021-02-17T09:32:16.688673Z"
    }
   },
   "outputs": [],
   "source": [
    "with open( f'data_raw/{asset_id_base}.json', 'r+' ) as ii:\n",
    "    json_d = json.load( ii )\n",
    "    \n",
    "    json_d.extend(response.json())\n",
    "    ii.seek(0)\n",
    "    \n",
    "    json.dump(json_d, ii)"
   ]
  },
  {
   "cell_type": "code",
   "execution_count": 67,
   "id": "precious-official",
   "metadata": {
    "ExecuteTime": {
     "end_time": "2021-02-17T09:32:18.616614Z",
     "start_time": "2021-02-17T09:32:18.554689Z"
    }
   },
   "outputs": [
    {
     "data": {
      "text/plain": [
       "'OHCLV Data for BTC - Bitcoin'"
      ]
     },
     "metadata": {},
     "output_type": "display_data"
    },
    {
     "data": {
      "text/html": [
       "<div>\n",
       "<style scoped>\n",
       "    .dataframe tbody tr th:only-of-type {\n",
       "        vertical-align: middle;\n",
       "    }\n",
       "\n",
       "    .dataframe tbody tr th {\n",
       "        vertical-align: top;\n",
       "    }\n",
       "\n",
       "    .dataframe thead th {\n",
       "        text-align: right;\n",
       "    }\n",
       "</style>\n",
       "<table border=\"1\" class=\"dataframe\">\n",
       "  <thead>\n",
       "    <tr style=\"text-align: right;\">\n",
       "      <th></th>\n",
       "      <th>time_period_start</th>\n",
       "      <th>time_period_end</th>\n",
       "      <th>time_open</th>\n",
       "      <th>time_close</th>\n",
       "      <th>price_open</th>\n",
       "      <th>price_high</th>\n",
       "      <th>price_low</th>\n",
       "      <th>price_close</th>\n",
       "      <th>volume_traded</th>\n",
       "      <th>trades_count</th>\n",
       "    </tr>\n",
       "  </thead>\n",
       "  <tbody>\n",
       "    <tr>\n",
       "      <th>0</th>\n",
       "      <td>2011-09-13T00:00:00.0000000Z</td>\n",
       "      <td>2011-09-14T00:00:00.0000000Z</td>\n",
       "      <td>2011-09-13T13:53:36.0000000Z</td>\n",
       "      <td>2011-09-13T19:34:36.0000000Z</td>\n",
       "      <td>5.80</td>\n",
       "      <td>6.00</td>\n",
       "      <td>5.65</td>\n",
       "      <td>5.97</td>\n",
       "      <td>58.371382</td>\n",
       "      <td>12</td>\n",
       "    </tr>\n",
       "    <tr>\n",
       "      <th>1</th>\n",
       "      <td>2011-09-14T00:00:00.0000000Z</td>\n",
       "      <td>2011-09-15T00:00:00.0000000Z</td>\n",
       "      <td>2011-09-14T07:00:00.0000000Z</td>\n",
       "      <td>2011-09-14T15:42:31.0000000Z</td>\n",
       "      <td>5.58</td>\n",
       "      <td>5.72</td>\n",
       "      <td>5.52</td>\n",
       "      <td>5.53</td>\n",
       "      <td>61.145984</td>\n",
       "      <td>14</td>\n",
       "    </tr>\n",
       "    <tr>\n",
       "      <th>2</th>\n",
       "      <td>2011-09-15T00:00:00.0000000Z</td>\n",
       "      <td>2011-09-16T00:00:00.0000000Z</td>\n",
       "      <td>2011-09-15T08:39:33.0000000Z</td>\n",
       "      <td>2011-09-15T15:11:22.0000000Z</td>\n",
       "      <td>5.12</td>\n",
       "      <td>5.24</td>\n",
       "      <td>5.00</td>\n",
       "      <td>5.13</td>\n",
       "      <td>80.140795</td>\n",
       "      <td>6</td>\n",
       "    </tr>\n",
       "    <tr>\n",
       "      <th>3</th>\n",
       "      <td>2011-09-16T00:00:00.0000000Z</td>\n",
       "      <td>2011-09-17T00:00:00.0000000Z</td>\n",
       "      <td>2011-09-16T07:02:06.0000000Z</td>\n",
       "      <td>2011-09-16T16:13:02.0000000Z</td>\n",
       "      <td>4.82</td>\n",
       "      <td>4.87</td>\n",
       "      <td>4.80</td>\n",
       "      <td>4.85</td>\n",
       "      <td>39.914007</td>\n",
       "      <td>4</td>\n",
       "    </tr>\n",
       "    <tr>\n",
       "      <th>4</th>\n",
       "      <td>2011-09-17T00:00:00.0000000Z</td>\n",
       "      <td>2011-09-18T00:00:00.0000000Z</td>\n",
       "      <td>2011-09-17T15:32:08.0000000Z</td>\n",
       "      <td>2011-09-17T15:32:08.0000000Z</td>\n",
       "      <td>4.87</td>\n",
       "      <td>4.87</td>\n",
       "      <td>4.87</td>\n",
       "      <td>4.87</td>\n",
       "      <td>0.300000</td>\n",
       "      <td>1</td>\n",
       "    </tr>\n",
       "    <tr>\n",
       "      <th>...</th>\n",
       "      <td>...</td>\n",
       "      <td>...</td>\n",
       "      <td>...</td>\n",
       "      <td>...</td>\n",
       "      <td>...</td>\n",
       "      <td>...</td>\n",
       "      <td>...</td>\n",
       "      <td>...</td>\n",
       "      <td>...</td>\n",
       "      <td>...</td>\n",
       "    </tr>\n",
       "    <tr>\n",
       "      <th>195</th>\n",
       "      <td>2012-04-13T00:00:00.0000000Z</td>\n",
       "      <td>2012-04-14T00:00:00.0000000Z</td>\n",
       "      <td>2012-04-13T03:46:02.0000000Z</td>\n",
       "      <td>2012-04-13T22:30:00.0000000Z</td>\n",
       "      <td>4.88</td>\n",
       "      <td>4.95</td>\n",
       "      <td>4.81</td>\n",
       "      <td>4.93</td>\n",
       "      <td>1102.265895</td>\n",
       "      <td>126</td>\n",
       "    </tr>\n",
       "    <tr>\n",
       "      <th>196</th>\n",
       "      <td>2012-04-14T00:00:00.0000000Z</td>\n",
       "      <td>2012-04-15T00:00:00.0000000Z</td>\n",
       "      <td>2012-04-14T00:18:33.0000000Z</td>\n",
       "      <td>2012-04-14T21:15:34.0000000Z</td>\n",
       "      <td>4.94</td>\n",
       "      <td>5.01</td>\n",
       "      <td>4.94</td>\n",
       "      <td>4.96</td>\n",
       "      <td>544.649989</td>\n",
       "      <td>94</td>\n",
       "    </tr>\n",
       "    <tr>\n",
       "      <th>197</th>\n",
       "      <td>2012-04-15T00:00:00.0000000Z</td>\n",
       "      <td>2012-04-16T00:00:00.0000000Z</td>\n",
       "      <td>2012-04-15T03:11:50.0000000Z</td>\n",
       "      <td>2012-04-15T23:50:22.0000000Z</td>\n",
       "      <td>4.96</td>\n",
       "      <td>4.99</td>\n",
       "      <td>4.92</td>\n",
       "      <td>4.99</td>\n",
       "      <td>114.974086</td>\n",
       "      <td>36</td>\n",
       "    </tr>\n",
       "    <tr>\n",
       "      <th>198</th>\n",
       "      <td>2012-04-16T00:00:00.0000000Z</td>\n",
       "      <td>2012-04-17T00:00:00.0000000Z</td>\n",
       "      <td>2012-04-16T04:11:19.0000000Z</td>\n",
       "      <td>2012-04-16T22:05:17.0000000Z</td>\n",
       "      <td>4.93</td>\n",
       "      <td>4.98</td>\n",
       "      <td>4.93</td>\n",
       "      <td>4.98</td>\n",
       "      <td>487.007549</td>\n",
       "      <td>26</td>\n",
       "    </tr>\n",
       "    <tr>\n",
       "      <th>199</th>\n",
       "      <td>2012-04-17T00:00:00.0000000Z</td>\n",
       "      <td>2012-04-18T00:00:00.0000000Z</td>\n",
       "      <td>2012-04-17T10:13:17.0000000Z</td>\n",
       "      <td>2012-04-17T22:45:27.0000000Z</td>\n",
       "      <td>4.99</td>\n",
       "      <td>4.99</td>\n",
       "      <td>4.95</td>\n",
       "      <td>4.98</td>\n",
       "      <td>282.515387</td>\n",
       "      <td>23</td>\n",
       "    </tr>\n",
       "  </tbody>\n",
       "</table>\n",
       "<p>200 rows × 10 columns</p>\n",
       "</div>"
      ],
      "text/plain": [
       "                time_period_start               time_period_end  \\\n",
       "0    2011-09-13T00:00:00.0000000Z  2011-09-14T00:00:00.0000000Z   \n",
       "1    2011-09-14T00:00:00.0000000Z  2011-09-15T00:00:00.0000000Z   \n",
       "2    2011-09-15T00:00:00.0000000Z  2011-09-16T00:00:00.0000000Z   \n",
       "3    2011-09-16T00:00:00.0000000Z  2011-09-17T00:00:00.0000000Z   \n",
       "4    2011-09-17T00:00:00.0000000Z  2011-09-18T00:00:00.0000000Z   \n",
       "..                            ...                           ...   \n",
       "195  2012-04-13T00:00:00.0000000Z  2012-04-14T00:00:00.0000000Z   \n",
       "196  2012-04-14T00:00:00.0000000Z  2012-04-15T00:00:00.0000000Z   \n",
       "197  2012-04-15T00:00:00.0000000Z  2012-04-16T00:00:00.0000000Z   \n",
       "198  2012-04-16T00:00:00.0000000Z  2012-04-17T00:00:00.0000000Z   \n",
       "199  2012-04-17T00:00:00.0000000Z  2012-04-18T00:00:00.0000000Z   \n",
       "\n",
       "                        time_open                    time_close  price_open  \\\n",
       "0    2011-09-13T13:53:36.0000000Z  2011-09-13T19:34:36.0000000Z        5.80   \n",
       "1    2011-09-14T07:00:00.0000000Z  2011-09-14T15:42:31.0000000Z        5.58   \n",
       "2    2011-09-15T08:39:33.0000000Z  2011-09-15T15:11:22.0000000Z        5.12   \n",
       "3    2011-09-16T07:02:06.0000000Z  2011-09-16T16:13:02.0000000Z        4.82   \n",
       "4    2011-09-17T15:32:08.0000000Z  2011-09-17T15:32:08.0000000Z        4.87   \n",
       "..                            ...                           ...         ...   \n",
       "195  2012-04-13T03:46:02.0000000Z  2012-04-13T22:30:00.0000000Z        4.88   \n",
       "196  2012-04-14T00:18:33.0000000Z  2012-04-14T21:15:34.0000000Z        4.94   \n",
       "197  2012-04-15T03:11:50.0000000Z  2012-04-15T23:50:22.0000000Z        4.96   \n",
       "198  2012-04-16T04:11:19.0000000Z  2012-04-16T22:05:17.0000000Z        4.93   \n",
       "199  2012-04-17T10:13:17.0000000Z  2012-04-17T22:45:27.0000000Z        4.99   \n",
       "\n",
       "     price_high  price_low  price_close  volume_traded  trades_count  \n",
       "0          6.00       5.65         5.97      58.371382            12  \n",
       "1          5.72       5.52         5.53      61.145984            14  \n",
       "2          5.24       5.00         5.13      80.140795             6  \n",
       "3          4.87       4.80         4.85      39.914007             4  \n",
       "4          4.87       4.87         4.87       0.300000             1  \n",
       "..          ...        ...          ...            ...           ...  \n",
       "195        4.95       4.81         4.93    1102.265895           126  \n",
       "196        5.01       4.94         4.96     544.649989            94  \n",
       "197        4.99       4.92         4.99     114.974086            36  \n",
       "198        4.98       4.93         4.98     487.007549            26  \n",
       "199        4.99       4.95         4.98     282.515387            23  \n",
       "\n",
       "[200 rows x 10 columns]"
      ]
     },
     "metadata": {},
     "output_type": "display_data"
    }
   ],
   "source": [
    "with open( f'data_raw/{asset_id_base}.json', 'r' ) as jj:\n",
    "    json_d = json.load( jj )\n",
    "    df_asset_id = pd.DataFrame( json_d )\n",
    "display(f'OHCLV Data for {asset_id_base} - {df_assets.iloc[df_assets.loc[df_assets[\"asset_id\"] == asset_id_base].index.item()][\"name\"]}')\n",
    "display(df_asset_id)\n",
    "\n",
    "\n",
    "# df_asset_id.iloc[df_asset_id.loc[df_asset_id[\"price_high\"] == 5.72].index.item()][\"price_close\"]\n"
   ]
  },
  {
   "cell_type": "code",
   "execution_count": 68,
   "id": "adult-transcript",
   "metadata": {
    "ExecuteTime": {
     "end_time": "2021-02-17T09:32:22.655505Z",
     "start_time": "2021-02-17T09:32:22.645466Z"
    }
   },
   "outputs": [
    {
     "data": {
      "text/plain": [
       "time_period_start    200\n",
       "time_period_end      200\n",
       "time_open            200\n",
       "time_close           200\n",
       "price_open           137\n",
       "price_high           134\n",
       "price_low            132\n",
       "price_close          138\n",
       "volume_traded        199\n",
       "trades_count          63\n",
       "dtype: int64"
      ]
     },
     "execution_count": 68,
     "metadata": {},
     "output_type": "execute_result"
    }
   ],
   "source": [
    "df_asset_id.nunique()"
   ]
  },
  {
   "cell_type": "code",
   "execution_count": 69,
   "id": "imported-compression",
   "metadata": {
    "ExecuteTime": {
     "end_time": "2021-02-17T09:32:23.585810Z",
     "start_time": "2021-02-17T09:32:23.581879Z"
    },
    "scrolled": false
   },
   "outputs": [],
   "source": [
    "# with open( f'data_raw/{asset_id_base}.json', 'r' ) as jj:\n",
    "#     json_d = json.load( jj )\n",
    "# print(json.dumps(json_d, indent=4))"
   ]
  },
  {
   "cell_type": "code",
   "execution_count": 70,
   "id": "eastern-mainstream",
   "metadata": {
    "ExecuteTime": {
     "end_time": "2021-02-17T09:32:24.593077Z",
     "start_time": "2021-02-17T09:32:24.567132Z"
    }
   },
   "outputs": [
    {
     "data": {
      "application/vnd.plotly.v1+json": {
       "config": {
        "plotlyServerURL": "https://plot.ly"
       },
       "data": [
        {
         "close": [
          5.97,
          5.53,
          5.13,
          4.85,
          4.87,
          4.92,
          4.9,
          5.66,
          5.66,
          5.72,
          5.72,
          5.68,
          6.05,
          4.8,
          4.92,
          4.82,
          4.82,
          4.87,
          4.98,
          4.92,
          4.8,
          4.61,
          3.99,
          3.89,
          4.51,
          4.1,
          3.93,
          3.97,
          4.05,
          3.92,
          2.24,
          2.27,
          2.92,
          2.72,
          2.69,
          4.2,
          3.95,
          3.5,
          3.3,
          3.33,
          3.55,
          3.05,
          2.95,
          3.08,
          3.3,
          3.3,
          3.3,
          3.35,
          3.35,
          2.47,
          2.5,
          3,
          2.99,
          2.5,
          2.43,
          2.37,
          2.25,
          2.59,
          3,
          2.75,
          2.77,
          2.66,
          2.72,
          3.19,
          3.42,
          3.04,
          2.93,
          2.93,
          2.98,
          3.3,
          3.3,
          3.2,
          3.27,
          3.48,
          3.56,
          3.47,
          3.45,
          3.44,
          3.5,
          3.85,
          4.55,
          4.38,
          4.17,
          4.22,
          4.33,
          4.27,
          4.33,
          4.29,
          4.3,
          4.5,
          4.21,
          4.58,
          5,
          5,
          5.29,
          5.37,
          6.65,
          6,
          6.8,
          7,
          6.3,
          7.14,
          7,
          6.51,
          6.6,
          6.3,
          7.15,
          7.1,
          6,
          7.1,
          6.22,
          6.95,
          6.77,
          6.79,
          6.52,
          6.55,
          6.31,
          5.5,
          5.88,
          4.91,
          5.5,
          5.58,
          5.3,
          5.88,
          6.28,
          6.3,
          5.94,
          5.6,
          5.6,
          5.69,
          5.87,
          5.89,
          5.88,
          5.5,
          5.67,
          5.79,
          4.89,
          4.69,
          4.51,
          4.67,
          4.23,
          4.38,
          4.44,
          4.58,
          4.51,
          5.22,
          4.95,
          5,
          4.98,
          5.04,
          4.88,
          4.99,
          5,
          4.79,
          4.65,
          4.81,
          5.05,
          4.98,
          4.97,
          5.01,
          4.95,
          4.94,
          5,
          4.99,
          5.29,
          5.27,
          5.39,
          5.26,
          5.42,
          5.25,
          4.84,
          4.79,
          4.96,
          4.91,
          4.78,
          4.83,
          4.54,
          4.73,
          4.84,
          4.93,
          4.84,
          4.88,
          4.9,
          4.89,
          5.04,
          4.99,
          5.01,
          5,
          4.99,
          4.7,
          4.76,
          4.75,
          4.8,
          4.92,
          4.93,
          4.93,
          4.96,
          4.99,
          4.98,
          4.98
         ],
         "high": [
          6,
          5.72,
          5.24,
          4.87,
          4.87,
          4.92,
          4.9,
          5.66,
          5.79,
          5.72,
          5.72,
          5.76,
          6.05,
          6.06,
          4.92,
          4.91,
          4.82,
          4.87,
          5.3,
          6.25,
          4.99,
          4.81,
          4.57,
          3.89,
          4.51,
          4.1,
          3.99,
          3.97,
          4.05,
          3.92,
          2.29,
          2.27,
          2.99,
          2.72,
          3,
          4.36,
          4.4,
          3.85,
          3.55,
          3.33,
          3.55,
          3.21,
          2.95,
          3.08,
          3.3,
          3.3,
          3.3,
          3.35,
          3.35,
          2.95,
          3,
          3,
          3,
          2.79,
          2.5,
          2.37,
          3,
          2.59,
          3,
          15,
          2.77,
          2.78,
          3.23,
          3.19,
          3.48,
          3.45,
          2.93,
          2.99,
          3.25,
          3.35,
          3.5,
          3.2,
          3.37,
          3.6,
          3.59,
          3.49,
          3.45,
          3.5,
          3.5,
          3.98,
          4.75,
          4.38,
          4.19,
          4.35,
          4.33,
          4.32,
          4.33,
          4.33,
          4.3,
          4.5,
          4.5,
          4.58,
          5,
          5,
          5.32,
          5.57,
          6.65,
          6.9,
          6.8,
          7,
          6.99,
          7.14,
          7.33,
          7.38,
          7.36,
          6.5,
          7.15,
          7.1,
          6.9,
          7.1,
          7,
          6.95,
          6.77,
          6.83,
          6.52,
          6.57,
          6.86,
          6.3,
          6.03,
          4.91,
          5.9,
          5.58,
          6.22,
          5.99,
          6.28,
          6.35,
          6.5,
          6.15,
          5.9,
          5.88,
          5.87,
          5.89,
          5.88,
          5.71,
          5.78,
          5.79,
          5.8,
          5.08,
          4.98,
          4.8,
          4.73,
          4.38,
          4.72,
          4.58,
          4.59,
          5.22,
          5.22,
          5.11,
          5.07,
          5.1,
          5.1,
          5,
          5.05,
          4.99,
          4.99,
          4.81,
          5.06,
          5.05,
          5.09,
          5.08,
          5.07,
          4.99,
          5,
          4.99,
          5.32,
          5.44,
          5.43,
          5.41,
          5.42,
          5.42,
          5.37,
          4.97,
          4.96,
          4.98,
          4.89,
          4.83,
          4.84,
          4.75,
          4.97,
          4.95,
          4.93,
          4.91,
          4.92,
          4.89,
          5.04,
          5.04,
          5.01,
          5.04,
          4.99,
          4.94,
          4.8,
          4.85,
          4.87,
          4.92,
          4.93,
          4.95,
          5.01,
          4.99,
          4.98,
          4.99
         ],
         "low": [
          5.65,
          5.52,
          5,
          4.8,
          4.87,
          4.81,
          4.9,
          4.92,
          5.66,
          5.68,
          5.7,
          5.68,
          6.05,
          4.8,
          4.85,
          4.82,
          4.81,
          4.83,
          4.8,
          4.8,
          4.8,
          4.59,
          3.99,
          3.89,
          3.99,
          3.98,
          3.93,
          3.93,
          4.05,
          3.92,
          2.22,
          2.22,
          2.92,
          2.66,
          2.67,
          3.07,
          3.69,
          3.2,
          3.2,
          3.32,
          3.21,
          3,
          2.95,
          3.08,
          3.09,
          2.95,
          3.3,
          3.35,
          3.35,
          2.47,
          2.5,
          2.51,
          2.5,
          2.5,
          2.43,
          2.37,
          2.25,
          2.46,
          2.54,
          2.5,
          2.77,
          2.66,
          2.69,
          3.19,
          3.3,
          3.04,
          2.93,
          2.82,
          2.89,
          3.05,
          2.95,
          3,
          3.17,
          3.37,
          3.25,
          3.42,
          3.39,
          3.25,
          3.25,
          3.5,
          4.53,
          4.38,
          4.17,
          3.84,
          4.33,
          4.27,
          4.27,
          4.29,
          4.25,
          4.3,
          4.21,
          4.39,
          4.58,
          5,
          5.14,
          4.93,
          5.72,
          6,
          6.8,
          6.9,
          6.23,
          6.24,
          6.25,
          6.51,
          6.6,
          6.3,
          7.15,
          6.2,
          6,
          5.99,
          5.52,
          6.55,
          6.28,
          6.03,
          6,
          6,
          6,
          5.5,
          3.8,
          4.91,
          5.3,
          5.3,
          3.8,
          5.52,
          5.89,
          5.93,
          5.94,
          5.6,
          5.2,
          5.5,
          5.66,
          5.51,
          5.8,
          5.5,
          5.55,
          5.5,
          4.56,
          4.69,
          4.15,
          4.5,
          4.14,
          4.3,
          4.4,
          4.3,
          4.46,
          4.55,
          4.95,
          5,
          4.78,
          4.95,
          4.71,
          4.85,
          4.9,
          4.64,
          4.6,
          4.77,
          4.77,
          4.95,
          4.93,
          4.87,
          4.93,
          4.85,
          4.84,
          4.85,
          4.96,
          5.27,
          5.27,
          5.26,
          5.38,
          5.24,
          4.83,
          4.79,
          4.9,
          4.72,
          4.6,
          4.62,
          4.54,
          4.54,
          4.54,
          4.72,
          4.77,
          4.76,
          4.89,
          4.77,
          4.78,
          4.86,
          4.86,
          4.89,
          4.81,
          4.7,
          4.69,
          4.7,
          4.75,
          4.78,
          4.73,
          4.81,
          4.94,
          4.92,
          4.93,
          4.95
         ],
         "open": [
          5.8,
          5.58,
          5.12,
          4.82,
          4.87,
          4.87,
          4.9,
          4.92,
          5.7,
          5.68,
          5.7,
          5.7,
          6.05,
          6.06,
          4.85,
          4.9,
          4.81,
          4.85,
          4.86,
          4.92,
          4.88,
          4.8,
          4.57,
          3.89,
          3.99,
          3.98,
          3.95,
          3.93,
          4.05,
          3.92,
          2.22,
          2.22,
          2.99,
          2.66,
          3,
          3.07,
          3.69,
          3.85,
          3.25,
          3.32,
          3.27,
          3.21,
          2.95,
          3.08,
          3.09,
          3.25,
          3.3,
          3.35,
          3.35,
          2.95,
          2.99,
          2.51,
          3,
          2.5,
          2.5,
          2.37,
          2.45,
          2.53,
          2.54,
          2.5,
          2.77,
          2.67,
          2.69,
          3.19,
          3.46,
          3.45,
          2.93,
          2.82,
          2.9,
          3.05,
          3.27,
          3.2,
          3.17,
          3.37,
          3.25,
          3.42,
          3.39,
          3.25,
          3.25,
          3.5,
          4.75,
          4.38,
          4.19,
          3.86,
          4.33,
          4.32,
          4.27,
          4.33,
          4.29,
          4.3,
          4.26,
          4.39,
          4.58,
          5,
          5.32,
          4.93,
          5.72,
          6.65,
          6.8,
          6.9,
          6.99,
          6.24,
          7.14,
          6.95,
          6.8,
          6.5,
          7.15,
          6.2,
          6.5,
          5.99,
          5.52,
          6.9,
          6.3,
          6.79,
          6.5,
          6.52,
          6.26,
          6.27,
          3.8,
          4.91,
          5.89,
          5.3,
          5.7,
          5.53,
          5.99,
          6.29,
          6.35,
          5.93,
          5.6,
          5.5,
          5.79,
          5.52,
          5.88,
          5.71,
          5.78,
          5.53,
          5.2,
          4.9,
          4.5,
          4.68,
          4.67,
          4.38,
          4.72,
          4.52,
          4.47,
          4.59,
          5.12,
          5.11,
          4.78,
          4.97,
          5.09,
          4.97,
          4.99,
          4.99,
          4.81,
          4.78,
          4.8,
          5,
          5.05,
          4.92,
          4.97,
          4.89,
          4.94,
          4.85,
          4.99,
          5.33,
          5.27,
          5.3,
          5.38,
          5.41,
          5.24,
          4.82,
          4.9,
          4.86,
          4.73,
          4.72,
          4.61,
          4.6,
          4.54,
          4.73,
          4.93,
          4.81,
          4.92,
          4.89,
          4.8,
          5.04,
          4.92,
          4.99,
          4.89,
          4.93,
          4.8,
          4.7,
          4.75,
          4.86,
          4.87,
          4.88,
          4.94,
          4.96,
          4.93,
          4.99
         ],
         "type": "candlestick",
         "x": [
          "2011-09-13T00:00:00.0000000Z",
          "2011-09-14T00:00:00.0000000Z",
          "2011-09-15T00:00:00.0000000Z",
          "2011-09-16T00:00:00.0000000Z",
          "2011-09-17T00:00:00.0000000Z",
          "2011-09-18T00:00:00.0000000Z",
          "2011-09-19T00:00:00.0000000Z",
          "2011-09-20T00:00:00.0000000Z",
          "2011-09-21T00:00:00.0000000Z",
          "2011-09-22T00:00:00.0000000Z",
          "2011-09-23T00:00:00.0000000Z",
          "2011-09-24T00:00:00.0000000Z",
          "2011-09-25T00:00:00.0000000Z",
          "2011-09-26T00:00:00.0000000Z",
          "2011-09-27T00:00:00.0000000Z",
          "2011-09-28T00:00:00.0000000Z",
          "2011-09-29T00:00:00.0000000Z",
          "2011-10-03T00:00:00.0000000Z",
          "2011-10-04T00:00:00.0000000Z",
          "2011-10-05T00:00:00.0000000Z",
          "2011-10-06T00:00:00.0000000Z",
          "2011-10-07T00:00:00.0000000Z",
          "2011-10-08T00:00:00.0000000Z",
          "2011-10-09T00:00:00.0000000Z",
          "2011-10-10T00:00:00.0000000Z",
          "2011-10-11T00:00:00.0000000Z",
          "2011-10-12T00:00:00.0000000Z",
          "2011-10-13T00:00:00.0000000Z",
          "2011-10-14T00:00:00.0000000Z",
          "2011-10-17T00:00:00.0000000Z",
          "2011-10-20T00:00:00.0000000Z",
          "2011-10-21T00:00:00.0000000Z",
          "2011-10-24T00:00:00.0000000Z",
          "2011-10-25T00:00:00.0000000Z",
          "2011-10-26T00:00:00.0000000Z",
          "2011-10-28T00:00:00.0000000Z",
          "2011-10-29T00:00:00.0000000Z",
          "2011-10-30T00:00:00.0000000Z",
          "2011-10-31T00:00:00.0000000Z",
          "2011-11-01T00:00:00.0000000Z",
          "2011-11-04T00:00:00.0000000Z",
          "2011-11-05T00:00:00.0000000Z",
          "2011-11-06T00:00:00.0000000Z",
          "2011-11-08T00:00:00.0000000Z",
          "2011-11-09T00:00:00.0000000Z",
          "2011-11-10T00:00:00.0000000Z",
          "2011-11-11T00:00:00.0000000Z",
          "2011-11-12T00:00:00.0000000Z",
          "2011-11-13T00:00:00.0000000Z",
          "2011-11-14T00:00:00.0000000Z",
          "2011-11-15T00:00:00.0000000Z",
          "2011-11-16T00:00:00.0000000Z",
          "2011-11-17T00:00:00.0000000Z",
          "2011-11-18T00:00:00.0000000Z",
          "2011-11-19T00:00:00.0000000Z",
          "2011-11-20T00:00:00.0000000Z",
          "2011-11-21T00:00:00.0000000Z",
          "2011-11-22T00:00:00.0000000Z",
          "2011-11-24T00:00:00.0000000Z",
          "2011-11-25T00:00:00.0000000Z",
          "2011-11-26T00:00:00.0000000Z",
          "2011-11-28T00:00:00.0000000Z",
          "2011-11-29T00:00:00.0000000Z",
          "2011-11-30T00:00:00.0000000Z",
          "2011-12-01T00:00:00.0000000Z",
          "2011-12-02T00:00:00.0000000Z",
          "2011-12-03T00:00:00.0000000Z",
          "2011-12-05T00:00:00.0000000Z",
          "2011-12-06T00:00:00.0000000Z",
          "2011-12-07T00:00:00.0000000Z",
          "2011-12-08T00:00:00.0000000Z",
          "2011-12-10T00:00:00.0000000Z",
          "2011-12-11T00:00:00.0000000Z",
          "2011-12-12T00:00:00.0000000Z",
          "2011-12-13T00:00:00.0000000Z",
          "2011-12-14T00:00:00.0000000Z",
          "2011-12-15T00:00:00.0000000Z",
          "2011-12-16T00:00:00.0000000Z",
          "2011-12-18T00:00:00.0000000Z",
          "2011-12-19T00:00:00.0000000Z",
          "2011-12-20T00:00:00.0000000Z",
          "2011-12-21T00:00:00.0000000Z",
          "2011-12-22T00:00:00.0000000Z",
          "2011-12-23T00:00:00.0000000Z",
          "2011-12-24T00:00:00.0000000Z",
          "2011-12-25T00:00:00.0000000Z",
          "2011-12-26T00:00:00.0000000Z",
          "2011-12-27T00:00:00.0000000Z",
          "2011-12-28T00:00:00.0000000Z",
          "2011-12-29T00:00:00.0000000Z",
          "2011-12-30T00:00:00.0000000Z",
          "2011-12-31T00:00:00.0000000Z",
          "2012-01-01T00:00:00.0000000Z",
          "2012-01-02T00:00:00.0000000Z",
          "2012-01-03T00:00:00.0000000Z",
          "2012-01-04T00:00:00.0000000Z",
          "2012-01-05T00:00:00.0000000Z",
          "2012-01-06T00:00:00.0000000Z",
          "2012-01-07T00:00:00.0000000Z",
          "2012-01-08T00:00:00.0000000Z",
          "2012-01-09T00:00:00.0000000Z",
          "2012-01-10T00:00:00.0000000Z",
          "2012-01-11T00:00:00.0000000Z",
          "2012-01-12T00:00:00.0000000Z",
          "2012-01-13T00:00:00.0000000Z",
          "2012-01-14T00:00:00.0000000Z",
          "2012-01-15T00:00:00.0000000Z",
          "2012-01-16T00:00:00.0000000Z",
          "2012-01-17T00:00:00.0000000Z",
          "2012-01-18T00:00:00.0000000Z",
          "2012-01-19T00:00:00.0000000Z",
          "2012-01-20T00:00:00.0000000Z",
          "2012-01-21T00:00:00.0000000Z",
          "2012-01-22T00:00:00.0000000Z",
          "2012-01-23T00:00:00.0000000Z",
          "2012-01-24T00:00:00.0000000Z",
          "2012-01-25T00:00:00.0000000Z",
          "2012-01-26T00:00:00.0000000Z",
          "2012-01-27T00:00:00.0000000Z",
          "2012-01-28T00:00:00.0000000Z",
          "2012-01-29T00:00:00.0000000Z",
          "2012-01-30T00:00:00.0000000Z",
          "2012-01-31T00:00:00.0000000Z",
          "2012-02-01T00:00:00.0000000Z",
          "2012-02-02T00:00:00.0000000Z",
          "2012-02-03T00:00:00.0000000Z",
          "2012-02-04T00:00:00.0000000Z",
          "2012-02-05T00:00:00.0000000Z",
          "2012-02-06T00:00:00.0000000Z",
          "2012-02-07T00:00:00.0000000Z",
          "2012-02-08T00:00:00.0000000Z",
          "2012-02-09T00:00:00.0000000Z",
          "2012-02-10T00:00:00.0000000Z",
          "2012-02-11T00:00:00.0000000Z",
          "2012-02-12T00:00:00.0000000Z",
          "2012-02-13T00:00:00.0000000Z",
          "2012-02-14T00:00:00.0000000Z",
          "2012-02-15T00:00:00.0000000Z",
          "2012-02-16T00:00:00.0000000Z",
          "2012-02-17T00:00:00.0000000Z",
          "2012-02-18T00:00:00.0000000Z",
          "2012-02-19T00:00:00.0000000Z",
          "2012-02-20T00:00:00.0000000Z",
          "2012-02-21T00:00:00.0000000Z",
          "2012-02-22T00:00:00.0000000Z",
          "2012-02-23T00:00:00.0000000Z",
          "2012-02-24T00:00:00.0000000Z",
          "2012-02-25T00:00:00.0000000Z",
          "2012-02-26T00:00:00.0000000Z",
          "2012-02-27T00:00:00.0000000Z",
          "2012-02-28T00:00:00.0000000Z",
          "2012-02-29T00:00:00.0000000Z",
          "2012-03-01T00:00:00.0000000Z",
          "2012-03-02T00:00:00.0000000Z",
          "2012-03-03T00:00:00.0000000Z",
          "2012-03-04T00:00:00.0000000Z",
          "2012-03-05T00:00:00.0000000Z",
          "2012-03-06T00:00:00.0000000Z",
          "2012-03-07T00:00:00.0000000Z",
          "2012-03-08T00:00:00.0000000Z",
          "2012-03-09T00:00:00.0000000Z",
          "2012-03-10T00:00:00.0000000Z",
          "2012-03-11T00:00:00.0000000Z",
          "2012-03-12T00:00:00.0000000Z",
          "2012-03-13T00:00:00.0000000Z",
          "2012-03-14T00:00:00.0000000Z",
          "2012-03-15T00:00:00.0000000Z",
          "2012-03-16T00:00:00.0000000Z",
          "2012-03-17T00:00:00.0000000Z",
          "2012-03-18T00:00:00.0000000Z",
          "2012-03-19T00:00:00.0000000Z",
          "2012-03-20T00:00:00.0000000Z",
          "2012-03-21T00:00:00.0000000Z",
          "2012-03-22T00:00:00.0000000Z",
          "2012-03-23T00:00:00.0000000Z",
          "2012-03-24T00:00:00.0000000Z",
          "2012-03-25T00:00:00.0000000Z",
          "2012-03-26T00:00:00.0000000Z",
          "2012-03-27T00:00:00.0000000Z",
          "2012-03-28T00:00:00.0000000Z",
          "2012-03-29T00:00:00.0000000Z",
          "2012-03-30T00:00:00.0000000Z",
          "2012-03-31T00:00:00.0000000Z",
          "2012-04-01T00:00:00.0000000Z",
          "2012-04-02T00:00:00.0000000Z",
          "2012-04-03T00:00:00.0000000Z",
          "2012-04-04T00:00:00.0000000Z",
          "2012-04-05T00:00:00.0000000Z",
          "2012-04-06T00:00:00.0000000Z",
          "2012-04-07T00:00:00.0000000Z",
          "2012-04-08T00:00:00.0000000Z",
          "2012-04-09T00:00:00.0000000Z",
          "2012-04-10T00:00:00.0000000Z",
          "2012-04-11T00:00:00.0000000Z",
          "2012-04-12T00:00:00.0000000Z",
          "2012-04-13T00:00:00.0000000Z",
          "2012-04-14T00:00:00.0000000Z",
          "2012-04-15T00:00:00.0000000Z",
          "2012-04-16T00:00:00.0000000Z",
          "2012-04-17T00:00:00.0000000Z"
         ]
        }
       ],
       "layout": {
        "template": {
         "data": {
          "bar": [
           {
            "error_x": {
             "color": "#2a3f5f"
            },
            "error_y": {
             "color": "#2a3f5f"
            },
            "marker": {
             "line": {
              "color": "#E5ECF6",
              "width": 0.5
             }
            },
            "type": "bar"
           }
          ],
          "barpolar": [
           {
            "marker": {
             "line": {
              "color": "#E5ECF6",
              "width": 0.5
             }
            },
            "type": "barpolar"
           }
          ],
          "carpet": [
           {
            "aaxis": {
             "endlinecolor": "#2a3f5f",
             "gridcolor": "white",
             "linecolor": "white",
             "minorgridcolor": "white",
             "startlinecolor": "#2a3f5f"
            },
            "baxis": {
             "endlinecolor": "#2a3f5f",
             "gridcolor": "white",
             "linecolor": "white",
             "minorgridcolor": "white",
             "startlinecolor": "#2a3f5f"
            },
            "type": "carpet"
           }
          ],
          "choropleth": [
           {
            "colorbar": {
             "outlinewidth": 0,
             "ticks": ""
            },
            "type": "choropleth"
           }
          ],
          "contour": [
           {
            "colorbar": {
             "outlinewidth": 0,
             "ticks": ""
            },
            "colorscale": [
             [
              0,
              "#0d0887"
             ],
             [
              0.1111111111111111,
              "#46039f"
             ],
             [
              0.2222222222222222,
              "#7201a8"
             ],
             [
              0.3333333333333333,
              "#9c179e"
             ],
             [
              0.4444444444444444,
              "#bd3786"
             ],
             [
              0.5555555555555556,
              "#d8576b"
             ],
             [
              0.6666666666666666,
              "#ed7953"
             ],
             [
              0.7777777777777778,
              "#fb9f3a"
             ],
             [
              0.8888888888888888,
              "#fdca26"
             ],
             [
              1,
              "#f0f921"
             ]
            ],
            "type": "contour"
           }
          ],
          "contourcarpet": [
           {
            "colorbar": {
             "outlinewidth": 0,
             "ticks": ""
            },
            "type": "contourcarpet"
           }
          ],
          "heatmap": [
           {
            "colorbar": {
             "outlinewidth": 0,
             "ticks": ""
            },
            "colorscale": [
             [
              0,
              "#0d0887"
             ],
             [
              0.1111111111111111,
              "#46039f"
             ],
             [
              0.2222222222222222,
              "#7201a8"
             ],
             [
              0.3333333333333333,
              "#9c179e"
             ],
             [
              0.4444444444444444,
              "#bd3786"
             ],
             [
              0.5555555555555556,
              "#d8576b"
             ],
             [
              0.6666666666666666,
              "#ed7953"
             ],
             [
              0.7777777777777778,
              "#fb9f3a"
             ],
             [
              0.8888888888888888,
              "#fdca26"
             ],
             [
              1,
              "#f0f921"
             ]
            ],
            "type": "heatmap"
           }
          ],
          "heatmapgl": [
           {
            "colorbar": {
             "outlinewidth": 0,
             "ticks": ""
            },
            "colorscale": [
             [
              0,
              "#0d0887"
             ],
             [
              0.1111111111111111,
              "#46039f"
             ],
             [
              0.2222222222222222,
              "#7201a8"
             ],
             [
              0.3333333333333333,
              "#9c179e"
             ],
             [
              0.4444444444444444,
              "#bd3786"
             ],
             [
              0.5555555555555556,
              "#d8576b"
             ],
             [
              0.6666666666666666,
              "#ed7953"
             ],
             [
              0.7777777777777778,
              "#fb9f3a"
             ],
             [
              0.8888888888888888,
              "#fdca26"
             ],
             [
              1,
              "#f0f921"
             ]
            ],
            "type": "heatmapgl"
           }
          ],
          "histogram": [
           {
            "marker": {
             "colorbar": {
              "outlinewidth": 0,
              "ticks": ""
             }
            },
            "type": "histogram"
           }
          ],
          "histogram2d": [
           {
            "colorbar": {
             "outlinewidth": 0,
             "ticks": ""
            },
            "colorscale": [
             [
              0,
              "#0d0887"
             ],
             [
              0.1111111111111111,
              "#46039f"
             ],
             [
              0.2222222222222222,
              "#7201a8"
             ],
             [
              0.3333333333333333,
              "#9c179e"
             ],
             [
              0.4444444444444444,
              "#bd3786"
             ],
             [
              0.5555555555555556,
              "#d8576b"
             ],
             [
              0.6666666666666666,
              "#ed7953"
             ],
             [
              0.7777777777777778,
              "#fb9f3a"
             ],
             [
              0.8888888888888888,
              "#fdca26"
             ],
             [
              1,
              "#f0f921"
             ]
            ],
            "type": "histogram2d"
           }
          ],
          "histogram2dcontour": [
           {
            "colorbar": {
             "outlinewidth": 0,
             "ticks": ""
            },
            "colorscale": [
             [
              0,
              "#0d0887"
             ],
             [
              0.1111111111111111,
              "#46039f"
             ],
             [
              0.2222222222222222,
              "#7201a8"
             ],
             [
              0.3333333333333333,
              "#9c179e"
             ],
             [
              0.4444444444444444,
              "#bd3786"
             ],
             [
              0.5555555555555556,
              "#d8576b"
             ],
             [
              0.6666666666666666,
              "#ed7953"
             ],
             [
              0.7777777777777778,
              "#fb9f3a"
             ],
             [
              0.8888888888888888,
              "#fdca26"
             ],
             [
              1,
              "#f0f921"
             ]
            ],
            "type": "histogram2dcontour"
           }
          ],
          "mesh3d": [
           {
            "colorbar": {
             "outlinewidth": 0,
             "ticks": ""
            },
            "type": "mesh3d"
           }
          ],
          "parcoords": [
           {
            "line": {
             "colorbar": {
              "outlinewidth": 0,
              "ticks": ""
             }
            },
            "type": "parcoords"
           }
          ],
          "pie": [
           {
            "automargin": true,
            "type": "pie"
           }
          ],
          "scatter": [
           {
            "marker": {
             "colorbar": {
              "outlinewidth": 0,
              "ticks": ""
             }
            },
            "type": "scatter"
           }
          ],
          "scatter3d": [
           {
            "line": {
             "colorbar": {
              "outlinewidth": 0,
              "ticks": ""
             }
            },
            "marker": {
             "colorbar": {
              "outlinewidth": 0,
              "ticks": ""
             }
            },
            "type": "scatter3d"
           }
          ],
          "scattercarpet": [
           {
            "marker": {
             "colorbar": {
              "outlinewidth": 0,
              "ticks": ""
             }
            },
            "type": "scattercarpet"
           }
          ],
          "scattergeo": [
           {
            "marker": {
             "colorbar": {
              "outlinewidth": 0,
              "ticks": ""
             }
            },
            "type": "scattergeo"
           }
          ],
          "scattergl": [
           {
            "marker": {
             "colorbar": {
              "outlinewidth": 0,
              "ticks": ""
             }
            },
            "type": "scattergl"
           }
          ],
          "scattermapbox": [
           {
            "marker": {
             "colorbar": {
              "outlinewidth": 0,
              "ticks": ""
             }
            },
            "type": "scattermapbox"
           }
          ],
          "scatterpolar": [
           {
            "marker": {
             "colorbar": {
              "outlinewidth": 0,
              "ticks": ""
             }
            },
            "type": "scatterpolar"
           }
          ],
          "scatterpolargl": [
           {
            "marker": {
             "colorbar": {
              "outlinewidth": 0,
              "ticks": ""
             }
            },
            "type": "scatterpolargl"
           }
          ],
          "scatterternary": [
           {
            "marker": {
             "colorbar": {
              "outlinewidth": 0,
              "ticks": ""
             }
            },
            "type": "scatterternary"
           }
          ],
          "surface": [
           {
            "colorbar": {
             "outlinewidth": 0,
             "ticks": ""
            },
            "colorscale": [
             [
              0,
              "#0d0887"
             ],
             [
              0.1111111111111111,
              "#46039f"
             ],
             [
              0.2222222222222222,
              "#7201a8"
             ],
             [
              0.3333333333333333,
              "#9c179e"
             ],
             [
              0.4444444444444444,
              "#bd3786"
             ],
             [
              0.5555555555555556,
              "#d8576b"
             ],
             [
              0.6666666666666666,
              "#ed7953"
             ],
             [
              0.7777777777777778,
              "#fb9f3a"
             ],
             [
              0.8888888888888888,
              "#fdca26"
             ],
             [
              1,
              "#f0f921"
             ]
            ],
            "type": "surface"
           }
          ],
          "table": [
           {
            "cells": {
             "fill": {
              "color": "#EBF0F8"
             },
             "line": {
              "color": "white"
             }
            },
            "header": {
             "fill": {
              "color": "#C8D4E3"
             },
             "line": {
              "color": "white"
             }
            },
            "type": "table"
           }
          ]
         },
         "layout": {
          "annotationdefaults": {
           "arrowcolor": "#2a3f5f",
           "arrowhead": 0,
           "arrowwidth": 1
          },
          "autotypenumbers": "strict",
          "coloraxis": {
           "colorbar": {
            "outlinewidth": 0,
            "ticks": ""
           }
          },
          "colorscale": {
           "diverging": [
            [
             0,
             "#8e0152"
            ],
            [
             0.1,
             "#c51b7d"
            ],
            [
             0.2,
             "#de77ae"
            ],
            [
             0.3,
             "#f1b6da"
            ],
            [
             0.4,
             "#fde0ef"
            ],
            [
             0.5,
             "#f7f7f7"
            ],
            [
             0.6,
             "#e6f5d0"
            ],
            [
             0.7,
             "#b8e186"
            ],
            [
             0.8,
             "#7fbc41"
            ],
            [
             0.9,
             "#4d9221"
            ],
            [
             1,
             "#276419"
            ]
           ],
           "sequential": [
            [
             0,
             "#0d0887"
            ],
            [
             0.1111111111111111,
             "#46039f"
            ],
            [
             0.2222222222222222,
             "#7201a8"
            ],
            [
             0.3333333333333333,
             "#9c179e"
            ],
            [
             0.4444444444444444,
             "#bd3786"
            ],
            [
             0.5555555555555556,
             "#d8576b"
            ],
            [
             0.6666666666666666,
             "#ed7953"
            ],
            [
             0.7777777777777778,
             "#fb9f3a"
            ],
            [
             0.8888888888888888,
             "#fdca26"
            ],
            [
             1,
             "#f0f921"
            ]
           ],
           "sequentialminus": [
            [
             0,
             "#0d0887"
            ],
            [
             0.1111111111111111,
             "#46039f"
            ],
            [
             0.2222222222222222,
             "#7201a8"
            ],
            [
             0.3333333333333333,
             "#9c179e"
            ],
            [
             0.4444444444444444,
             "#bd3786"
            ],
            [
             0.5555555555555556,
             "#d8576b"
            ],
            [
             0.6666666666666666,
             "#ed7953"
            ],
            [
             0.7777777777777778,
             "#fb9f3a"
            ],
            [
             0.8888888888888888,
             "#fdca26"
            ],
            [
             1,
             "#f0f921"
            ]
           ]
          },
          "colorway": [
           "#636efa",
           "#EF553B",
           "#00cc96",
           "#ab63fa",
           "#FFA15A",
           "#19d3f3",
           "#FF6692",
           "#B6E880",
           "#FF97FF",
           "#FECB52"
          ],
          "font": {
           "color": "#2a3f5f"
          },
          "geo": {
           "bgcolor": "white",
           "lakecolor": "white",
           "landcolor": "#E5ECF6",
           "showlakes": true,
           "showland": true,
           "subunitcolor": "white"
          },
          "hoverlabel": {
           "align": "left"
          },
          "hovermode": "closest",
          "mapbox": {
           "style": "light"
          },
          "paper_bgcolor": "white",
          "plot_bgcolor": "#E5ECF6",
          "polar": {
           "angularaxis": {
            "gridcolor": "white",
            "linecolor": "white",
            "ticks": ""
           },
           "bgcolor": "#E5ECF6",
           "radialaxis": {
            "gridcolor": "white",
            "linecolor": "white",
            "ticks": ""
           }
          },
          "scene": {
           "xaxis": {
            "backgroundcolor": "#E5ECF6",
            "gridcolor": "white",
            "gridwidth": 2,
            "linecolor": "white",
            "showbackground": true,
            "ticks": "",
            "zerolinecolor": "white"
           },
           "yaxis": {
            "backgroundcolor": "#E5ECF6",
            "gridcolor": "white",
            "gridwidth": 2,
            "linecolor": "white",
            "showbackground": true,
            "ticks": "",
            "zerolinecolor": "white"
           },
           "zaxis": {
            "backgroundcolor": "#E5ECF6",
            "gridcolor": "white",
            "gridwidth": 2,
            "linecolor": "white",
            "showbackground": true,
            "ticks": "",
            "zerolinecolor": "white"
           }
          },
          "shapedefaults": {
           "line": {
            "color": "#2a3f5f"
           }
          },
          "ternary": {
           "aaxis": {
            "gridcolor": "white",
            "linecolor": "white",
            "ticks": ""
           },
           "baxis": {
            "gridcolor": "white",
            "linecolor": "white",
            "ticks": ""
           },
           "bgcolor": "#E5ECF6",
           "caxis": {
            "gridcolor": "white",
            "linecolor": "white",
            "ticks": ""
           }
          },
          "title": {
           "x": 0.05
          },
          "xaxis": {
           "automargin": true,
           "gridcolor": "white",
           "linecolor": "white",
           "ticks": "",
           "title": {
            "standoff": 15
           },
           "zerolinecolor": "white",
           "zerolinewidth": 2
          },
          "yaxis": {
           "automargin": true,
           "gridcolor": "white",
           "linecolor": "white",
           "ticks": "",
           "title": {
            "standoff": 15
           },
           "zerolinecolor": "white",
           "zerolinewidth": 2
          }
         }
        },
        "title": {
         "text": "BTC in $USD",
         "x": 0.5,
         "xanchor": "center",
         "y": 0.9,
         "yanchor": "top"
        }
       }
      },
      "text/html": [
       "<div>                            <div id=\"6b900433-1961-4277-9dd1-e344ad7e2ac9\" class=\"plotly-graph-div\" style=\"height:525px; width:100%;\"></div>            <script type=\"text/javascript\">                require([\"plotly\"], function(Plotly) {                    window.PLOTLYENV=window.PLOTLYENV || {};                                    if (document.getElementById(\"6b900433-1961-4277-9dd1-e344ad7e2ac9\")) {                    Plotly.newPlot(                        \"6b900433-1961-4277-9dd1-e344ad7e2ac9\",                        [{\"close\": [5.97, 5.53, 5.13, 4.85, 4.87, 4.92, 4.9, 5.66, 5.66, 5.72, 5.72, 5.68, 6.05, 4.8, 4.92, 4.82, 4.82, 4.87, 4.98, 4.92, 4.8, 4.61, 3.99, 3.89, 4.51, 4.1, 3.93, 3.97, 4.05, 3.92, 2.24, 2.27, 2.92, 2.72, 2.69, 4.2, 3.95, 3.5, 3.3, 3.33, 3.55, 3.05, 2.95, 3.08, 3.3, 3.3, 3.3, 3.35, 3.35, 2.47, 2.5, 3.0, 2.99, 2.5, 2.43, 2.37, 2.25, 2.59, 3.0, 2.75, 2.77, 2.66, 2.72, 3.19, 3.42, 3.04, 2.93, 2.93, 2.98, 3.3, 3.3, 3.2, 3.27, 3.48, 3.56, 3.47, 3.45, 3.44, 3.5, 3.85, 4.55, 4.38, 4.17, 4.22, 4.33, 4.27, 4.33, 4.29, 4.3, 4.5, 4.21, 4.58, 5.0, 5.0, 5.29, 5.37, 6.65, 6.0, 6.8, 7.0, 6.3, 7.14, 7.0, 6.51, 6.6, 6.3, 7.15, 7.1, 6.0, 7.1, 6.22, 6.95, 6.77, 6.79, 6.52, 6.55, 6.31, 5.5, 5.88, 4.91, 5.5, 5.58, 5.3, 5.88, 6.28, 6.3, 5.94, 5.6, 5.6, 5.69, 5.87, 5.89, 5.88, 5.5, 5.67, 5.79, 4.89, 4.69, 4.51, 4.67, 4.23, 4.38, 4.44, 4.58, 4.51, 5.22, 4.95, 5.0, 4.98, 5.04, 4.88, 4.99, 5.0, 4.79, 4.65, 4.81, 5.05, 4.98, 4.97, 5.01, 4.95, 4.94, 5.0, 4.99, 5.29, 5.27, 5.39, 5.26, 5.42, 5.25, 4.84, 4.79, 4.96, 4.91, 4.78, 4.83, 4.54, 4.73, 4.84, 4.93, 4.84, 4.88, 4.9, 4.89, 5.04, 4.99, 5.01, 5.0, 4.99, 4.7, 4.76, 4.75, 4.8, 4.92, 4.93, 4.93, 4.96, 4.99, 4.98, 4.98], \"high\": [6.0, 5.72, 5.24, 4.87, 4.87, 4.92, 4.9, 5.66, 5.79, 5.72, 5.72, 5.76, 6.05, 6.06, 4.92, 4.91, 4.82, 4.87, 5.3, 6.25, 4.99, 4.81, 4.57, 3.89, 4.51, 4.1, 3.99, 3.97, 4.05, 3.92, 2.29, 2.27, 2.99, 2.72, 3.0, 4.36, 4.4, 3.85, 3.55, 3.33, 3.55, 3.21, 2.95, 3.08, 3.3, 3.3, 3.3, 3.35, 3.35, 2.95, 3.0, 3.0, 3.0, 2.79, 2.5, 2.37, 3.0, 2.59, 3.0, 15.0, 2.77, 2.78, 3.23, 3.19, 3.48, 3.45, 2.93, 2.99, 3.25, 3.35, 3.5, 3.2, 3.37, 3.6, 3.59, 3.49, 3.45, 3.5, 3.5, 3.98, 4.75, 4.38, 4.19, 4.35, 4.33, 4.32, 4.33, 4.33, 4.3, 4.5, 4.5, 4.58, 5.0, 5.0, 5.32, 5.57, 6.65, 6.9, 6.8, 7.0, 6.99, 7.14, 7.33, 7.38, 7.36, 6.5, 7.15, 7.1, 6.9, 7.1, 7.0, 6.95, 6.77, 6.83, 6.52, 6.57, 6.86, 6.3, 6.03, 4.91, 5.9, 5.58, 6.22, 5.99, 6.28, 6.35, 6.5, 6.15, 5.9, 5.88, 5.87, 5.89, 5.88, 5.71, 5.78, 5.79, 5.8, 5.08, 4.98, 4.8, 4.73, 4.38, 4.72, 4.58, 4.59, 5.22, 5.22, 5.11, 5.07, 5.1, 5.1, 5.0, 5.05, 4.99, 4.99, 4.81, 5.06, 5.05, 5.09, 5.08, 5.07, 4.99, 5.0, 4.99, 5.32, 5.44, 5.43, 5.41, 5.42, 5.42, 5.37, 4.97, 4.96, 4.98, 4.89, 4.83, 4.84, 4.75, 4.97, 4.95, 4.93, 4.91, 4.92, 4.89, 5.04, 5.04, 5.01, 5.04, 4.99, 4.94, 4.8, 4.85, 4.87, 4.92, 4.93, 4.95, 5.01, 4.99, 4.98, 4.99], \"low\": [5.65, 5.52, 5.0, 4.8, 4.87, 4.81, 4.9, 4.92, 5.66, 5.68, 5.7, 5.68, 6.05, 4.8, 4.85, 4.82, 4.81, 4.83, 4.8, 4.8, 4.8, 4.59, 3.99, 3.89, 3.99, 3.98, 3.93, 3.93, 4.05, 3.92, 2.22, 2.22, 2.92, 2.66, 2.67, 3.07, 3.69, 3.2, 3.2, 3.32, 3.21, 3.0, 2.95, 3.08, 3.09, 2.95, 3.3, 3.35, 3.35, 2.47, 2.5, 2.51, 2.5, 2.5, 2.43, 2.37, 2.25, 2.46, 2.54, 2.5, 2.77, 2.66, 2.69, 3.19, 3.3, 3.04, 2.93, 2.82, 2.89, 3.05, 2.95, 3.0, 3.17, 3.37, 3.25, 3.42, 3.39, 3.25, 3.25, 3.5, 4.53, 4.38, 4.17, 3.84, 4.33, 4.27, 4.27, 4.29, 4.25, 4.3, 4.21, 4.39, 4.58, 5.0, 5.14, 4.93, 5.72, 6.0, 6.8, 6.9, 6.23, 6.24, 6.25, 6.51, 6.6, 6.3, 7.15, 6.2, 6.0, 5.99, 5.52, 6.55, 6.28, 6.03, 6.0, 6.0, 6.0, 5.5, 3.8, 4.91, 5.3, 5.3, 3.8, 5.52, 5.89, 5.93, 5.94, 5.6, 5.2, 5.5, 5.66, 5.51, 5.8, 5.5, 5.55, 5.5, 4.56, 4.69, 4.15, 4.5, 4.14, 4.3, 4.4, 4.3, 4.46, 4.55, 4.95, 5.0, 4.78, 4.95, 4.71, 4.85, 4.9, 4.64, 4.6, 4.77, 4.77, 4.95, 4.93, 4.87, 4.93, 4.85, 4.84, 4.85, 4.96, 5.27, 5.27, 5.26, 5.38, 5.24, 4.83, 4.79, 4.9, 4.72, 4.6, 4.62, 4.54, 4.54, 4.54, 4.72, 4.77, 4.76, 4.89, 4.77, 4.78, 4.86, 4.86, 4.89, 4.81, 4.7, 4.69, 4.7, 4.75, 4.78, 4.73, 4.81, 4.94, 4.92, 4.93, 4.95], \"open\": [5.8, 5.58, 5.12, 4.82, 4.87, 4.87, 4.9, 4.92, 5.7, 5.68, 5.7, 5.7, 6.05, 6.06, 4.85, 4.9, 4.81, 4.85, 4.86, 4.92, 4.88, 4.8, 4.57, 3.89, 3.99, 3.98, 3.95, 3.93, 4.05, 3.92, 2.22, 2.22, 2.99, 2.66, 3.0, 3.07, 3.69, 3.85, 3.25, 3.32, 3.27, 3.21, 2.95, 3.08, 3.09, 3.25, 3.3, 3.35, 3.35, 2.95, 2.99, 2.51, 3.0, 2.5, 2.5, 2.37, 2.45, 2.53, 2.54, 2.5, 2.77, 2.67, 2.69, 3.19, 3.46, 3.45, 2.93, 2.82, 2.9, 3.05, 3.27, 3.2, 3.17, 3.37, 3.25, 3.42, 3.39, 3.25, 3.25, 3.5, 4.75, 4.38, 4.19, 3.86, 4.33, 4.32, 4.27, 4.33, 4.29, 4.3, 4.26, 4.39, 4.58, 5.0, 5.32, 4.93, 5.72, 6.65, 6.8, 6.9, 6.99, 6.24, 7.14, 6.95, 6.8, 6.5, 7.15, 6.2, 6.5, 5.99, 5.52, 6.9, 6.3, 6.79, 6.5, 6.52, 6.26, 6.27, 3.8, 4.91, 5.89, 5.3, 5.7, 5.53, 5.99, 6.29, 6.35, 5.93, 5.6, 5.5, 5.79, 5.52, 5.88, 5.71, 5.78, 5.53, 5.2, 4.9, 4.5, 4.68, 4.67, 4.38, 4.72, 4.52, 4.47, 4.59, 5.12, 5.11, 4.78, 4.97, 5.09, 4.97, 4.99, 4.99, 4.81, 4.78, 4.8, 5.0, 5.05, 4.92, 4.97, 4.89, 4.94, 4.85, 4.99, 5.33, 5.27, 5.3, 5.38, 5.41, 5.24, 4.82, 4.9, 4.86, 4.73, 4.72, 4.61, 4.6, 4.54, 4.73, 4.93, 4.81, 4.92, 4.89, 4.8, 5.04, 4.92, 4.99, 4.89, 4.93, 4.8, 4.7, 4.75, 4.86, 4.87, 4.88, 4.94, 4.96, 4.93, 4.99], \"type\": \"candlestick\", \"x\": [\"2011-09-13T00:00:00.0000000Z\", \"2011-09-14T00:00:00.0000000Z\", \"2011-09-15T00:00:00.0000000Z\", \"2011-09-16T00:00:00.0000000Z\", \"2011-09-17T00:00:00.0000000Z\", \"2011-09-18T00:00:00.0000000Z\", \"2011-09-19T00:00:00.0000000Z\", \"2011-09-20T00:00:00.0000000Z\", \"2011-09-21T00:00:00.0000000Z\", \"2011-09-22T00:00:00.0000000Z\", \"2011-09-23T00:00:00.0000000Z\", \"2011-09-24T00:00:00.0000000Z\", \"2011-09-25T00:00:00.0000000Z\", \"2011-09-26T00:00:00.0000000Z\", \"2011-09-27T00:00:00.0000000Z\", \"2011-09-28T00:00:00.0000000Z\", \"2011-09-29T00:00:00.0000000Z\", \"2011-10-03T00:00:00.0000000Z\", \"2011-10-04T00:00:00.0000000Z\", \"2011-10-05T00:00:00.0000000Z\", \"2011-10-06T00:00:00.0000000Z\", \"2011-10-07T00:00:00.0000000Z\", \"2011-10-08T00:00:00.0000000Z\", \"2011-10-09T00:00:00.0000000Z\", \"2011-10-10T00:00:00.0000000Z\", \"2011-10-11T00:00:00.0000000Z\", \"2011-10-12T00:00:00.0000000Z\", \"2011-10-13T00:00:00.0000000Z\", \"2011-10-14T00:00:00.0000000Z\", \"2011-10-17T00:00:00.0000000Z\", \"2011-10-20T00:00:00.0000000Z\", \"2011-10-21T00:00:00.0000000Z\", \"2011-10-24T00:00:00.0000000Z\", \"2011-10-25T00:00:00.0000000Z\", \"2011-10-26T00:00:00.0000000Z\", \"2011-10-28T00:00:00.0000000Z\", \"2011-10-29T00:00:00.0000000Z\", \"2011-10-30T00:00:00.0000000Z\", \"2011-10-31T00:00:00.0000000Z\", \"2011-11-01T00:00:00.0000000Z\", \"2011-11-04T00:00:00.0000000Z\", \"2011-11-05T00:00:00.0000000Z\", \"2011-11-06T00:00:00.0000000Z\", \"2011-11-08T00:00:00.0000000Z\", \"2011-11-09T00:00:00.0000000Z\", \"2011-11-10T00:00:00.0000000Z\", \"2011-11-11T00:00:00.0000000Z\", \"2011-11-12T00:00:00.0000000Z\", \"2011-11-13T00:00:00.0000000Z\", \"2011-11-14T00:00:00.0000000Z\", \"2011-11-15T00:00:00.0000000Z\", \"2011-11-16T00:00:00.0000000Z\", \"2011-11-17T00:00:00.0000000Z\", \"2011-11-18T00:00:00.0000000Z\", \"2011-11-19T00:00:00.0000000Z\", \"2011-11-20T00:00:00.0000000Z\", \"2011-11-21T00:00:00.0000000Z\", \"2011-11-22T00:00:00.0000000Z\", \"2011-11-24T00:00:00.0000000Z\", \"2011-11-25T00:00:00.0000000Z\", \"2011-11-26T00:00:00.0000000Z\", \"2011-11-28T00:00:00.0000000Z\", \"2011-11-29T00:00:00.0000000Z\", \"2011-11-30T00:00:00.0000000Z\", \"2011-12-01T00:00:00.0000000Z\", \"2011-12-02T00:00:00.0000000Z\", \"2011-12-03T00:00:00.0000000Z\", \"2011-12-05T00:00:00.0000000Z\", \"2011-12-06T00:00:00.0000000Z\", \"2011-12-07T00:00:00.0000000Z\", \"2011-12-08T00:00:00.0000000Z\", \"2011-12-10T00:00:00.0000000Z\", \"2011-12-11T00:00:00.0000000Z\", \"2011-12-12T00:00:00.0000000Z\", \"2011-12-13T00:00:00.0000000Z\", \"2011-12-14T00:00:00.0000000Z\", \"2011-12-15T00:00:00.0000000Z\", \"2011-12-16T00:00:00.0000000Z\", \"2011-12-18T00:00:00.0000000Z\", \"2011-12-19T00:00:00.0000000Z\", \"2011-12-20T00:00:00.0000000Z\", \"2011-12-21T00:00:00.0000000Z\", \"2011-12-22T00:00:00.0000000Z\", \"2011-12-23T00:00:00.0000000Z\", \"2011-12-24T00:00:00.0000000Z\", \"2011-12-25T00:00:00.0000000Z\", \"2011-12-26T00:00:00.0000000Z\", \"2011-12-27T00:00:00.0000000Z\", \"2011-12-28T00:00:00.0000000Z\", \"2011-12-29T00:00:00.0000000Z\", \"2011-12-30T00:00:00.0000000Z\", \"2011-12-31T00:00:00.0000000Z\", \"2012-01-01T00:00:00.0000000Z\", \"2012-01-02T00:00:00.0000000Z\", \"2012-01-03T00:00:00.0000000Z\", \"2012-01-04T00:00:00.0000000Z\", \"2012-01-05T00:00:00.0000000Z\", \"2012-01-06T00:00:00.0000000Z\", \"2012-01-07T00:00:00.0000000Z\", \"2012-01-08T00:00:00.0000000Z\", \"2012-01-09T00:00:00.0000000Z\", \"2012-01-10T00:00:00.0000000Z\", \"2012-01-11T00:00:00.0000000Z\", \"2012-01-12T00:00:00.0000000Z\", \"2012-01-13T00:00:00.0000000Z\", \"2012-01-14T00:00:00.0000000Z\", \"2012-01-15T00:00:00.0000000Z\", \"2012-01-16T00:00:00.0000000Z\", \"2012-01-17T00:00:00.0000000Z\", \"2012-01-18T00:00:00.0000000Z\", \"2012-01-19T00:00:00.0000000Z\", \"2012-01-20T00:00:00.0000000Z\", \"2012-01-21T00:00:00.0000000Z\", \"2012-01-22T00:00:00.0000000Z\", \"2012-01-23T00:00:00.0000000Z\", \"2012-01-24T00:00:00.0000000Z\", \"2012-01-25T00:00:00.0000000Z\", \"2012-01-26T00:00:00.0000000Z\", \"2012-01-27T00:00:00.0000000Z\", \"2012-01-28T00:00:00.0000000Z\", \"2012-01-29T00:00:00.0000000Z\", \"2012-01-30T00:00:00.0000000Z\", \"2012-01-31T00:00:00.0000000Z\", \"2012-02-01T00:00:00.0000000Z\", \"2012-02-02T00:00:00.0000000Z\", \"2012-02-03T00:00:00.0000000Z\", \"2012-02-04T00:00:00.0000000Z\", \"2012-02-05T00:00:00.0000000Z\", \"2012-02-06T00:00:00.0000000Z\", \"2012-02-07T00:00:00.0000000Z\", \"2012-02-08T00:00:00.0000000Z\", \"2012-02-09T00:00:00.0000000Z\", \"2012-02-10T00:00:00.0000000Z\", \"2012-02-11T00:00:00.0000000Z\", \"2012-02-12T00:00:00.0000000Z\", \"2012-02-13T00:00:00.0000000Z\", \"2012-02-14T00:00:00.0000000Z\", \"2012-02-15T00:00:00.0000000Z\", \"2012-02-16T00:00:00.0000000Z\", \"2012-02-17T00:00:00.0000000Z\", \"2012-02-18T00:00:00.0000000Z\", \"2012-02-19T00:00:00.0000000Z\", \"2012-02-20T00:00:00.0000000Z\", \"2012-02-21T00:00:00.0000000Z\", \"2012-02-22T00:00:00.0000000Z\", \"2012-02-23T00:00:00.0000000Z\", \"2012-02-24T00:00:00.0000000Z\", \"2012-02-25T00:00:00.0000000Z\", \"2012-02-26T00:00:00.0000000Z\", \"2012-02-27T00:00:00.0000000Z\", \"2012-02-28T00:00:00.0000000Z\", \"2012-02-29T00:00:00.0000000Z\", \"2012-03-01T00:00:00.0000000Z\", \"2012-03-02T00:00:00.0000000Z\", \"2012-03-03T00:00:00.0000000Z\", \"2012-03-04T00:00:00.0000000Z\", \"2012-03-05T00:00:00.0000000Z\", \"2012-03-06T00:00:00.0000000Z\", \"2012-03-07T00:00:00.0000000Z\", \"2012-03-08T00:00:00.0000000Z\", \"2012-03-09T00:00:00.0000000Z\", \"2012-03-10T00:00:00.0000000Z\", \"2012-03-11T00:00:00.0000000Z\", \"2012-03-12T00:00:00.0000000Z\", \"2012-03-13T00:00:00.0000000Z\", \"2012-03-14T00:00:00.0000000Z\", \"2012-03-15T00:00:00.0000000Z\", \"2012-03-16T00:00:00.0000000Z\", \"2012-03-17T00:00:00.0000000Z\", \"2012-03-18T00:00:00.0000000Z\", \"2012-03-19T00:00:00.0000000Z\", \"2012-03-20T00:00:00.0000000Z\", \"2012-03-21T00:00:00.0000000Z\", \"2012-03-22T00:00:00.0000000Z\", \"2012-03-23T00:00:00.0000000Z\", \"2012-03-24T00:00:00.0000000Z\", \"2012-03-25T00:00:00.0000000Z\", \"2012-03-26T00:00:00.0000000Z\", \"2012-03-27T00:00:00.0000000Z\", \"2012-03-28T00:00:00.0000000Z\", \"2012-03-29T00:00:00.0000000Z\", \"2012-03-30T00:00:00.0000000Z\", \"2012-03-31T00:00:00.0000000Z\", \"2012-04-01T00:00:00.0000000Z\", \"2012-04-02T00:00:00.0000000Z\", \"2012-04-03T00:00:00.0000000Z\", \"2012-04-04T00:00:00.0000000Z\", \"2012-04-05T00:00:00.0000000Z\", \"2012-04-06T00:00:00.0000000Z\", \"2012-04-07T00:00:00.0000000Z\", \"2012-04-08T00:00:00.0000000Z\", \"2012-04-09T00:00:00.0000000Z\", \"2012-04-10T00:00:00.0000000Z\", \"2012-04-11T00:00:00.0000000Z\", \"2012-04-12T00:00:00.0000000Z\", \"2012-04-13T00:00:00.0000000Z\", \"2012-04-14T00:00:00.0000000Z\", \"2012-04-15T00:00:00.0000000Z\", \"2012-04-16T00:00:00.0000000Z\", \"2012-04-17T00:00:00.0000000Z\"]}],                        {\"template\": {\"data\": {\"bar\": [{\"error_x\": {\"color\": \"#2a3f5f\"}, \"error_y\": {\"color\": \"#2a3f5f\"}, \"marker\": {\"line\": {\"color\": \"#E5ECF6\", \"width\": 0.5}}, \"type\": \"bar\"}], \"barpolar\": [{\"marker\": {\"line\": {\"color\": \"#E5ECF6\", \"width\": 0.5}}, \"type\": \"barpolar\"}], \"carpet\": [{\"aaxis\": {\"endlinecolor\": \"#2a3f5f\", \"gridcolor\": \"white\", \"linecolor\": \"white\", \"minorgridcolor\": \"white\", \"startlinecolor\": \"#2a3f5f\"}, \"baxis\": {\"endlinecolor\": \"#2a3f5f\", \"gridcolor\": \"white\", \"linecolor\": \"white\", \"minorgridcolor\": \"white\", \"startlinecolor\": \"#2a3f5f\"}, \"type\": \"carpet\"}], \"choropleth\": [{\"colorbar\": {\"outlinewidth\": 0, \"ticks\": \"\"}, \"type\": \"choropleth\"}], \"contour\": [{\"colorbar\": {\"outlinewidth\": 0, \"ticks\": \"\"}, \"colorscale\": [[0.0, \"#0d0887\"], [0.1111111111111111, \"#46039f\"], [0.2222222222222222, \"#7201a8\"], [0.3333333333333333, \"#9c179e\"], [0.4444444444444444, \"#bd3786\"], [0.5555555555555556, \"#d8576b\"], [0.6666666666666666, \"#ed7953\"], [0.7777777777777778, \"#fb9f3a\"], [0.8888888888888888, \"#fdca26\"], [1.0, \"#f0f921\"]], \"type\": \"contour\"}], \"contourcarpet\": [{\"colorbar\": {\"outlinewidth\": 0, \"ticks\": \"\"}, \"type\": \"contourcarpet\"}], \"heatmap\": [{\"colorbar\": {\"outlinewidth\": 0, \"ticks\": \"\"}, \"colorscale\": [[0.0, \"#0d0887\"], [0.1111111111111111, \"#46039f\"], [0.2222222222222222, \"#7201a8\"], [0.3333333333333333, \"#9c179e\"], [0.4444444444444444, \"#bd3786\"], [0.5555555555555556, \"#d8576b\"], [0.6666666666666666, \"#ed7953\"], [0.7777777777777778, \"#fb9f3a\"], [0.8888888888888888, \"#fdca26\"], [1.0, \"#f0f921\"]], \"type\": \"heatmap\"}], \"heatmapgl\": [{\"colorbar\": {\"outlinewidth\": 0, \"ticks\": \"\"}, \"colorscale\": [[0.0, \"#0d0887\"], [0.1111111111111111, \"#46039f\"], [0.2222222222222222, \"#7201a8\"], [0.3333333333333333, \"#9c179e\"], [0.4444444444444444, \"#bd3786\"], [0.5555555555555556, \"#d8576b\"], [0.6666666666666666, \"#ed7953\"], [0.7777777777777778, \"#fb9f3a\"], [0.8888888888888888, \"#fdca26\"], [1.0, \"#f0f921\"]], \"type\": \"heatmapgl\"}], \"histogram\": [{\"marker\": {\"colorbar\": {\"outlinewidth\": 0, \"ticks\": \"\"}}, \"type\": \"histogram\"}], \"histogram2d\": [{\"colorbar\": {\"outlinewidth\": 0, \"ticks\": \"\"}, \"colorscale\": [[0.0, \"#0d0887\"], [0.1111111111111111, \"#46039f\"], [0.2222222222222222, \"#7201a8\"], [0.3333333333333333, \"#9c179e\"], [0.4444444444444444, \"#bd3786\"], [0.5555555555555556, \"#d8576b\"], [0.6666666666666666, \"#ed7953\"], [0.7777777777777778, \"#fb9f3a\"], [0.8888888888888888, \"#fdca26\"], [1.0, \"#f0f921\"]], \"type\": \"histogram2d\"}], \"histogram2dcontour\": [{\"colorbar\": {\"outlinewidth\": 0, \"ticks\": \"\"}, \"colorscale\": [[0.0, \"#0d0887\"], [0.1111111111111111, \"#46039f\"], [0.2222222222222222, \"#7201a8\"], [0.3333333333333333, \"#9c179e\"], [0.4444444444444444, \"#bd3786\"], [0.5555555555555556, \"#d8576b\"], [0.6666666666666666, \"#ed7953\"], [0.7777777777777778, \"#fb9f3a\"], [0.8888888888888888, \"#fdca26\"], [1.0, \"#f0f921\"]], \"type\": \"histogram2dcontour\"}], \"mesh3d\": [{\"colorbar\": {\"outlinewidth\": 0, \"ticks\": \"\"}, \"type\": \"mesh3d\"}], \"parcoords\": [{\"line\": {\"colorbar\": {\"outlinewidth\": 0, \"ticks\": \"\"}}, \"type\": \"parcoords\"}], \"pie\": [{\"automargin\": true, \"type\": \"pie\"}], \"scatter\": [{\"marker\": {\"colorbar\": {\"outlinewidth\": 0, \"ticks\": \"\"}}, \"type\": \"scatter\"}], \"scatter3d\": [{\"line\": {\"colorbar\": {\"outlinewidth\": 0, \"ticks\": \"\"}}, \"marker\": {\"colorbar\": {\"outlinewidth\": 0, \"ticks\": \"\"}}, \"type\": \"scatter3d\"}], \"scattercarpet\": [{\"marker\": {\"colorbar\": {\"outlinewidth\": 0, \"ticks\": \"\"}}, \"type\": \"scattercarpet\"}], \"scattergeo\": [{\"marker\": {\"colorbar\": {\"outlinewidth\": 0, \"ticks\": \"\"}}, \"type\": \"scattergeo\"}], \"scattergl\": [{\"marker\": {\"colorbar\": {\"outlinewidth\": 0, \"ticks\": \"\"}}, \"type\": \"scattergl\"}], \"scattermapbox\": [{\"marker\": {\"colorbar\": {\"outlinewidth\": 0, \"ticks\": \"\"}}, \"type\": \"scattermapbox\"}], \"scatterpolar\": [{\"marker\": {\"colorbar\": {\"outlinewidth\": 0, \"ticks\": \"\"}}, \"type\": \"scatterpolar\"}], \"scatterpolargl\": [{\"marker\": {\"colorbar\": {\"outlinewidth\": 0, \"ticks\": \"\"}}, \"type\": \"scatterpolargl\"}], \"scatterternary\": [{\"marker\": {\"colorbar\": {\"outlinewidth\": 0, \"ticks\": \"\"}}, \"type\": \"scatterternary\"}], \"surface\": [{\"colorbar\": {\"outlinewidth\": 0, \"ticks\": \"\"}, \"colorscale\": [[0.0, \"#0d0887\"], [0.1111111111111111, \"#46039f\"], [0.2222222222222222, \"#7201a8\"], [0.3333333333333333, \"#9c179e\"], [0.4444444444444444, \"#bd3786\"], [0.5555555555555556, \"#d8576b\"], [0.6666666666666666, \"#ed7953\"], [0.7777777777777778, \"#fb9f3a\"], [0.8888888888888888, \"#fdca26\"], [1.0, \"#f0f921\"]], \"type\": \"surface\"}], \"table\": [{\"cells\": {\"fill\": {\"color\": \"#EBF0F8\"}, \"line\": {\"color\": \"white\"}}, \"header\": {\"fill\": {\"color\": \"#C8D4E3\"}, \"line\": {\"color\": \"white\"}}, \"type\": \"table\"}]}, \"layout\": {\"annotationdefaults\": {\"arrowcolor\": \"#2a3f5f\", \"arrowhead\": 0, \"arrowwidth\": 1}, \"autotypenumbers\": \"strict\", \"coloraxis\": {\"colorbar\": {\"outlinewidth\": 0, \"ticks\": \"\"}}, \"colorscale\": {\"diverging\": [[0, \"#8e0152\"], [0.1, \"#c51b7d\"], [0.2, \"#de77ae\"], [0.3, \"#f1b6da\"], [0.4, \"#fde0ef\"], [0.5, \"#f7f7f7\"], [0.6, \"#e6f5d0\"], [0.7, \"#b8e186\"], [0.8, \"#7fbc41\"], [0.9, \"#4d9221\"], [1, \"#276419\"]], \"sequential\": [[0.0, \"#0d0887\"], [0.1111111111111111, \"#46039f\"], [0.2222222222222222, \"#7201a8\"], [0.3333333333333333, \"#9c179e\"], [0.4444444444444444, \"#bd3786\"], [0.5555555555555556, \"#d8576b\"], [0.6666666666666666, \"#ed7953\"], [0.7777777777777778, \"#fb9f3a\"], [0.8888888888888888, \"#fdca26\"], [1.0, \"#f0f921\"]], \"sequentialminus\": [[0.0, \"#0d0887\"], [0.1111111111111111, \"#46039f\"], [0.2222222222222222, \"#7201a8\"], [0.3333333333333333, \"#9c179e\"], [0.4444444444444444, \"#bd3786\"], [0.5555555555555556, \"#d8576b\"], [0.6666666666666666, \"#ed7953\"], [0.7777777777777778, \"#fb9f3a\"], [0.8888888888888888, \"#fdca26\"], [1.0, \"#f0f921\"]]}, \"colorway\": [\"#636efa\", \"#EF553B\", \"#00cc96\", \"#ab63fa\", \"#FFA15A\", \"#19d3f3\", \"#FF6692\", \"#B6E880\", \"#FF97FF\", \"#FECB52\"], \"font\": {\"color\": \"#2a3f5f\"}, \"geo\": {\"bgcolor\": \"white\", \"lakecolor\": \"white\", \"landcolor\": \"#E5ECF6\", \"showlakes\": true, \"showland\": true, \"subunitcolor\": \"white\"}, \"hoverlabel\": {\"align\": \"left\"}, \"hovermode\": \"closest\", \"mapbox\": {\"style\": \"light\"}, \"paper_bgcolor\": \"white\", \"plot_bgcolor\": \"#E5ECF6\", \"polar\": {\"angularaxis\": {\"gridcolor\": \"white\", \"linecolor\": \"white\", \"ticks\": \"\"}, \"bgcolor\": \"#E5ECF6\", \"radialaxis\": {\"gridcolor\": \"white\", \"linecolor\": \"white\", \"ticks\": \"\"}}, \"scene\": {\"xaxis\": {\"backgroundcolor\": \"#E5ECF6\", \"gridcolor\": \"white\", \"gridwidth\": 2, \"linecolor\": \"white\", \"showbackground\": true, \"ticks\": \"\", \"zerolinecolor\": \"white\"}, \"yaxis\": {\"backgroundcolor\": \"#E5ECF6\", \"gridcolor\": \"white\", \"gridwidth\": 2, \"linecolor\": \"white\", \"showbackground\": true, \"ticks\": \"\", \"zerolinecolor\": \"white\"}, \"zaxis\": {\"backgroundcolor\": \"#E5ECF6\", \"gridcolor\": \"white\", \"gridwidth\": 2, \"linecolor\": \"white\", \"showbackground\": true, \"ticks\": \"\", \"zerolinecolor\": \"white\"}}, \"shapedefaults\": {\"line\": {\"color\": \"#2a3f5f\"}}, \"ternary\": {\"aaxis\": {\"gridcolor\": \"white\", \"linecolor\": \"white\", \"ticks\": \"\"}, \"baxis\": {\"gridcolor\": \"white\", \"linecolor\": \"white\", \"ticks\": \"\"}, \"bgcolor\": \"#E5ECF6\", \"caxis\": {\"gridcolor\": \"white\", \"linecolor\": \"white\", \"ticks\": \"\"}}, \"title\": {\"x\": 0.05}, \"xaxis\": {\"automargin\": true, \"gridcolor\": \"white\", \"linecolor\": \"white\", \"ticks\": \"\", \"title\": {\"standoff\": 15}, \"zerolinecolor\": \"white\", \"zerolinewidth\": 2}, \"yaxis\": {\"automargin\": true, \"gridcolor\": \"white\", \"linecolor\": \"white\", \"ticks\": \"\", \"title\": {\"standoff\": 15}, \"zerolinecolor\": \"white\", \"zerolinewidth\": 2}}}, \"title\": {\"text\": \"BTC in $USD\", \"x\": 0.5, \"xanchor\": \"center\", \"y\": 0.9, \"yanchor\": \"top\"}},                        {\"responsive\": true}                    ).then(function(){\n",
       "                            \n",
       "var gd = document.getElementById('6b900433-1961-4277-9dd1-e344ad7e2ac9');\n",
       "var x = new MutationObserver(function (mutations, observer) {{\n",
       "        var display = window.getComputedStyle(gd).display;\n",
       "        if (!display || display === 'none') {{\n",
       "            console.log([gd, 'removed!']);\n",
       "            Plotly.purge(gd);\n",
       "            observer.disconnect();\n",
       "        }}\n",
       "}});\n",
       "\n",
       "// Listen for the removal of the full notebook cells\n",
       "var notebookContainer = gd.closest('#notebook-container');\n",
       "if (notebookContainer) {{\n",
       "    x.observe(notebookContainer, {childList: true});\n",
       "}}\n",
       "\n",
       "// Listen for the clearing of the current output cell\n",
       "var outputEl = gd.closest('.output');\n",
       "if (outputEl) {{\n",
       "    x.observe(outputEl, {childList: true});\n",
       "}}\n",
       "\n",
       "                        })                };                });            </script>        </div>"
      ]
     },
     "metadata": {},
     "output_type": "display_data"
    }
   ],
   "source": [
    "import plotly.express as px\n",
    "import plotly.graph_objects as go\n",
    "import pandas as pd\n",
    "#import requests\n",
    "# import jsonquote = 'AAPL'\n",
    "\n",
    "# days = 300def candlestick(quote,days):\n",
    "#   r = requests.get(f’https://financialmodelingprep.com/api/v3/historical-price-full/{quote}?timeseries={days}')\n",
    "#   r = r.json()\n",
    "\n",
    "with open(f'data_raw/{asset_id_base}.json', 'r') as jj:\n",
    "    r = json.load(jj)\n",
    "\n",
    "stockdata = r\n",
    "stockdata_df = pd.DataFrame(stockdata)\n",
    "\n",
    "fig = go.Figure(data=[go.Candlestick(\n",
    "    x=stockdata_df['time_period_start'],\n",
    "    open=stockdata_df['price_open'],\n",
    "    high=stockdata_df['price_high'],\n",
    "    low=stockdata_df['price_low'],\n",
    "    close=stockdata_df['price_close'])])\n",
    "\n",
    "fig.update_layout(\n",
    "    title={'text': f'{asset_id_base} in ${asset_id_quote}',\n",
    "           'y': 0.9,\n",
    "           'x': 0.5,\n",
    "           'xanchor': 'center',\n",
    "           'yanchor': 'top'},\n",
    ")\n",
    "\n",
    "fig.show()"
   ]
  },
  {
   "cell_type": "code",
   "execution_count": 71,
   "id": "sexual-haiti",
   "metadata": {
    "ExecuteTime": {
     "end_time": "2021-02-17T09:32:38.196837Z",
     "start_time": "2021-02-17T09:32:38.189836Z"
    }
   },
   "outputs": [],
   "source": [
    "######MACHINE LEARNING\n",
    "#########\n",
    "#########\n",
    "#########\n",
    "#########\n",
    "\n",
    "#hist ={}\n",
    "\n",
    "\n",
    "\n",
    "\n",
    "import json\n",
    "import requests\n",
    "from tensorflow.keras.models import Sequential\n",
    "from tensorflow.keras.layers import Activation, Dense, Dropout, LSTM\n",
    "import matplotlib.pyplot as plt\n",
    "import numpy as np\n",
    "import pandas as pd\n",
    "import seaborn as sns\n",
    "from sklearn.metrics import mean_absolute_error\n",
    "%matplotlib inline"
   ]
  },
  {
   "cell_type": "code",
   "execution_count": 72,
   "id": "occupied-rebel",
   "metadata": {
    "ExecuteTime": {
     "end_time": "2021-02-17T09:32:39.893607Z",
     "start_time": "2021-02-17T09:32:39.872604Z"
    }
   },
   "outputs": [
    {
     "data": {
      "text/html": [
       "<div>\n",
       "<style scoped>\n",
       "    .dataframe tbody tr th:only-of-type {\n",
       "        vertical-align: middle;\n",
       "    }\n",
       "\n",
       "    .dataframe tbody tr th {\n",
       "        vertical-align: top;\n",
       "    }\n",
       "\n",
       "    .dataframe thead th {\n",
       "        text-align: right;\n",
       "    }\n",
       "</style>\n",
       "<table border=\"1\" class=\"dataframe\">\n",
       "  <thead>\n",
       "    <tr style=\"text-align: right;\">\n",
       "      <th></th>\n",
       "      <th>price_close</th>\n",
       "      <th>price_high</th>\n",
       "      <th>price_low</th>\n",
       "      <th>price_open</th>\n",
       "      <th>volume_traded</th>\n",
       "    </tr>\n",
       "    <tr>\n",
       "      <th>time_period_end</th>\n",
       "      <th></th>\n",
       "      <th></th>\n",
       "      <th></th>\n",
       "      <th></th>\n",
       "      <th></th>\n",
       "    </tr>\n",
       "  </thead>\n",
       "  <tbody>\n",
       "    <tr>\n",
       "      <th>2011-09-14</th>\n",
       "      <td>5.97</td>\n",
       "      <td>6.00</td>\n",
       "      <td>5.65</td>\n",
       "      <td>5.80</td>\n",
       "      <td>58.371382</td>\n",
       "    </tr>\n",
       "    <tr>\n",
       "      <th>2011-09-15</th>\n",
       "      <td>5.53</td>\n",
       "      <td>5.72</td>\n",
       "      <td>5.52</td>\n",
       "      <td>5.58</td>\n",
       "      <td>61.145984</td>\n",
       "    </tr>\n",
       "    <tr>\n",
       "      <th>2011-09-16</th>\n",
       "      <td>5.13</td>\n",
       "      <td>5.24</td>\n",
       "      <td>5.00</td>\n",
       "      <td>5.12</td>\n",
       "      <td>80.140795</td>\n",
       "    </tr>\n",
       "    <tr>\n",
       "      <th>2011-09-17</th>\n",
       "      <td>4.85</td>\n",
       "      <td>4.87</td>\n",
       "      <td>4.80</td>\n",
       "      <td>4.82</td>\n",
       "      <td>39.914007</td>\n",
       "    </tr>\n",
       "    <tr>\n",
       "      <th>2011-09-18</th>\n",
       "      <td>4.87</td>\n",
       "      <td>4.87</td>\n",
       "      <td>4.87</td>\n",
       "      <td>4.87</td>\n",
       "      <td>0.300000</td>\n",
       "    </tr>\n",
       "    <tr>\n",
       "      <th>...</th>\n",
       "      <td>...</td>\n",
       "      <td>...</td>\n",
       "      <td>...</td>\n",
       "      <td>...</td>\n",
       "      <td>...</td>\n",
       "    </tr>\n",
       "    <tr>\n",
       "      <th>2012-04-14</th>\n",
       "      <td>4.93</td>\n",
       "      <td>4.95</td>\n",
       "      <td>4.81</td>\n",
       "      <td>4.88</td>\n",
       "      <td>1102.265895</td>\n",
       "    </tr>\n",
       "    <tr>\n",
       "      <th>2012-04-15</th>\n",
       "      <td>4.96</td>\n",
       "      <td>5.01</td>\n",
       "      <td>4.94</td>\n",
       "      <td>4.94</td>\n",
       "      <td>544.649989</td>\n",
       "    </tr>\n",
       "    <tr>\n",
       "      <th>2012-04-16</th>\n",
       "      <td>4.99</td>\n",
       "      <td>4.99</td>\n",
       "      <td>4.92</td>\n",
       "      <td>4.96</td>\n",
       "      <td>114.974086</td>\n",
       "    </tr>\n",
       "    <tr>\n",
       "      <th>2012-04-17</th>\n",
       "      <td>4.98</td>\n",
       "      <td>4.98</td>\n",
       "      <td>4.93</td>\n",
       "      <td>4.93</td>\n",
       "      <td>487.007549</td>\n",
       "    </tr>\n",
       "    <tr>\n",
       "      <th>2012-04-18</th>\n",
       "      <td>4.98</td>\n",
       "      <td>4.99</td>\n",
       "      <td>4.95</td>\n",
       "      <td>4.99</td>\n",
       "      <td>282.515387</td>\n",
       "    </tr>\n",
       "  </tbody>\n",
       "</table>\n",
       "<p>200 rows × 5 columns</p>\n",
       "</div>"
      ],
      "text/plain": [
       "                 price_close  price_high  price_low  price_open  volume_traded\n",
       "time_period_end                                                               \n",
       "2011-09-14              5.97        6.00       5.65        5.80      58.371382\n",
       "2011-09-15              5.53        5.72       5.52        5.58      61.145984\n",
       "2011-09-16              5.13        5.24       5.00        5.12      80.140795\n",
       "2011-09-17              4.85        4.87       4.80        4.82      39.914007\n",
       "2011-09-18              4.87        4.87       4.87        4.87       0.300000\n",
       "...                      ...         ...        ...         ...            ...\n",
       "2012-04-14              4.93        4.95       4.81        4.88    1102.265895\n",
       "2012-04-15              4.96        5.01       4.94        4.94     544.649989\n",
       "2012-04-16              4.99        4.99       4.92        4.96     114.974086\n",
       "2012-04-17              4.98        4.98       4.93        4.93     487.007549\n",
       "2012-04-18              4.98        4.99       4.95        4.99     282.515387\n",
       "\n",
       "[200 rows x 5 columns]"
      ]
     },
     "execution_count": 72,
     "metadata": {},
     "output_type": "execute_result"
    }
   ],
   "source": [
    "hist = stockdata_df[['time_period_end', 'price_close', 'price_high', 'price_low', 'price_open', 'volume_traded']].copy()\n",
    "\n",
    "#hist['time_period_end'] = hist['time_period_end'][0].split(\"T\", 1)[0]\n",
    "\n",
    "hist['time_period_end'] = hist['time_period_end'].apply(lambda x: x.split(\"T\", 1)[0])\n",
    "\n",
    "#hist['time_period_end'] = pd.to_datetime(hist['time_period_end'])\n",
    "\n",
    "hist.set_index(['time_period_end'], inplace=True)\n",
    "\n",
    "#hist.index = pd.to_datetime(hist.index, unit='s')\n",
    "\n",
    "target_col = 'price_close'\n",
    "\n",
    "hist\n",
    "\n"
   ]
  },
  {
   "cell_type": "code",
   "execution_count": 73,
   "id": "searching-tampa",
   "metadata": {
    "ExecuteTime": {
     "end_time": "2021-02-17T09:32:50.582822Z",
     "start_time": "2021-02-17T09:32:50.571883Z"
    }
   },
   "outputs": [
    {
     "name": "stdout",
     "output_type": "stream",
     "text": [
      "<class 'pandas.core.frame.DataFrame'>\n",
      "Index: 200 entries, 2011-09-14 to 2012-04-18\n",
      "Data columns (total 5 columns):\n",
      " #   Column         Non-Null Count  Dtype  \n",
      "---  ------         --------------  -----  \n",
      " 0   price_close    200 non-null    float64\n",
      " 1   price_high     200 non-null    float64\n",
      " 2   price_low      200 non-null    float64\n",
      " 3   price_open     200 non-null    float64\n",
      " 4   volume_traded  200 non-null    float64\n",
      "dtypes: float64(5)\n",
      "memory usage: 9.4+ KB\n"
     ]
    }
   ],
   "source": [
    "hist.info()"
   ]
  },
  {
   "cell_type": "code",
   "execution_count": 74,
   "id": "based-tuition",
   "metadata": {
    "ExecuteTime": {
     "end_time": "2021-02-17T09:32:51.613199Z",
     "start_time": "2021-02-17T09:32:51.609192Z"
    }
   },
   "outputs": [],
   "source": [
    "def train_test_split(df, test_size=0.2):\n",
    "    split_row = len(df) - int(test_size * len(df))\n",
    "    train_data = df.iloc[:split_row]\n",
    "    test_data = df.iloc[split_row:]\n",
    "    return train_data, test_data\n",
    "\n",
    "train, test = train_test_split(hist, test_size=0.2)"
   ]
  },
  {
   "cell_type": "code",
   "execution_count": 75,
   "id": "coral-morgan",
   "metadata": {
    "ExecuteTime": {
     "end_time": "2021-02-17T09:32:58.320200Z",
     "start_time": "2021-02-17T09:32:55.354212Z"
    }
   },
   "outputs": [
    {
     "data": {
      "image/png": "[encoded data removed]",
      "text/plain": [
       "<Figure size 936x504 with 1 Axes>"
      ]
     },
     "metadata": {
      "needs_background": "light"
     },
     "output_type": "display_data"
    }
   ],
   "source": [
    "def line_plot(line1, line2, label1=None, label2=None, title='', lw=1):\n",
    "    fig, ax = plt.subplots(1, figsize=(13, 7))\n",
    "    ax.plot(line1, label=label1, linewidth=lw)\n",
    "    ax.plot(line2, label=label2, linewidth=lw)\n",
    "    ax.set_ylabel('price [USD]', fontsize=14)\n",
    "    ax.set_title(title, fontsize=16)\n",
    "    ax.legend(loc='best', fontsize=16)\n",
    "    \n",
    "line_plot(train[target_col], test[target_col], 'training', 'test', title='')"
   ]
  },
  {
   "cell_type": "code",
   "execution_count": 76,
   "id": "junior-cemetery",
   "metadata": {
    "ExecuteTime": {
     "end_time": "2021-02-17T09:33:04.897009Z",
     "start_time": "2021-02-17T09:33:04.893060Z"
    }
   },
   "outputs": [],
   "source": [
    "def normalise_zero_base(df):\n",
    "    #print(f'DF: {df} \\n\\n DF: {df.iloc[0] -1} ')\n",
    "    \n",
    "    return df / df.iloc[0] - 1\n",
    "\n",
    "def normalise_min_max(df):\n",
    "    return (df - df.min()) / (data.max() - df.min())"
   ]
  },
  {
   "cell_type": "code",
   "execution_count": 77,
   "id": "stuffed-cigarette",
   "metadata": {
    "ExecuteTime": {
     "end_time": "2021-02-17T09:33:08.558976Z",
     "start_time": "2021-02-17T09:33:08.553977Z"
    }
   },
   "outputs": [],
   "source": [
    "def extract_window_data(df, window_len=5, zero_base=True):\n",
    "    window_data = []\n",
    "    for idx in range(len(df) - window_len):\n",
    "        tmp = df[idx: (idx + window_len)].copy()\n",
    "        if zero_base:\n",
    "            tmp = normalise_zero_base(tmp)\n",
    "        window_data.append(tmp.values)\n",
    "    return np.array(window_data)"
   ]
  },
  {
   "cell_type": "code",
   "execution_count": 78,
   "id": "small-invalid",
   "metadata": {
    "ExecuteTime": {
     "end_time": "2021-02-17T09:33:09.211704Z",
     "start_time": "2021-02-17T09:33:09.205704Z"
    }
   },
   "outputs": [],
   "source": [
    "def prepare_data(df, target_col, window_len=10, zero_base=True, test_size=0.2):\n",
    "    train_data, test_data = train_test_split(df, test_size=test_size)\n",
    "    X_train = extract_window_data(train_data, window_len, zero_base)\n",
    "    X_test = extract_window_data(test_data, window_len, zero_base)\n",
    "    y_train = train_data[target_col][window_len:].values\n",
    "    y_test = test_data[target_col][window_len:].values\n",
    "    if zero_base:\n",
    "        y_train = y_train / train_data[target_col][:-window_len].values - 1\n",
    "        y_test = y_test / test_data[target_col][:-window_len].values - 1\n",
    "\n",
    "    return train_data, test_data, X_train, X_test, y_train, y_test"
   ]
  },
  {
   "cell_type": "code",
   "execution_count": 79,
   "id": "continued-evidence",
   "metadata": {
    "ExecuteTime": {
     "end_time": "2021-02-17T09:33:10.129462Z",
     "start_time": "2021-02-17T09:33:10.124446Z"
    }
   },
   "outputs": [],
   "source": [
    "def build_lstm_model(input_data, output_size, neurons=100, activ_func='linear', dropout=0.2, loss='mse', optimizer='adam'):\n",
    "    model = Sequential()\n",
    "    model.add(LSTM(neurons, input_shape=(input_data.shape[1], input_data.shape[2])))\n",
    "    model.add(Dropout(dropout))\n",
    "    model.add(Dense(units=output_size))\n",
    "    model.add(Activation(activ_func))\n",
    "    \n",
    "    model.compile(loss=loss, optimizer=optimizer)\n",
    "    return model"
   ]
  },
  {
   "cell_type": "code",
   "execution_count": 80,
   "id": "photographic-edition",
   "metadata": {
    "ExecuteTime": {
     "end_time": "2021-02-17T09:33:10.910871Z",
     "start_time": "2021-02-17T09:33:10.906899Z"
    }
   },
   "outputs": [],
   "source": [
    "np.random.seed(42)\n",
    "window_len = 5\n",
    "test_size = 0.2\n",
    "zero_base = True\n",
    "lstm_neurons = 100\n",
    "epochs = 10\n",
    "batch_size = 5\n",
    "loss = 'mse'\n",
    "dropout = 0.2\n",
    "optimizer = 'adam'"
   ]
  },
  {
   "cell_type": "code",
   "execution_count": 81,
   "id": "selected-symbol",
   "metadata": {
    "ExecuteTime": {
     "end_time": "2021-02-17T09:33:14.870468Z",
     "start_time": "2021-02-17T09:33:14.778549Z"
    },
    "scrolled": true
   },
   "outputs": [],
   "source": [
    "train, test, X_train, X_test, y_train, y_test = prepare_data(\n",
    "    hist, target_col, window_len=window_len, zero_base=zero_base, test_size=test_size)"
   ]
  },
  {
   "cell_type": "code",
   "execution_count": 82,
   "id": "negative-meaning",
   "metadata": {
    "ExecuteTime": {
     "end_time": "2021-02-17T09:33:19.384402Z",
     "start_time": "2021-02-17T09:33:17.050840Z"
    },
    "scrolled": true
   },
   "outputs": [
    {
     "name": "stdout",
     "output_type": "stream",
     "text": [
      "Epoch 1/10\n",
      "31/31 [==============================] - 0s 2ms/step - loss: 0.0385\n",
      "Epoch 2/10\n",
      "31/31 [==============================] - 0s 2ms/step - loss: 0.0280\n",
      "Epoch 3/10\n",
      "31/31 [==============================] - 0s 2ms/step - loss: 0.0169\n",
      "Epoch 4/10\n",
      "31/31 [==============================] - 0s 2ms/step - loss: 0.0261\n",
      "Epoch 5/10\n",
      "31/31 [==============================] - 0s 2ms/step - loss: 0.0216\n",
      "Epoch 6/10\n",
      "31/31 [==============================] - 0s 2ms/step - loss: 0.0233\n",
      "Epoch 7/10\n",
      "31/31 [==============================] - 0s 2ms/step - loss: 0.0174\n",
      "Epoch 8/10\n",
      "31/31 [==============================] - 0s 2ms/step - loss: 0.0137\n",
      "Epoch 9/10\n",
      "31/31 [==============================] - 0s 2ms/step - loss: 0.0195\n",
      "Epoch 10/10\n",
      "31/31 [==============================] - 0s 2ms/step - loss: 0.0185\n"
     ]
    }
   ],
   "source": [
    "model = build_lstm_model(\n",
    "    X_train, output_size=1, neurons=lstm_neurons, dropout=dropout, loss=loss,\n",
    "    optimizer=optimizer)\n",
    "history = model.fit(\n",
    "    X_train, y_train, epochs=epochs, batch_size=batch_size, verbose=1, shuffle=True)"
   ]
  },
  {
   "cell_type": "code",
   "execution_count": 83,
   "id": "coastal-windows",
   "metadata": {
    "ExecuteTime": {
     "end_time": "2021-02-17T09:33:23.216545Z",
     "start_time": "2021-02-17T09:33:22.837186Z"
    }
   },
   "outputs": [
    {
     "data": {
      "text/plain": [
       "0.051554434785023535"
      ]
     },
     "execution_count": 83,
     "metadata": {},
     "output_type": "execute_result"
    }
   ],
   "source": [
    "targets = test[target_col][window_len:]\n",
    "preds = model.predict(X_test).squeeze()\n",
    "mean_absolute_error(preds, y_test)"
   ]
  },
  {
   "cell_type": "code",
   "execution_count": 84,
   "id": "plain-egyptian",
   "metadata": {
    "ExecuteTime": {
     "end_time": "2021-02-17T09:33:27.560104Z",
     "start_time": "2021-02-17T09:33:27.556139Z"
    },
    "scrolled": false
   },
   "outputs": [],
   "source": [
    "preds = test[target_col].values[:-window_len] * (preds + 1)\n",
    "preds = pd.Series(index=targets.index, data=preds)\n",
    "#line_plot(targets, preds, 'actual', 'prediction', lw=1)"
   ]
  },
  {
   "cell_type": "code",
   "execution_count": 85,
   "id": "obvious-target",
   "metadata": {
    "ExecuteTime": {
     "end_time": "2021-02-17T09:33:32.805553Z",
     "start_time": "2021-02-17T09:33:32.769551Z"
    },
    "scrolled": true
   },
   "outputs": [],
   "source": [
    "t = targets.to_frame(\"price_close\")\n",
    "p = preds.to_frame(\"price_close\")\n",
    "\n",
    "p = p.shift(periods=-1)\n",
    "\n",
    "p = p.iloc[:-1]\n",
    "t = t.iloc[:-1]\n",
    "\n",
    "s = t.merge(p, how='inner', on='time_period_end', suffixes=('_targets', '_preds'))"
   ]
  },
  {
   "cell_type": "code",
   "execution_count": 86,
   "id": "egyptian-university",
   "metadata": {
    "ExecuteTime": {
     "end_time": "2021-02-17T09:33:37.704058Z",
     "start_time": "2021-02-17T09:33:37.593423Z"
    }
   },
   "outputs": [
    {
     "data": {
      "application/vnd.plotly.v1+json": {
       "config": {
        "plotlyServerURL": "https://plot.ly"
       },
       "data": [
        {
         "line": {
          "width": 1
         },
         "marker": {
          "color": "#008080"
         },
         "mode": "lines",
         "name": "Actual",
         "showlegend": true,
         "type": "scatter",
         "x": [
          "2012-03-15",
          "2012-03-16",
          "2012-03-17",
          "2012-03-18",
          "2012-03-19",
          "2012-03-20",
          "2012-03-21",
          "2012-03-22",
          "2012-03-23",
          "2012-03-24",
          "2012-03-25",
          "2012-03-26",
          "2012-03-27",
          "2012-03-28",
          "2012-03-29",
          "2012-03-30",
          "2012-03-31",
          "2012-04-01",
          "2012-04-02",
          "2012-04-03",
          "2012-04-04",
          "2012-04-05",
          "2012-04-06",
          "2012-04-07",
          "2012-04-08",
          "2012-04-09",
          "2012-04-10",
          "2012-04-11",
          "2012-04-12",
          "2012-04-13",
          "2012-04-14",
          "2012-04-15",
          "2012-04-16",
          "2012-04-17"
         ],
         "y": [
          5.27,
          5.39,
          5.26,
          5.42,
          5.25,
          4.84,
          4.79,
          4.96,
          4.91,
          4.78,
          4.83,
          4.54,
          4.73,
          4.84,
          4.93,
          4.84,
          4.88,
          4.9,
          4.89,
          5.04,
          4.99,
          5.01,
          5,
          4.99,
          4.7,
          4.76,
          4.75,
          4.8,
          4.92,
          4.93,
          4.93,
          4.96,
          4.99,
          4.98
         ]
        },
        {
         "fill": "tonexty",
         "fillcolor": "rgba(68, 68, 68, 0.2)",
         "line": {
          "width": 1
         },
         "marker": {
          "color": "#FF8C00"
         },
         "mode": "lines",
         "name": "Prediction",
         "showlegend": true,
         "type": "scatter",
         "x": [
          "2012-03-15",
          "2012-03-16",
          "2012-03-17",
          "2012-03-18",
          "2012-03-19",
          "2012-03-20",
          "2012-03-21",
          "2012-03-22",
          "2012-03-23",
          "2012-03-24",
          "2012-03-25",
          "2012-03-26",
          "2012-03-27",
          "2012-03-28",
          "2012-03-29",
          "2012-03-30",
          "2012-03-31",
          "2012-04-01",
          "2012-04-02",
          "2012-04-03",
          "2012-04-04",
          "2012-04-05",
          "2012-04-06",
          "2012-04-07",
          "2012-04-08",
          "2012-04-09",
          "2012-04-10",
          "2012-04-11",
          "2012-04-12",
          "2012-04-13",
          "2012-04-14",
          "2012-04-15",
          "2012-04-16",
          "2012-04-17"
         ],
         "y": [
          5.483184535503388,
          4.254377484321594,
          4.538816356062889,
          5.292861109972,
          5.3274638402462005,
          5.264766759872436,
          4.837818089723587,
          4.418339262008667,
          4.855457425117493,
          4.828952698707581,
          4.7804472464323045,
          3.941676654815674,
          4.619729290008545,
          4.844921348094941,
          5.0815943598747255,
          4.149109869003296,
          4.346633036732674,
          4.945732026100159,
          5.026297290325164,
          5.141042566299438,
          4.903461046218872,
          4.638541328907014,
          4.86146715760231,
          5.141134557723999,
          4.751804552674294,
          4.6374802243709565,
          4.638605415821075,
          4.856683621406555,
          4.9032266497612005,
          5.038665657043457,
          4.89009615778923,
          4.839345359802246,
          4.697931883335113,
          4.930939147472381
         ]
        }
       ],
       "layout": {
        "hovermode": "x",
        "template": {
         "data": {
          "bar": [
           {
            "error_x": {
             "color": "#2a3f5f"
            },
            "error_y": {
             "color": "#2a3f5f"
            },
            "marker": {
             "line": {
              "color": "#E5ECF6",
              "width": 0.5
             }
            },
            "type": "bar"
           }
          ],
          "barpolar": [
           {
            "marker": {
             "line": {
              "color": "#E5ECF6",
              "width": 0.5
             }
            },
            "type": "barpolar"
           }
          ],
          "carpet": [
           {
            "aaxis": {
             "endlinecolor": "#2a3f5f",
             "gridcolor": "white",
             "linecolor": "white",
             "minorgridcolor": "white",
             "startlinecolor": "#2a3f5f"
            },
            "baxis": {
             "endlinecolor": "#2a3f5f",
             "gridcolor": "white",
             "linecolor": "white",
             "minorgridcolor": "white",
             "startlinecolor": "#2a3f5f"
            },
            "type": "carpet"
           }
          ],
          "choropleth": [
           {
            "colorbar": {
             "outlinewidth": 0,
             "ticks": ""
            },
            "type": "choropleth"
           }
          ],
          "contour": [
           {
            "colorbar": {
             "outlinewidth": 0,
             "ticks": ""
            },
            "colorscale": [
             [
              0,
              "#0d0887"
             ],
             [
              0.1111111111111111,
              "#46039f"
             ],
             [
              0.2222222222222222,
              "#7201a8"
             ],
             [
              0.3333333333333333,
              "#9c179e"
             ],
             [
              0.4444444444444444,
              "#bd3786"
             ],
             [
              0.5555555555555556,
              "#d8576b"
             ],
             [
              0.6666666666666666,
              "#ed7953"
             ],
             [
              0.7777777777777778,
              "#fb9f3a"
             ],
             [
              0.8888888888888888,
              "#fdca26"
             ],
             [
              1,
              "#f0f921"
             ]
            ],
            "type": "contour"
           }
          ],
          "contourcarpet": [
           {
            "colorbar": {
             "outlinewidth": 0,
             "ticks": ""
            },
            "type": "contourcarpet"
           }
          ],
          "heatmap": [
           {
            "colorbar": {
             "outlinewidth": 0,
             "ticks": ""
            },
            "colorscale": [
             [
              0,
              "#0d0887"
             ],
             [
              0.1111111111111111,
              "#46039f"
             ],
             [
              0.2222222222222222,
              "#7201a8"
             ],
             [
              0.3333333333333333,
              "#9c179e"
             ],
             [
              0.4444444444444444,
              "#bd3786"
             ],
             [
              0.5555555555555556,
              "#d8576b"
             ],
             [
              0.6666666666666666,
              "#ed7953"
             ],
             [
              0.7777777777777778,
              "#fb9f3a"
             ],
             [
              0.8888888888888888,
              "#fdca26"
             ],
             [
              1,
              "#f0f921"
             ]
            ],
            "type": "heatmap"
           }
          ],
          "heatmapgl": [
           {
            "colorbar": {
             "outlinewidth": 0,
             "ticks": ""
            },
            "colorscale": [
             [
              0,
              "#0d0887"
             ],
             [
              0.1111111111111111,
              "#46039f"
             ],
             [
              0.2222222222222222,
              "#7201a8"
             ],
             [
              0.3333333333333333,
              "#9c179e"
             ],
             [
              0.4444444444444444,
              "#bd3786"
             ],
             [
              0.5555555555555556,
              "#d8576b"
             ],
             [
              0.6666666666666666,
              "#ed7953"
             ],
             [
              0.7777777777777778,
              "#fb9f3a"
             ],
             [
              0.8888888888888888,
              "#fdca26"
             ],
             [
              1,
              "#f0f921"
             ]
            ],
            "type": "heatmapgl"
           }
          ],
          "histogram": [
           {
            "marker": {
             "colorbar": {
              "outlinewidth": 0,
              "ticks": ""
             }
            },
            "type": "histogram"
           }
          ],
          "histogram2d": [
           {
            "colorbar": {
             "outlinewidth": 0,
             "ticks": ""
            },
            "colorscale": [
             [
              0,
              "#0d0887"
             ],
             [
              0.1111111111111111,
              "#46039f"
             ],
             [
              0.2222222222222222,
              "#7201a8"
             ],
             [
              0.3333333333333333,
              "#9c179e"
             ],
             [
              0.4444444444444444,
              "#bd3786"
             ],
             [
              0.5555555555555556,
              "#d8576b"
             ],
             [
              0.6666666666666666,
              "#ed7953"
             ],
             [
              0.7777777777777778,
              "#fb9f3a"
             ],
             [
              0.8888888888888888,
              "#fdca26"
             ],
             [
              1,
              "#f0f921"
             ]
            ],
            "type": "histogram2d"
           }
          ],
          "histogram2dcontour": [
           {
            "colorbar": {
             "outlinewidth": 0,
             "ticks": ""
            },
            "colorscale": [
             [
              0,
              "#0d0887"
             ],
             [
              0.1111111111111111,
              "#46039f"
             ],
             [
              0.2222222222222222,
              "#7201a8"
             ],
             [
              0.3333333333333333,
              "#9c179e"
             ],
             [
              0.4444444444444444,
              "#bd3786"
             ],
             [
              0.5555555555555556,
              "#d8576b"
             ],
             [
              0.6666666666666666,
              "#ed7953"
             ],
             [
              0.7777777777777778,
              "#fb9f3a"
             ],
             [
              0.8888888888888888,
              "#fdca26"
             ],
             [
              1,
              "#f0f921"
             ]
            ],
            "type": "histogram2dcontour"
           }
          ],
          "mesh3d": [
           {
            "colorbar": {
             "outlinewidth": 0,
             "ticks": ""
            },
            "type": "mesh3d"
           }
          ],
          "parcoords": [
           {
            "line": {
             "colorbar": {
              "outlinewidth": 0,
              "ticks": ""
             }
            },
            "type": "parcoords"
           }
          ],
          "pie": [
           {
            "automargin": true,
            "type": "pie"
           }
          ],
          "scatter": [
           {
            "marker": {
             "colorbar": {
              "outlinewidth": 0,
              "ticks": ""
             }
            },
            "type": "scatter"
           }
          ],
          "scatter3d": [
           {
            "line": {
             "colorbar": {
              "outlinewidth": 0,
              "ticks": ""
             }
            },
            "marker": {
             "colorbar": {
              "outlinewidth": 0,
              "ticks": ""
             }
            },
            "type": "scatter3d"
           }
          ],
          "scattercarpet": [
           {
            "marker": {
             "colorbar": {
              "outlinewidth": 0,
              "ticks": ""
             }
            },
            "type": "scattercarpet"
           }
          ],
          "scattergeo": [
           {
            "marker": {
             "colorbar": {
              "outlinewidth": 0,
              "ticks": ""
             }
            },
            "type": "scattergeo"
           }
          ],
          "scattergl": [
           {
            "marker": {
             "colorbar": {
              "outlinewidth": 0,
              "ticks": ""
             }
            },
            "type": "scattergl"
           }
          ],
          "scattermapbox": [
           {
            "marker": {
             "colorbar": {
              "outlinewidth": 0,
              "ticks": ""
             }
            },
            "type": "scattermapbox"
           }
          ],
          "scatterpolar": [
           {
            "marker": {
             "colorbar": {
              "outlinewidth": 0,
              "ticks": ""
             }
            },
            "type": "scatterpolar"
           }
          ],
          "scatterpolargl": [
           {
            "marker": {
             "colorbar": {
              "outlinewidth": 0,
              "ticks": ""
             }
            },
            "type": "scatterpolargl"
           }
          ],
          "scatterternary": [
           {
            "marker": {
             "colorbar": {
              "outlinewidth": 0,
              "ticks": ""
             }
            },
            "type": "scatterternary"
           }
          ],
          "surface": [
           {
            "colorbar": {
             "outlinewidth": 0,
             "ticks": ""
            },
            "colorscale": [
             [
              0,
              "#0d0887"
             ],
             [
              0.1111111111111111,
              "#46039f"
             ],
             [
              0.2222222222222222,
              "#7201a8"
             ],
             [
              0.3333333333333333,
              "#9c179e"
             ],
             [
              0.4444444444444444,
              "#bd3786"
             ],
             [
              0.5555555555555556,
              "#d8576b"
             ],
             [
              0.6666666666666666,
              "#ed7953"
             ],
             [
              0.7777777777777778,
              "#fb9f3a"
             ],
             [
              0.8888888888888888,
              "#fdca26"
             ],
             [
              1,
              "#f0f921"
             ]
            ],
            "type": "surface"
           }
          ],
          "table": [
           {
            "cells": {
             "fill": {
              "color": "#EBF0F8"
             },
             "line": {
              "color": "white"
             }
            },
            "header": {
             "fill": {
              "color": "#C8D4E3"
             },
             "line": {
              "color": "white"
             }
            },
            "type": "table"
           }
          ]
         },
         "layout": {
          "annotationdefaults": {
           "arrowcolor": "#2a3f5f",
           "arrowhead": 0,
           "arrowwidth": 1
          },
          "autotypenumbers": "strict",
          "coloraxis": {
           "colorbar": {
            "outlinewidth": 0,
            "ticks": ""
           }
          },
          "colorscale": {
           "diverging": [
            [
             0,
             "#8e0152"
            ],
            [
             0.1,
             "#c51b7d"
            ],
            [
             0.2,
             "#de77ae"
            ],
            [
             0.3,
             "#f1b6da"
            ],
            [
             0.4,
             "#fde0ef"
            ],
            [
             0.5,
             "#f7f7f7"
            ],
            [
             0.6,
             "#e6f5d0"
            ],
            [
             0.7,
             "#b8e186"
            ],
            [
             0.8,
             "#7fbc41"
            ],
            [
             0.9,
             "#4d9221"
            ],
            [
             1,
             "#276419"
            ]
           ],
           "sequential": [
            [
             0,
             "#0d0887"
            ],
            [
             0.1111111111111111,
             "#46039f"
            ],
            [
             0.2222222222222222,
             "#7201a8"
            ],
            [
             0.3333333333333333,
             "#9c179e"
            ],
            [
             0.4444444444444444,
             "#bd3786"
            ],
            [
             0.5555555555555556,
             "#d8576b"
            ],
            [
             0.6666666666666666,
             "#ed7953"
            ],
            [
             0.7777777777777778,
             "#fb9f3a"
            ],
            [
             0.8888888888888888,
             "#fdca26"
            ],
            [
             1,
             "#f0f921"
            ]
           ],
           "sequentialminus": [
            [
             0,
             "#0d0887"
            ],
            [
             0.1111111111111111,
             "#46039f"
            ],
            [
             0.2222222222222222,
             "#7201a8"
            ],
            [
             0.3333333333333333,
             "#9c179e"
            ],
            [
             0.4444444444444444,
             "#bd3786"
            ],
            [
             0.5555555555555556,
             "#d8576b"
            ],
            [
             0.6666666666666666,
             "#ed7953"
            ],
            [
             0.7777777777777778,
             "#fb9f3a"
            ],
            [
             0.8888888888888888,
             "#fdca26"
            ],
            [
             1,
             "#f0f921"
            ]
           ]
          },
          "colorway": [
           "#636efa",
           "#EF553B",
           "#00cc96",
           "#ab63fa",
           "#FFA15A",
           "#19d3f3",
           "#FF6692",
           "#B6E880",
           "#FF97FF",
           "#FECB52"
          ],
          "font": {
           "color": "#2a3f5f"
          },
          "geo": {
           "bgcolor": "white",
           "lakecolor": "white",
           "landcolor": "#E5ECF6",
           "showlakes": true,
           "showland": true,
           "subunitcolor": "white"
          },
          "hoverlabel": {
           "align": "left"
          },
          "hovermode": "closest",
          "mapbox": {
           "style": "light"
          },
          "paper_bgcolor": "white",
          "plot_bgcolor": "#E5ECF6",
          "polar": {
           "angularaxis": {
            "gridcolor": "white",
            "linecolor": "white",
            "ticks": ""
           },
           "bgcolor": "#E5ECF6",
           "radialaxis": {
            "gridcolor": "white",
            "linecolor": "white",
            "ticks": ""
           }
          },
          "scene": {
           "xaxis": {
            "backgroundcolor": "#E5ECF6",
            "gridcolor": "white",
            "gridwidth": 2,
            "linecolor": "white",
            "showbackground": true,
            "ticks": "",
            "zerolinecolor": "white"
           },
           "yaxis": {
            "backgroundcolor": "#E5ECF6",
            "gridcolor": "white",
            "gridwidth": 2,
            "linecolor": "white",
            "showbackground": true,
            "ticks": "",
            "zerolinecolor": "white"
           },
           "zaxis": {
            "backgroundcolor": "#E5ECF6",
            "gridcolor": "white",
            "gridwidth": 2,
            "linecolor": "white",
            "showbackground": true,
            "ticks": "",
            "zerolinecolor": "white"
           }
          },
          "shapedefaults": {
           "line": {
            "color": "#2a3f5f"
           }
          },
          "ternary": {
           "aaxis": {
            "gridcolor": "white",
            "linecolor": "white",
            "ticks": ""
           },
           "baxis": {
            "gridcolor": "white",
            "linecolor": "white",
            "ticks": ""
           },
           "bgcolor": "#E5ECF6",
           "caxis": {
            "gridcolor": "white",
            "linecolor": "white",
            "ticks": ""
           }
          },
          "title": {
           "x": 0.05
          },
          "xaxis": {
           "automargin": true,
           "gridcolor": "white",
           "linecolor": "white",
           "ticks": "",
           "title": {
            "standoff": 15
           },
           "zerolinecolor": "white",
           "zerolinewidth": 2
          },
          "yaxis": {
           "automargin": true,
           "gridcolor": "white",
           "linecolor": "white",
           "ticks": "",
           "title": {
            "standoff": 15
           },
           "zerolinecolor": "white",
           "zerolinewidth": 2
          }
         }
        },
        "title": {
         "text": ""
        },
        "yaxis": {
         "title": {
          "text": ""
         }
        }
       }
      },
      "text/html": [
       "<div>                            <div id=\"a6fc92a9-c490-4331-abb5-0293102ceefb\" class=\"plotly-graph-div\" style=\"height:525px; width:100%;\"></div>            <script type=\"text/javascript\">                require([\"plotly\"], function(Plotly) {                    window.PLOTLYENV=window.PLOTLYENV || {};                                    if (document.getElementById(\"a6fc92a9-c490-4331-abb5-0293102ceefb\")) {                    Plotly.newPlot(                        \"a6fc92a9-c490-4331-abb5-0293102ceefb\",                        [{\"line\": {\"width\": 1}, \"marker\": {\"color\": \"#008080\"}, \"mode\": \"lines\", \"name\": \"Actual\", \"showlegend\": true, \"type\": \"scatter\", \"x\": [\"2012-03-15\", \"2012-03-16\", \"2012-03-17\", \"2012-03-18\", \"2012-03-19\", \"2012-03-20\", \"2012-03-21\", \"2012-03-22\", \"2012-03-23\", \"2012-03-24\", \"2012-03-25\", \"2012-03-26\", \"2012-03-27\", \"2012-03-28\", \"2012-03-29\", \"2012-03-30\", \"2012-03-31\", \"2012-04-01\", \"2012-04-02\", \"2012-04-03\", \"2012-04-04\", \"2012-04-05\", \"2012-04-06\", \"2012-04-07\", \"2012-04-08\", \"2012-04-09\", \"2012-04-10\", \"2012-04-11\", \"2012-04-12\", \"2012-04-13\", \"2012-04-14\", \"2012-04-15\", \"2012-04-16\", \"2012-04-17\"], \"y\": [5.27, 5.39, 5.26, 5.42, 5.25, 4.84, 4.79, 4.96, 4.91, 4.78, 4.83, 4.54, 4.73, 4.84, 4.93, 4.84, 4.88, 4.9, 4.89, 5.04, 4.99, 5.01, 5.0, 4.99, 4.7, 4.76, 4.75, 4.8, 4.92, 4.93, 4.93, 4.96, 4.99, 4.98]}, {\"fill\": \"tonexty\", \"fillcolor\": \"rgba(68, 68, 68, 0.2)\", \"line\": {\"width\": 1}, \"marker\": {\"color\": \"#FF8C00\"}, \"mode\": \"lines\", \"name\": \"Prediction\", \"showlegend\": true, \"type\": \"scatter\", \"x\": [\"2012-03-15\", \"2012-03-16\", \"2012-03-17\", \"2012-03-18\", \"2012-03-19\", \"2012-03-20\", \"2012-03-21\", \"2012-03-22\", \"2012-03-23\", \"2012-03-24\", \"2012-03-25\", \"2012-03-26\", \"2012-03-27\", \"2012-03-28\", \"2012-03-29\", \"2012-03-30\", \"2012-03-31\", \"2012-04-01\", \"2012-04-02\", \"2012-04-03\", \"2012-04-04\", \"2012-04-05\", \"2012-04-06\", \"2012-04-07\", \"2012-04-08\", \"2012-04-09\", \"2012-04-10\", \"2012-04-11\", \"2012-04-12\", \"2012-04-13\", \"2012-04-14\", \"2012-04-15\", \"2012-04-16\", \"2012-04-17\"], \"y\": [5.483184535503388, 4.254377484321594, 4.538816356062889, 5.292861109972, 5.3274638402462005, 5.264766759872436, 4.837818089723587, 4.418339262008667, 4.855457425117493, 4.828952698707581, 4.7804472464323045, 3.941676654815674, 4.619729290008545, 4.844921348094941, 5.0815943598747255, 4.149109869003296, 4.346633036732674, 4.945732026100159, 5.026297290325164, 5.141042566299438, 4.903461046218872, 4.638541328907014, 4.86146715760231, 5.141134557723999, 4.751804552674294, 4.6374802243709565, 4.638605415821075, 4.856683621406555, 4.9032266497612005, 5.038665657043457, 4.89009615778923, 4.839345359802246, 4.697931883335113, 4.930939147472381]}],                        {\"hovermode\": \"x\", \"template\": {\"data\": {\"bar\": [{\"error_x\": {\"color\": \"#2a3f5f\"}, \"error_y\": {\"color\": \"#2a3f5f\"}, \"marker\": {\"line\": {\"color\": \"#E5ECF6\", \"width\": 0.5}}, \"type\": \"bar\"}], \"barpolar\": [{\"marker\": {\"line\": {\"color\": \"#E5ECF6\", \"width\": 0.5}}, \"type\": \"barpolar\"}], \"carpet\": [{\"aaxis\": {\"endlinecolor\": \"#2a3f5f\", \"gridcolor\": \"white\", \"linecolor\": \"white\", \"minorgridcolor\": \"white\", \"startlinecolor\": \"#2a3f5f\"}, \"baxis\": {\"endlinecolor\": \"#2a3f5f\", \"gridcolor\": \"white\", \"linecolor\": \"white\", \"minorgridcolor\": \"white\", \"startlinecolor\": \"#2a3f5f\"}, \"type\": \"carpet\"}], \"choropleth\": [{\"colorbar\": {\"outlinewidth\": 0, \"ticks\": \"\"}, \"type\": \"choropleth\"}], \"contour\": [{\"colorbar\": {\"outlinewidth\": 0, \"ticks\": \"\"}, \"colorscale\": [[0.0, \"#0d0887\"], [0.1111111111111111, \"#46039f\"], [0.2222222222222222, \"#7201a8\"], [0.3333333333333333, \"#9c179e\"], [0.4444444444444444, \"#bd3786\"], [0.5555555555555556, \"#d8576b\"], [0.6666666666666666, \"#ed7953\"], [0.7777777777777778, \"#fb9f3a\"], [0.8888888888888888, \"#fdca26\"], [1.0, \"#f0f921\"]], \"type\": \"contour\"}], \"contourcarpet\": [{\"colorbar\": {\"outlinewidth\": 0, \"ticks\": \"\"}, \"type\": \"contourcarpet\"}], \"heatmap\": [{\"colorbar\": {\"outlinewidth\": 0, \"ticks\": \"\"}, \"colorscale\": [[0.0, \"#0d0887\"], [0.1111111111111111, \"#46039f\"], [0.2222222222222222, \"#7201a8\"], [0.3333333333333333, \"#9c179e\"], [0.4444444444444444, \"#bd3786\"], [0.5555555555555556, \"#d8576b\"], [0.6666666666666666, \"#ed7953\"], [0.7777777777777778, \"#fb9f3a\"], [0.8888888888888888, \"#fdca26\"], [1.0, \"#f0f921\"]], \"type\": \"heatmap\"}], \"heatmapgl\": [{\"colorbar\": {\"outlinewidth\": 0, \"ticks\": \"\"}, \"colorscale\": [[0.0, \"#0d0887\"], [0.1111111111111111, \"#46039f\"], [0.2222222222222222, \"#7201a8\"], [0.3333333333333333, \"#9c179e\"], [0.4444444444444444, \"#bd3786\"], [0.5555555555555556, \"#d8576b\"], [0.6666666666666666, \"#ed7953\"], [0.7777777777777778, \"#fb9f3a\"], [0.8888888888888888, \"#fdca26\"], [1.0, \"#f0f921\"]], \"type\": \"heatmapgl\"}], \"histogram\": [{\"marker\": {\"colorbar\": {\"outlinewidth\": 0, \"ticks\": \"\"}}, \"type\": \"histogram\"}], \"histogram2d\": [{\"colorbar\": {\"outlinewidth\": 0, \"ticks\": \"\"}, \"colorscale\": [[0.0, \"#0d0887\"], [0.1111111111111111, \"#46039f\"], [0.2222222222222222, \"#7201a8\"], [0.3333333333333333, \"#9c179e\"], [0.4444444444444444, \"#bd3786\"], [0.5555555555555556, \"#d8576b\"], [0.6666666666666666, \"#ed7953\"], [0.7777777777777778, \"#fb9f3a\"], [0.8888888888888888, \"#fdca26\"], [1.0, \"#f0f921\"]], \"type\": \"histogram2d\"}], \"histogram2dcontour\": [{\"colorbar\": {\"outlinewidth\": 0, \"ticks\": \"\"}, \"colorscale\": [[0.0, \"#0d0887\"], [0.1111111111111111, \"#46039f\"], [0.2222222222222222, \"#7201a8\"], [0.3333333333333333, \"#9c179e\"], [0.4444444444444444, \"#bd3786\"], [0.5555555555555556, \"#d8576b\"], [0.6666666666666666, \"#ed7953\"], [0.7777777777777778, \"#fb9f3a\"], [0.8888888888888888, \"#fdca26\"], [1.0, \"#f0f921\"]], \"type\": \"histogram2dcontour\"}], \"mesh3d\": [{\"colorbar\": {\"outlinewidth\": 0, \"ticks\": \"\"}, \"type\": \"mesh3d\"}], \"parcoords\": [{\"line\": {\"colorbar\": {\"outlinewidth\": 0, \"ticks\": \"\"}}, \"type\": \"parcoords\"}], \"pie\": [{\"automargin\": true, \"type\": \"pie\"}], \"scatter\": [{\"marker\": {\"colorbar\": {\"outlinewidth\": 0, \"ticks\": \"\"}}, \"type\": \"scatter\"}], \"scatter3d\": [{\"line\": {\"colorbar\": {\"outlinewidth\": 0, \"ticks\": \"\"}}, \"marker\": {\"colorbar\": {\"outlinewidth\": 0, \"ticks\": \"\"}}, \"type\": \"scatter3d\"}], \"scattercarpet\": [{\"marker\": {\"colorbar\": {\"outlinewidth\": 0, \"ticks\": \"\"}}, \"type\": \"scattercarpet\"}], \"scattergeo\": [{\"marker\": {\"colorbar\": {\"outlinewidth\": 0, \"ticks\": \"\"}}, \"type\": \"scattergeo\"}], \"scattergl\": [{\"marker\": {\"colorbar\": {\"outlinewidth\": 0, \"ticks\": \"\"}}, \"type\": \"scattergl\"}], \"scattermapbox\": [{\"marker\": {\"colorbar\": {\"outlinewidth\": 0, \"ticks\": \"\"}}, \"type\": \"scattermapbox\"}], \"scatterpolar\": [{\"marker\": {\"colorbar\": {\"outlinewidth\": 0, \"ticks\": \"\"}}, \"type\": \"scatterpolar\"}], \"scatterpolargl\": [{\"marker\": {\"colorbar\": {\"outlinewidth\": 0, \"ticks\": \"\"}}, \"type\": \"scatterpolargl\"}], \"scatterternary\": [{\"marker\": {\"colorbar\": {\"outlinewidth\": 0, \"ticks\": \"\"}}, \"type\": \"scatterternary\"}], \"surface\": [{\"colorbar\": {\"outlinewidth\": 0, \"ticks\": \"\"}, \"colorscale\": [[0.0, \"#0d0887\"], [0.1111111111111111, \"#46039f\"], [0.2222222222222222, \"#7201a8\"], [0.3333333333333333, \"#9c179e\"], [0.4444444444444444, \"#bd3786\"], [0.5555555555555556, \"#d8576b\"], [0.6666666666666666, \"#ed7953\"], [0.7777777777777778, \"#fb9f3a\"], [0.8888888888888888, \"#fdca26\"], [1.0, \"#f0f921\"]], \"type\": \"surface\"}], \"table\": [{\"cells\": {\"fill\": {\"color\": \"#EBF0F8\"}, \"line\": {\"color\": \"white\"}}, \"header\": {\"fill\": {\"color\": \"#C8D4E3\"}, \"line\": {\"color\": \"white\"}}, \"type\": \"table\"}]}, \"layout\": {\"annotationdefaults\": {\"arrowcolor\": \"#2a3f5f\", \"arrowhead\": 0, \"arrowwidth\": 1}, \"autotypenumbers\": \"strict\", \"coloraxis\": {\"colorbar\": {\"outlinewidth\": 0, \"ticks\": \"\"}}, \"colorscale\": {\"diverging\": [[0, \"#8e0152\"], [0.1, \"#c51b7d\"], [0.2, \"#de77ae\"], [0.3, \"#f1b6da\"], [0.4, \"#fde0ef\"], [0.5, \"#f7f7f7\"], [0.6, \"#e6f5d0\"], [0.7, \"#b8e186\"], [0.8, \"#7fbc41\"], [0.9, \"#4d9221\"], [1, \"#276419\"]], \"sequential\": [[0.0, \"#0d0887\"], [0.1111111111111111, \"#46039f\"], [0.2222222222222222, \"#7201a8\"], [0.3333333333333333, \"#9c179e\"], [0.4444444444444444, \"#bd3786\"], [0.5555555555555556, \"#d8576b\"], [0.6666666666666666, \"#ed7953\"], [0.7777777777777778, \"#fb9f3a\"], [0.8888888888888888, \"#fdca26\"], [1.0, \"#f0f921\"]], \"sequentialminus\": [[0.0, \"#0d0887\"], [0.1111111111111111, \"#46039f\"], [0.2222222222222222, \"#7201a8\"], [0.3333333333333333, \"#9c179e\"], [0.4444444444444444, \"#bd3786\"], [0.5555555555555556, \"#d8576b\"], [0.6666666666666666, \"#ed7953\"], [0.7777777777777778, \"#fb9f3a\"], [0.8888888888888888, \"#fdca26\"], [1.0, \"#f0f921\"]]}, \"colorway\": [\"#636efa\", \"#EF553B\", \"#00cc96\", \"#ab63fa\", \"#FFA15A\", \"#19d3f3\", \"#FF6692\", \"#B6E880\", \"#FF97FF\", \"#FECB52\"], \"font\": {\"color\": \"#2a3f5f\"}, \"geo\": {\"bgcolor\": \"white\", \"lakecolor\": \"white\", \"landcolor\": \"#E5ECF6\", \"showlakes\": true, \"showland\": true, \"subunitcolor\": \"white\"}, \"hoverlabel\": {\"align\": \"left\"}, \"hovermode\": \"closest\", \"mapbox\": {\"style\": \"light\"}, \"paper_bgcolor\": \"white\", \"plot_bgcolor\": \"#E5ECF6\", \"polar\": {\"angularaxis\": {\"gridcolor\": \"white\", \"linecolor\": \"white\", \"ticks\": \"\"}, \"bgcolor\": \"#E5ECF6\", \"radialaxis\": {\"gridcolor\": \"white\", \"linecolor\": \"white\", \"ticks\": \"\"}}, \"scene\": {\"xaxis\": {\"backgroundcolor\": \"#E5ECF6\", \"gridcolor\": \"white\", \"gridwidth\": 2, \"linecolor\": \"white\", \"showbackground\": true, \"ticks\": \"\", \"zerolinecolor\": \"white\"}, \"yaxis\": {\"backgroundcolor\": \"#E5ECF6\", \"gridcolor\": \"white\", \"gridwidth\": 2, \"linecolor\": \"white\", \"showbackground\": true, \"ticks\": \"\", \"zerolinecolor\": \"white\"}, \"zaxis\": {\"backgroundcolor\": \"#E5ECF6\", \"gridcolor\": \"white\", \"gridwidth\": 2, \"linecolor\": \"white\", \"showbackground\": true, \"ticks\": \"\", \"zerolinecolor\": \"white\"}}, \"shapedefaults\": {\"line\": {\"color\": \"#2a3f5f\"}}, \"ternary\": {\"aaxis\": {\"gridcolor\": \"white\", \"linecolor\": \"white\", \"ticks\": \"\"}, \"baxis\": {\"gridcolor\": \"white\", \"linecolor\": \"white\", \"ticks\": \"\"}, \"bgcolor\": \"#E5ECF6\", \"caxis\": {\"gridcolor\": \"white\", \"linecolor\": \"white\", \"ticks\": \"\"}}, \"title\": {\"x\": 0.05}, \"xaxis\": {\"automargin\": true, \"gridcolor\": \"white\", \"linecolor\": \"white\", \"ticks\": \"\", \"title\": {\"standoff\": 15}, \"zerolinecolor\": \"white\", \"zerolinewidth\": 2}, \"yaxis\": {\"automargin\": true, \"gridcolor\": \"white\", \"linecolor\": \"white\", \"ticks\": \"\", \"title\": {\"standoff\": 15}, \"zerolinecolor\": \"white\", \"zerolinewidth\": 2}}}, \"title\": {\"text\": \"\"}, \"yaxis\": {\"title\": {\"text\": \"\"}}},                        {\"responsive\": true}                    ).then(function(){\n",
       "                            \n",
       "var gd = document.getElementById('a6fc92a9-c490-4331-abb5-0293102ceefb');\n",
       "var x = new MutationObserver(function (mutations, observer) {{\n",
       "        var display = window.getComputedStyle(gd).display;\n",
       "        if (!display || display === 'none') {{\n",
       "            console.log([gd, 'removed!']);\n",
       "            Plotly.purge(gd);\n",
       "            observer.disconnect();\n",
       "        }}\n",
       "}});\n",
       "\n",
       "// Listen for the removal of the full notebook cells\n",
       "var notebookContainer = gd.closest('#notebook-container');\n",
       "if (notebookContainer) {{\n",
       "    x.observe(notebookContainer, {childList: true});\n",
       "}}\n",
       "\n",
       "// Listen for the clearing of the current output cell\n",
       "var outputEl = gd.closest('.output');\n",
       "if (outputEl) {{\n",
       "    x.observe(outputEl, {childList: true});\n",
       "}}\n",
       "\n",
       "                        })                };                });            </script>        </div>"
      ]
     },
     "metadata": {},
     "output_type": "display_data"
    }
   ],
   "source": [
    "fig = go.Figure([\n",
    "\n",
    "    go.Scatter(\n",
    "        name='Actual',\n",
    "        x=s.index,\n",
    "        y=s['price_close_targets'],\n",
    "        mode='lines',\n",
    "        marker=dict(color=\"#008080\"),\n",
    "        line=dict(width=1),\n",
    "        showlegend=True\n",
    "    ),\n",
    "    go.Scatter(\n",
    "        name='Prediction',\n",
    "        x=s.index,\n",
    "        y=s['price_close_preds'],\n",
    "        marker=dict(color=\"#FF8C00\"),\n",
    "        line=dict(width=1),\n",
    "        mode='lines',\n",
    "        fillcolor='rgba(68, 68, 68, 0.2)',\n",
    "        fill='tonexty',\n",
    "        showlegend=True\n",
    "    )\n",
    "])\n",
    "fig.update_layout(\n",
    "    yaxis_title='',\n",
    "    title='',\n",
    "    hovermode=\"x\"\n",
    ")\n",
    "fig.show()"
   ]
  }
 ],
 "metadata": {
  "kernelspec": {
   "display_name": "Python 3",
   "language": "python",
   "name": "python3"
  },
  "language_info": {
   "codemirror_mode": {
    "name": "ipython",
    "version": 3
   },
   "file_extension": ".py",
   "mimetype": "text/x-python",
   "name": "python",
   "nbconvert_exporter": "python",
   "pygments_lexer": "ipython3",
   "version": "3.8.5"
  },
  "varInspector": {
   "cols": {
    "lenName": 16,
    "lenType": 16,
    "lenVar": 40
   },
   "kernels_config": {
    "python": {
     "delete_cmd_postfix": "",
     "delete_cmd_prefix": "del ",
     "library": "var_list.py",
     "varRefreshCmd": "print(var_dic_list())"
    },
    "r": {
     "delete_cmd_postfix": ") ",
     "delete_cmd_prefix": "rm(",
     "library": "var_list.r",
     "varRefreshCmd": "cat(var_dic_list()) "
    }
   },
   "types_to_exclude": [
    "module",
    "function",
    "builtin_function_or_method",
    "instance",
    "_Feature"
   ],
   "window_display": false
  }
 },
 "nbformat": 4,
 "nbformat_minor": 5
}
