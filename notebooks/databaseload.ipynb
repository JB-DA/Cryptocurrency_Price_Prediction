{
 "cells": [
  {
   "cell_type": "code",
   "execution_count": 15,
   "id": "further-strategy",
   "metadata": {
    "ExecuteTime": {
     "end_time": "2021-02-17T13:39:20.546042Z",
     "start_time": "2021-02-17T13:39:20.542040Z"
    }
   },
   "outputs": [],
   "source": [
    "import sqlite3\n",
    "from sqlite3 import Error"
   ]
  },
  {
   "cell_type": "code",
   "execution_count": 32,
   "id": "dressed-japan",
   "metadata": {
    "ExecuteTime": {
     "end_time": "2021-02-17T13:59:13.087347Z",
     "start_time": "2021-02-17T13:59:13.077343Z"
    }
   },
   "outputs": [],
   "source": [
    "def create_connection(db_file):\n",
    "    \"\"\" create a database connection to the SQLite database\n",
    "        specified by db_file\n",
    "    :param db_file: database file\n",
    "    :return: Connection object or None\n",
    "    \"\"\"\n",
    "    conn = None\n",
    "    try:\n",
    "        conn = sqlite3.connect(db_file)\n",
    "        return conn\n",
    "    except Error as e:\n",
    "        print(e)\n",
    "    return conn\n",
    "\n",
    "def execute_sql_cmd(conn, command):\n",
    "    \"\"\" run a sql command statement\n",
    "    :param conn: Connection object\n",
    "    :param create_table_sql: a CREATE TABLE statement\n",
    "    :return:\n",
    "    \"\"\"\n",
    "    try:\n",
    "        c = conn.cursor()\n",
    "        c.execute(command)\n",
    "    except Error as e:\n",
    "        print(e)"
   ]
  },
  {
   "cell_type": "code",
   "execution_count": 30,
   "id": "based-aurora",
   "metadata": {
    "ExecuteTime": {
     "end_time": "2021-02-17T13:56:22.715901Z",
     "start_time": "2021-02-17T13:56:22.709904Z"
    }
   },
   "outputs": [],
   "source": [
    "database = r\"dbsqlite.db\"\n",
    "\n",
    "sql_create_assets_table = \"\"\" CREATE TABLE IF NOT EXISTS \"assets\" (\n",
    "    \"asset_id\" VARCHAR   NOT NULL,\n",
    "    \"name\" VARCHAR   NOT NULL,\n",
    "    \"type_is_crypto\" INT   NOT NULL,\n",
    "    \"data_quote_start\" VARCHAR   NOT NULL,\n",
    "    \"data_quote_end\" VARCHAR   NOT NULL,\n",
    "    \"data_orderbook_start\" VARCHAR   NOT NULL,\n",
    "    \"data_orderbook_end\" VARCHAR   NOT NULL,\n",
    "    \"data_trade_start\" VARCHAR   NOT NULL,\n",
    "    \"data_trade_end\" VARCHAR   NOT NULL,\n",
    "    \"data_quote_count\" VARCHAR   NOT NULL,\n",
    "    \"data_trade_count\" VARCHAR   NOT NULL,\n",
    "    \"data_symbols_count\" INT   NOT NULL,\n",
    "    \"volume_1hrs_usd\" FLOAT   NOT NULL,\n",
    "    \"volume_1day_usd\" FLOAT   NOT NULL,\n",
    "    \"volume_1mth_usd\" FLOAT   NOT NULL,\n",
    "    \"price_usd\" FLOAT   NOT NULL,\n",
    "    PRIMARY KEY (\"asset_id\"),\n",
    "    FOREIGN KEY (\"asset_id\") REFERENCES \"historic_trades\" (\"asset_id\")\n",
    ");\"\"\"\n",
    "\n",
    "\n",
    "# \"\"\" ALTER TABLE \"assets\" ADD CONSTRAINT \"fk_assets_asset_id\" FOREIGN KEY(\"asset_id\") REFERENCES \"historic_trades\" (\"asset_id\"); \"\"\"\n",
    "\n",
    "# PRIMARY KEY (country_id, language_id),\n",
    "# \tFOREIGN KEY (country_id) REFERENCES countries (country_id) \n",
    "#             ON DELETE CASCADE ON UPDATE NO ACTION,\n",
    "\n",
    "\n",
    "\n",
    "sql_create_periods_table = \"\"\" CREATE TABLE IF NOT EXISTS \"periods\" (\n",
    "    \"period_id\" VARCHAR   NOT NULL,\n",
    "    \"length_seconds\" INT   NOT NULL,\n",
    "    \"length_months\" INT   NOT NULL,\n",
    "    \"unit_count\" INT   NOT NULL,\n",
    "    \"unit_name\" VARCHAR   NOT NULL,\n",
    "    \"display_name\" VARCHAR   NOT NULL\n",
    ");\"\"\"\n",
    "\n",
    "sql_create_current_rates_table = \"\"\" CREATE TABLE IF NOT EXISTS \"current_rates\" (\n",
    "    \"time\" VARCHAR   NOT NULL,\n",
    "    \"asset_id_base\" VARCHAR   NOT NULL,\n",
    "    \"asset_id_quote\" VARCHAR   NOT NULL,\n",
    "    \"rate\" FLOAT   NOT NULL,\n",
    "    FOREIGN KEY (\"asset_id_base\") REFERENCES \"assets\" (\"asset_id\")\n",
    ");\"\"\"\n",
    "\n",
    "\n",
    "# \"\"\" ALTER TABLE \"current_rates\" ADD CONSTRAINT \"fk_current_rates_asset_id_base\" FOREIGN KEY(\"asset_id_base\") REFERENCES \"assets\" (\"asset_id\");\"\"\"\n",
    "# PRIMARY KEY (country_id, language_id),\n",
    "# \tFOREIGN KEY (country_id) REFERENCES countries (country_id) \n",
    "#             ON DELETE CASCADE ON UPDATE NO ACTION,\n",
    "\n",
    "\n",
    "\n",
    "sql_create_exchanges_table = \"\"\" CREATE TABLE IF NOT EXISTS \"exchanges\" (\n",
    "    \"exchange_id\" VARCHAR   NOT NULL,\n",
    "    \"website\" VARCHAR   NOT NULL,\n",
    "    \"name\" VARCHAR   NOT NULL,\n",
    "    \"data_start\" VARCHAR   NOT NULL,\n",
    "    \"data_end\" VARCHAR   NOT NULL,\n",
    "    \"data_quote_start\" VARCHAR   NOT NULL,\n",
    "    \"data_quote_end\" VARCHAR   NOT NULL,\n",
    "    \"data_orderbook_start\" VARCHAR   NOT NULL,\n",
    "    \"data_orderbook_end\" VARCHAR   NOT NULL,\n",
    "    \"data_trade_start\" VARCHAR   NOT NULL,\n",
    "    \"data_trade_end\" VARCHAR   NOT NULL,\n",
    "    \"data_symbols_count\" INT   NOT NULL,\n",
    "    \"volume_1hrs_usd\" FLOAT   NOT NULL,\n",
    "    \"volume_1day_usd\" FLOAT   NOT NULL,\n",
    "    \"volume_1mth_usd\" FLOAT   NOT NULL\n",
    ");\"\"\"\n",
    "\n",
    "sql_create_historic_trades_table = \"\"\" CREATE TABLE IF NOT EXISTS \"historic_trades\" (\n",
    "    \"asset_id\" VARCHAR  NOT NULL,\n",
    "    \"time_period_start\" VARCHAR   NOT NULL,\n",
    "    \"time_period_end\" VARCHAR   NOT NULL,\n",
    "    \"time_open\" VARCHAR   NOT NULL,\n",
    "    \"time_close\" VARCHAR   NOT NULL,\n",
    "    \"price_open\" FLOAT   NOT NULL,\n",
    "    \"price_high\" FLOAT   NOT NULL,\n",
    "    \"price_low\" FLOAT   NOT NULL,\n",
    "    \"price_close\" FLOAT   NOT NULL,\n",
    "    \"volume_traded\" FLOAT   NOT NULL,\n",
    "    \"trades_count\" INT   NOT NULL\n",
    ");\"\"\"\n",
    "\n",
    "#alter1 = \"\"\" ALTER TABLE \"assets\" ADD CONSTRAINT \"fk_assets_asset_id\" FOREIGN KEY(\"asset_id\") REFERENCES \"historic_trades\" (\"asset_id\"); \"\"\"\n",
    "#alter2 = \"\"\" ALTER TABLE \"current_rates\" ADD CONSTRAINT \"fk_current_rates_asset_id_base\" FOREIGN KEY(\"asset_id_base\") REFERENCES \"assets\" (\"asset_id\");\"\"\""
   ]
  },
  {
   "cell_type": "code",
   "execution_count": 31,
   "id": "sunset-carbon",
   "metadata": {
    "ExecuteTime": {
     "end_time": "2021-02-17T13:56:43.091108Z",
     "start_time": "2021-02-17T13:56:43.075105Z"
    }
   },
   "outputs": [],
   "source": [
    "conn = create_connection(database)\n",
    "\n",
    "#create tables\n",
    "if conn is not None:\n",
    "    #create tables\n",
    "    execute_sql_cmd(conn, sql_create_assets_table)\n",
    "    execute_sql_cmd(conn, sql_create_periods_table)\n",
    "    execute_sql_cmd(conn, sql_create_current_rates_table)\n",
    "    execute_sql_cmd(conn, sql_create_exchanges_table)\n",
    "    execute_sql_cmd(conn, sql_create_historic_trades_table)\n",
    "\n",
    "    #set keys\n",
    "    #execute_sql_cmd(conn, alter1)\n",
    "    #execute_sql_cmd(conn, alter2)\n",
    "\n",
    "else:\n",
    "    print(\"Error! cannot create the database connection.\")"
   ]
  },
  {
   "cell_type": "code",
   "execution_count": null,
   "id": "moved-hypothesis",
   "metadata": {
    "deletable": false,
    "editable": false,
    "run_control": {
     "frozen": true
    }
   },
   "outputs": [],
   "source": []
  },
  {
   "cell_type": "code",
   "execution_count": null,
   "id": "focal-mauritius",
   "metadata": {},
   "outputs": [],
   "source": [
    "run_machine_model()\n",
    "\n",
    "update()"
   ]
  },
  {
   "cell_type": "code",
   "execution_count": null,
   "id": "liable-thirty",
   "metadata": {
    "deletable": false,
    "editable": false,
    "run_control": {
     "frozen": true
    }
   },
   "outputs": [],
   "source": []
  },
  {
   "cell_type": "code",
   "execution_count": 1,
   "id": "injured-shannon",
   "metadata": {
    "ExecuteTime": {
     "end_time": "2021-02-17T13:09:45.644699Z",
     "start_time": "2021-02-17T13:09:45.632698Z"
    },
    "deletable": false,
    "editable": false,
    "run_control": {
     "frozen": true
    }
   },
   "outputs": [
    {
     "ename": "SyntaxError",
     "evalue": "invalid syntax (<ipython-input-1-d2101849623a>, line 103)",
     "output_type": "error",
     "traceback": [
      "\u001b[1;36m  File \u001b[1;32m\"<ipython-input-1-d2101849623a>\"\u001b[1;36m, line \u001b[1;32m103\u001b[0m\n\u001b[1;33m    ALTER TABLE \"assets\" ADD CONSTRAINT \"fk_assets_asset_id\" FOREIGN KEY(\"asset_id\")\u001b[0m\n\u001b[1;37m          ^\u001b[0m\n\u001b[1;31mSyntaxError\u001b[0m\u001b[1;31m:\u001b[0m invalid syntax\n"
     ]
    }
   ],
   "source": [
    "import sqlite3\n",
    "from sqlite3 import Error\n",
    "\n",
    "def create_connection(db_file):\n",
    "    \"\"\" create a database connection to the SQLite database\n",
    "        specified by db_file\n",
    "    :param db_file: database file\n",
    "    :return: Connection object or None\n",
    "    \"\"\"\n",
    "    conn = None\n",
    "    try:\n",
    "        conn = sqlite3.connect(db_file)\n",
    "        return conn\n",
    "    except Error as e:\n",
    "        print(e)\n",
    "\n",
    "    return conn\n",
    "\n",
    "def execute_sql_cmd(conn, create_table_sql):\n",
    "    \"\"\" create a table from the create_table_sql statement\n",
    "    :param conn: Connection object\n",
    "    :param create_table_sql: a CREATE TABLE statement\n",
    "    :return:\n",
    "    \"\"\"\n",
    "    try:\n",
    "        c = conn.cursor()\n",
    "        c.execute(create_table_sql)\n",
    "    except Error as e:\n",
    "        print(e)\n",
    "\n",
    "\n",
    "def main():\n",
    "    database = r\"pythonsqlite.db\"\n",
    "    \n",
    "    sql_create_assets_table = \"\"\" CREATE TABLE IF NOT EXISTS \"assets\" (\n",
    "        \"asset_id\" VARCHAR   NOT NULL,\n",
    "        \"name\" VARCHAR   NOT NULL,\n",
    "        \"type_is_crypto\" INT   NOT NULL,\n",
    "        \"data_quote_start\" VARCHAR   NOT NULL,\n",
    "        \"data_quote_end\" VARCHAR   NOT NULL,\n",
    "        \"data_orderbook_start\" VARCHAR   NOT NULL,\n",
    "        \"data_orderbook_end\" VARCHAR   NOT NULL,\n",
    "        \"data_trade_start\" VARCHAR   NOT NULL,\n",
    "        \"data_trade_end\" VARCHAR   NOT NULL,\n",
    "        \"data_quote_count\" VARCHAR   NOT NULL,\n",
    "        \"data_trade_count\" VARCHAR   NOT NULL,\n",
    "        \"data_symbols_count\" INT   NOT NULL,\n",
    "        \"volume_1hrs_usd\" FLOAT   NOT NULL,\n",
    "        \"volume_1day_usd\" FLOAT   NOT NULL,\n",
    "        \"volume_1mth_usd\" FLOAT   NOT NULL,\n",
    "        \"price_usd\" FLOAT   NOT NULL,\n",
    "        CONSTRAINT \"pk_assets\" PRIMARY KEY (\"asset_id\")\n",
    "    );\"\"\"\n",
    "    \n",
    "    sql_create_periods_table = \"\"\" CREATE TABLE IF NOT EXISTS \"periods\" (\n",
    "        \"period_id\" VARCHAR   NOT NULL,\n",
    "        \"length_seconds\" INT   NOT NULL,\n",
    "        \"length_months\" INT   NOT NULL,\n",
    "        \"unit_count\" INT   NOT NULL,\n",
    "        \"unit_name\" VARCHAR   NOT NULL,\n",
    "        \"display_name\" VARCHAR   NOT NULL\n",
    "    );\"\"\"\n",
    "\n",
    "    sql_create_currentrates_table = \"\"\" CREATE TABLE IF NOT EXISTS \"currentrates\" (\n",
    "        \"time\" VARCHAR   NOT NULL,\n",
    "        \"asset_id_base\" VARCHAR   NOT NULL,\n",
    "        \"asset_id_quote\" VARCHAR   NOT NULL,\n",
    "        \"rate\" FLOAT   NOT NULL\n",
    "    );\"\"\"\n",
    "\n",
    "    sql_create_exchanges_table = \"\"\" CREATE TABLE IF NOT EXISTS \"exchanges\" (\n",
    "        \"exchange_id\" VARCHAR   NOT NULL,\n",
    "        \"website\" VARCHAR   NOT NULL,\n",
    "        \"name\" VARCHAR   NOT NULL,\n",
    "        \"data_start\" VARCHAR   NOT NULL,\n",
    "        \"data_end\" VARCHAR   NOT NULL,\n",
    "        \"data_quote_start\" VARCHAR   NOT NULL,\n",
    "        \"data_quote_end\" VARCHAR   NOT NULL,\n",
    "        \"data_orderbook_start\" VARCHAR   NOT NULL,\n",
    "        \"data_orderbook_end\" VARCHAR   NOT NULL,\n",
    "        \"data_trade_start\" VARCHAR   NOT NULL,\n",
    "        \"data_trade_end\" VARCHAR   NOT NULL,\n",
    "        \"data_symbols_count\" INT   NOT NULL,\n",
    "        \"volume_1hrs_usd\" FLOAT   NOT NULL,\n",
    "        \"volume_1day_usd\" FLOAT   NOT NULL,\n",
    "        \"volume_1mth_usd\" FLOAT   NOT NULL\n",
    "    );\"\"\"\n",
    "\n",
    "    sql_create_historictrades_table = \"\"\" CREATE TABLE IF NOT EXISTS \"historictrades\" (\n",
    "        \"asset_id\" VARCHAR   NOT NULL,\n",
    "        \"time_period_start\" VARCHAR   NOT NULL,\n",
    "        \"time_period_end\" VARCHAR   NOT NULL,\n",
    "        \"time_open\" VARCHAR   NOT NULL,\n",
    "        \"time_close\" VARCHAR   NOT NULL,\n",
    "        \"price_open\" FLOAT   NOT NULL,\n",
    "        \"price_high\" FLOAT   NOT NULL,\n",
    "        \"price_low\" FLOAT   NOT NULL,\n",
    "        \"price_close\" FLOAT   NOT NULL,\n",
    "        \"volume_traded\" FLOAT   NOT NULL,\n",
    "        \"trades_count\" INT   NOT NULL\n",
    "    );\"\"\"\n",
    "    \n",
    "    alter1 = \"\"\"ALTER TABLE \"assets\" ADD CONSTRAINT \"fk_assets_asset_id\" FOREIGN KEY(\"asset_id\")\n",
    "    REFERENCES \"historictrades\" (\"asset_id\");\"\"\"\n",
    "\n",
    "    alter2 = \"\"\"ALTER TABLE \"current_rates\" ADD CONSTRAINT \"fk_currentrates_asset_id_base\" FOREIGN KEY(\"asset_id_base\")\n",
    "    REFERENCES \"assets\" (\"asset_id\");\"\"\"\n",
    "\n",
    "    # create a database connection\n",
    "    conn = create_connection(database)\n",
    "\n",
    "    # create tables\n",
    "    if conn is not None:\n",
    "        # create projects table\n",
    "        execute_sql_cmd(conn, sql_create_projects_table)\n",
    "\n",
    "        # create tasks table\n",
    "        execute_sql_cmd(conn, sql_create_tasks_table)\n",
    "    else:\n",
    "        print(\"Error! cannot create the database connection.\")\n",
    "\n",
    "if __name__ == '__main__':\n",
    "    main()"
   ]
  },
  {
   "cell_type": "code",
   "execution_count": null,
   "id": "varying-applicant",
   "metadata": {},
   "outputs": [],
   "source": []
  }
 ],
 "metadata": {
  "kernelspec": {
   "display_name": "Python 3",
   "language": "python",
   "name": "python3"
  },
  "language_info": {
   "codemirror_mode": {
    "name": "ipython",
    "version": 3
   },
   "file_extension": ".py",
   "mimetype": "text/x-python",
   "name": "python",
   "nbconvert_exporter": "python",
   "pygments_lexer": "ipython3",
   "version": "3.8.5"
  },
  "varInspector": {
   "cols": {
    "lenName": 16,
    "lenType": 16,
    "lenVar": 40
   },
   "kernels_config": {
    "python": {
     "delete_cmd_postfix": "",
     "delete_cmd_prefix": "del ",
     "library": "var_list.py",
     "varRefreshCmd": "print(var_dic_list())"
    },
    "r": {
     "delete_cmd_postfix": ") ",
     "delete_cmd_prefix": "rm(",
     "library": "var_list.r",
     "varRefreshCmd": "cat(var_dic_list()) "
    }
   },
   "types_to_exclude": [
    "module",
    "function",
    "builtin_function_or_method",
    "instance",
    "_Feature"
   ],
   "window_display": false
  }
 },
 "nbformat": 4,
 "nbformat_minor": 5
}
