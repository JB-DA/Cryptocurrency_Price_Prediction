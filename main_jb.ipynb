{
 "cells": [
  {
   "cell_type": "code",
   "execution_count": null,
   "id": "ambient-minutes",
   "metadata": {
    "ExecuteTime": {
     "end_time": "2021-02-14T14:01:50.618444Z",
     "start_time": "2021-02-14T14:01:49.054893Z"
    }
   },
   "outputs": [],
   "source": [
    "#####\n",
    "###\n",
    "##\n",
    "#\n",
    "#   PROJECT DETAILS HERE\n",
    "#\n",
    "##\n",
    "###\n",
    "#####\n",
    "\n",
    "### SETTINGS\n",
    "##\n",
    "# Dependencies\n",
    "import requests\n",
    "import json\n",
    "import pandas as pd\n",
    "from datetime import date\n",
    "import plotly.express as px\n",
    "\n",
    "asset_id_base = 'BTC'\n",
    "limit = 100\n",
    "\n",
    "# API Keys\n",
    "# Daily limits apply, make sure to only use 1\n",
    "#apikey_coinapi = 'B44F0242-E0BA-4C1A-BED2-831A67426480'\n",
    "#apikey_coinapi = '1830D89F-A633-4F73-9707-3A7FAFE5C0F0'\n",
    "apikey_coinapi = '200EF4DD-8BF3-4A8A-9FC9-CF9C9D6D1173'"
   ]
  },
  {
   "cell_type": "code",
   "execution_count": null,
   "id": "little-acoustic",
   "metadata": {
    "ExecuteTime": {
     "end_time": "2021-02-14T14:01:50.670482Z",
     "start_time": "2021-02-14T14:01:50.661429Z"
    }
   },
   "outputs": [],
   "source": [
    "# # Download the list of assets\n",
    "\n",
    "# # #Assets\n",
    "\n",
    "# # https://docs.coinapi.io/#list-all-assets\n",
    "# url = 'https://rest.coinapi.io/v1/assets'\n",
    "# headers = { 'X-CoinAPI-Key' : 'B44F0242-E0BA-4C1A-BED2-831A67426480' }\n",
    "# response = requests.get(url, headers=headers)\n",
    "\n",
    "# with open( 'data_raw/assets.json', 'w' ) as ii:\n",
    "#     json.dump( response.json(), ii )"
   ]
  },
  {
   "cell_type": "code",
   "execution_count": null,
   "id": "yellow-chamber",
   "metadata": {
    "ExecuteTime": {
     "end_time": "2021-02-14T14:01:51.987244Z",
     "start_time": "2021-02-14T14:01:51.733229Z"
    }
   },
   "outputs": [],
   "source": [
    "#load downloaded asset list to pandas frame\n",
    "with open( 'data_raw/assets.json', 'r' ) as jj:\n",
    "    json_d = json.load( jj )\n",
    "    df_assets = pd.DataFrame( json_d )"
   ]
  },
  {
   "cell_type": "code",
   "execution_count": null,
   "id": "gross-observer",
   "metadata": {
    "ExecuteTime": {
     "end_time": "2021-02-14T14:01:52.932907Z",
     "start_time": "2021-02-14T14:01:52.853165Z"
    },
    "scrolled": false
   },
   "outputs": [],
   "source": [
    "df_assets.head(3)"
   ]
  },
  {
   "cell_type": "code",
   "execution_count": null,
   "id": "worst-services",
   "metadata": {
    "ExecuteTime": {
     "end_time": "2021-02-14T14:01:53.871067Z",
     "start_time": "2021-02-14T14:01:53.774535Z"
    },
    "scrolled": false
   },
   "outputs": [],
   "source": [
    "#show only assets that are crypto\n",
    "df_assets.loc[df_assets['type_is_crypto'] == 1].head(5)"
   ]
  },
  {
   "cell_type": "code",
   "execution_count": null,
   "id": "vulnerable-auction",
   "metadata": {
    "ExecuteTime": {
     "end_time": "2021-02-14T14:01:54.889103Z",
     "start_time": "2021-02-14T14:01:54.832832Z"
    }
   },
   "outputs": [],
   "source": [
    "df_assets.loc[df_assets['asset_id'] == asset_id_base, ['asset_id', 'name', 'type_is_crypto', 'price_usd', 'data_start', 'data_end', 'data_symbols_count', 'volume_1hrs_usd', 'volume_1day_usd', 'volume_1mth_usd']]"
   ]
  },
  {
   "cell_type": "code",
   "execution_count": null,
   "id": "threatened-industry",
   "metadata": {
    "ExecuteTime": {
     "end_time": "2021-02-14T14:01:56.023118Z",
     "start_time": "2021-02-14T14:01:56.018121Z"
    }
   },
   "outputs": [],
   "source": [
    "#record # of days data available, vs, total amount of data available\n",
    "#can be used on webpage to show % complete information\n",
    "#also to show rough number of API calls used (100 results = 1 call)\n",
    "\n",
    "# date_start = df_assets[df_assets['asset_id'] == asset_id_base]['data_start']\n",
    "\n",
    "# today = date.today()\n",
    "\n",
    "# print(f'{asset_id_base} Data Start: {date_start.iloc[0]}, Today: {today}')\n",
    "# print(f'Number of Days: {(today - date_start.iloc[0]).days}')\n",
    "# #print(f'Approx # of API calls to calculate: { (today - date_start.iloc[0])/100 }')\n",
    "\n",
    "# print(date_start.iloc[0])"
   ]
  },
  {
   "cell_type": "code",
   "execution_count": null,
   "id": "married-summer",
   "metadata": {
    "ExecuteTime": {
     "end_time": "2021-02-14T14:01:57.285805Z",
     "start_time": "2021-02-14T14:01:57.254163Z"
    }
   },
   "outputs": [],
   "source": [
    "#check USD > AUD conversion rate\n",
    "df_assets.loc[df_assets['asset_id'] == 'AUD', ['asset_id', 'name', 'type_is_crypto', 'data_end', 'price_usd']]"
   ]
  },
  {
   "cell_type": "code",
   "execution_count": null,
   "id": "looking-dutch",
   "metadata": {
    "ExecuteTime": {
     "end_time": "2021-02-14T14:02:05.148306Z",
     "start_time": "2021-02-14T14:02:05.139350Z"
    }
   },
   "outputs": [],
   "source": [
    "#get historical data, starting from beginning date in 'assets.json' for particular asset\n",
    "#asset_id_base = 'LTC'\n",
    "asset_id_quote = 'USD'\n",
    "time_start = df_assets[df_assets['asset_id'] == asset_id_base]['data_start']\n",
    "period_id = '1DAY'\n",
    "endpoint = 'https://rest.coinapi.io'\n",
    "#limit = 3\n",
    "include_empty_items = False\n",
    "\n",
    "\n",
    "# furl = f\"{endpoint}/v1/ohlcv/{asset_id_base}/{asset_id_quote}/history?period_id={period_id}&time_start={time_start.iloc[0]}&limit={limit}&include_empty_items={include_empty_items}\"\n",
    "\n",
    "# url = furl\n",
    "# headers = {'X-CoinAPI-Key' : apikey_coinapi }\n",
    "# response = requests.get(url, headers=headers)\n",
    "\n",
    "# display(f'{response}')\n",
    "\n",
    "# #save to asset_id_base.json\n",
    "# with open( f'data_raw/{asset_id_base}.json', 'w' ) as ii:\n",
    "#     json.dump( response.json(), ii )"
   ]
  },
  {
   "cell_type": "code",
   "execution_count": null,
   "id": "canadian-scheme",
   "metadata": {
    "ExecuteTime": {
     "end_time": "2021-02-14T14:02:06.253716Z",
     "start_time": "2021-02-14T14:02:06.111690Z"
    }
   },
   "outputs": [],
   "source": [
    "#open and save it to a dataframe\n",
    "with open( f'data_raw/{asset_id_base}.json', 'r' ) as jj:\n",
    "    json_d = json.load( jj )\n",
    "    df_asset_id = pd.DataFrame( json_d )\n",
    "df_asset_id"
   ]
  },
  {
   "cell_type": "code",
   "execution_count": null,
   "id": "great-portland",
   "metadata": {
    "ExecuteTime": {
     "end_time": "2021-02-14T14:02:08.630876Z",
     "start_time": "2021-02-14T14:02:07.287522Z"
    }
   },
   "outputs": [],
   "source": [
    "#get new start time from time period end\n",
    "#note this should be done using the json format instead of pandas, cuts out extra step\n",
    "#json_d[-1][\"price_close\"]\n",
    "\n",
    "time_start = df_asset_id['time_period_end'].iloc[-1]\n",
    "furl = f\"{endpoint}/v1/ohlcv/{asset_id_base}/{asset_id_quote}/history?period_id={period_id}&time_start={time_start}&limit={limit}&include_empty_items={include_empty_items}\"\n",
    "\n",
    "url = furl\n",
    "headers = {'X-CoinAPI-Key' : apikey_coinapi }\n",
    "response = requests.get(url, headers=headers)"
   ]
  },
  {
   "cell_type": "code",
   "execution_count": null,
   "id": "impossible-insulin",
   "metadata": {
    "ExecuteTime": {
     "end_time": "2021-02-14T14:02:09.307313Z",
     "start_time": "2021-02-14T14:02:09.296805Z"
    }
   },
   "outputs": [],
   "source": [
    "response.json()"
   ]
  },
  {
   "cell_type": "code",
   "execution_count": null,
   "id": "opponent-fraud",
   "metadata": {
    "ExecuteTime": {
     "end_time": "2021-02-14T14:02:10.880709Z",
     "start_time": "2021-02-14T14:02:10.516598Z"
    }
   },
   "outputs": [],
   "source": [
    "with open( f'data_raw/{asset_id_base}.json', 'r+' ) as ii:\n",
    "    json_d = json.load( ii )\n",
    "    \n",
    "    json_d.extend(response.json())\n",
    "    ii.seek(0)\n",
    "    \n",
    "    json.dump(json_d, ii)"
   ]
  },
  {
   "cell_type": "code",
   "execution_count": null,
   "id": "precious-official",
   "metadata": {
    "ExecuteTime": {
     "end_time": "2021-02-14T14:02:11.845871Z",
     "start_time": "2021-02-14T14:02:11.669151Z"
    }
   },
   "outputs": [],
   "source": [
    "with open( f'data_raw/{asset_id_base}.json', 'r' ) as jj:\n",
    "    json_d = json.load( jj )\n",
    "    df_asset_id = pd.DataFrame( json_d )\n",
    "display(f'OHCLV Data for {asset_id_base} - {df_assets.iloc[df_assets.loc[df_assets[\"asset_id\"] == asset_id_base].index.item()][\"name\"]}')\n",
    "display(df_asset_id)"
   ]
  },
  {
   "cell_type": "code",
   "execution_count": null,
   "id": "adult-transcript",
   "metadata": {
    "ExecuteTime": {
     "end_time": "2021-02-14T14:02:12.904015Z",
     "start_time": "2021-02-14T14:02:12.861014Z"
    }
   },
   "outputs": [],
   "source": [
    "df_asset_id.nunique()"
   ]
  },
  {
   "cell_type": "code",
   "execution_count": null,
   "id": "imported-compression",
   "metadata": {
    "ExecuteTime": {
     "end_time": "2021-02-14T14:02:13.992496Z",
     "start_time": "2021-02-14T14:02:13.987572Z"
    },
    "scrolled": false
   },
   "outputs": [],
   "source": [
    "# with open( f'data_raw/{asset_id_base}.json', 'r' ) as jj:\n",
    "#     json_d = json.load( jj )\n",
    "# print(json.dumps(json_d, indent=4))"
   ]
  },
  {
   "cell_type": "code",
   "execution_count": null,
   "id": "eastern-mainstream",
   "metadata": {
    "ExecuteTime": {
     "end_time": "2021-02-14T14:02:17.616929Z",
     "start_time": "2021-02-14T14:02:16.637573Z"
    }
   },
   "outputs": [],
   "source": [
    "import plotly.express as px\n",
    "import plotly.graph_objects as go\n",
    "import pandas as pd\n",
    "#import requests\n",
    "# import jsonquote = 'AAPL'\n",
    "\n",
    "# days = 300def candlestick(quote,days):\n",
    "#   r = requests.get(f’https://financialmodelingprep.com/api/v3/historical-price-full/{quote}?timeseries={days}')\n",
    "#   r = r.json()\n",
    "\n",
    "with open(f'data_raw/{asset_id_base}.json', 'r') as jj:\n",
    "    r = json.load(jj)\n",
    "\n",
    "stockdata = r\n",
    "stockdata_df = pd.DataFrame(stockdata)\n",
    "\n",
    "fig = go.Figure(data=[go.Candlestick(\n",
    "    x=stockdata_df['time_period_start'],\n",
    "    open=stockdata_df['price_open'],\n",
    "    high=stockdata_df['price_high'],\n",
    "    low=stockdata_df['price_low'],\n",
    "    close=stockdata_df['price_close'])])\n",
    "\n",
    "fig.update_layout(\n",
    "    title={'text': f'{asset_id_base} in ${asset_id_quote}',\n",
    "           'y': 0.9,\n",
    "           'x': 0.5,\n",
    "           'xanchor': 'center',\n",
    "           'yanchor': 'top'},\n",
    ")\n",
    "\n",
    "fig.show()"
   ]
  },
  {
   "cell_type": "code",
   "execution_count": null,
   "id": "sexual-haiti",
   "metadata": {
    "ExecuteTime": {
     "end_time": "2021-02-14T14:02:28.195193Z",
     "start_time": "2021-02-14T14:02:18.351006Z"
    }
   },
   "outputs": [],
   "source": [
    "######MACHINE LEARNING\n",
    "#########\n",
    "#########\n",
    "#########\n",
    "#########\n",
    "\n",
    "#hist ={}\n",
    "\n",
    "\n",
    "\n",
    "\n",
    "import json\n",
    "import requests\n",
    "from tensorflow.keras.models import Sequential\n",
    "from tensorflow.keras.layers import Activation, Dense, Dropout, LSTM\n",
    "import matplotlib.pyplot as plt\n",
    "import numpy as np\n",
    "import pandas as pd\n",
    "import seaborn as sns\n",
    "from sklearn.metrics import mean_absolute_error\n",
    "%matplotlib inline"
   ]
  },
  {
   "cell_type": "code",
   "execution_count": null,
   "id": "occupied-rebel",
   "metadata": {
    "ExecuteTime": {
     "end_time": "2021-02-14T14:02:33.839598Z",
     "start_time": "2021-02-14T14:02:33.778373Z"
    }
   },
   "outputs": [],
   "source": [
    "hist = stockdata_df[['time_period_end', 'price_close', 'price_high', 'price_low', 'price_open', 'volume_traded']].copy()\n",
    "\n",
    "#hist['time_period_end'] = hist['time_period_end'][0].split(\"T\", 1)[0]\n",
    "\n",
    "hist['time_period_end'] = hist['time_period_end'].apply(lambda x: x.split(\"T\", 1)[0])\n",
    "\n",
    "#hist['time_period_end'] = pd.to_datetime(hist['time_period_end'])\n",
    "\n",
    "hist.set_index(['time_period_end'], inplace=True)\n",
    "\n",
    "#hist.index = pd.to_datetime(hist.index, unit='s')\n",
    "\n",
    "target_col = 'price_close'\n",
    "\n",
    "hist\n",
    "\n"
   ]
  },
  {
   "cell_type": "code",
   "execution_count": null,
   "id": "searching-tampa",
   "metadata": {
    "ExecuteTime": {
     "end_time": "2021-02-14T14:02:40.773108Z",
     "start_time": "2021-02-14T14:02:40.738055Z"
    }
   },
   "outputs": [],
   "source": [
    "hist.info()"
   ]
  },
  {
   "cell_type": "code",
   "execution_count": null,
   "id": "based-tuition",
   "metadata": {
    "ExecuteTime": {
     "end_time": "2021-02-14T14:02:44.560908Z",
     "start_time": "2021-02-14T14:02:44.554875Z"
    }
   },
   "outputs": [],
   "source": [
    "def train_test_split(df, test_size=0.2):\n",
    "    split_row = len(df) - int(test_size * len(df))\n",
    "    train_data = df.iloc[:split_row]\n",
    "    test_data = df.iloc[split_row:]\n",
    "    return train_data, test_data\n",
    "\n",
    "train, test = train_test_split(hist, test_size=0.2)"
   ]
  },
  {
   "cell_type": "code",
   "execution_count": null,
   "id": "coral-morgan",
   "metadata": {
    "ExecuteTime": {
     "end_time": "2021-02-14T14:05:45.274121Z",
     "start_time": "2021-02-14T14:02:50.480664Z"
    }
   },
   "outputs": [],
   "source": [
    "def line_plot(line1, line2, label1=None, label2=None, title='', lw=1):\n",
    "    fig, ax = plt.subplots(1, figsize=(13, 7))\n",
    "    ax.plot(line1, label=label1, linewidth=lw)\n",
    "    ax.plot(line2, label=label2, linewidth=lw)\n",
    "    ax.set_ylabel('price [USD]', fontsize=14)\n",
    "    ax.set_title(title, fontsize=16)\n",
    "    ax.legend(loc='best', fontsize=16)\n",
    "    \n",
    "line_plot(train[target_col], test[target_col], 'training', 'test', title='')"
   ]
  },
  {
   "cell_type": "code",
   "execution_count": null,
   "id": "junior-cemetery",
   "metadata": {
    "ExecuteTime": {
     "end_time": "2021-02-14T14:05:53.132887Z",
     "start_time": "2021-02-14T14:05:53.124891Z"
    }
   },
   "outputs": [],
   "source": [
    "def normalise_zero_base(df):\n",
    "    print(f'DF: {df} \\n\\n DF: {df.iloc[0] -1} ')\n",
    "    \n",
    "    return df / df.iloc[0] - 1\n",
    "\n",
    "def normalise_min_max(df):\n",
    "    return (df - df.min()) / (data.max() - df.min())"
   ]
  },
  {
   "cell_type": "code",
   "execution_count": null,
   "id": "stuffed-cigarette",
   "metadata": {
    "ExecuteTime": {
     "end_time": "2021-02-14T14:05:54.794732Z",
     "start_time": "2021-02-14T14:05:54.786732Z"
    }
   },
   "outputs": [],
   "source": [
    "def extract_window_data(df, window_len=5, zero_base=True):\n",
    "    window_data = []\n",
    "    for idx in range(len(df) - window_len):\n",
    "        tmp = df[idx: (idx + window_len)].copy()\n",
    "        if zero_base:\n",
    "            tmp = normalise_zero_base(tmp)\n",
    "        window_data.append(tmp.values)\n",
    "    return np.array(window_data)"
   ]
  },
  {
   "cell_type": "code",
   "execution_count": null,
   "id": "small-invalid",
   "metadata": {
    "ExecuteTime": {
     "end_time": "2021-02-14T14:05:57.268860Z",
     "start_time": "2021-02-14T14:05:57.246847Z"
    }
   },
   "outputs": [],
   "source": [
    "def prepare_data(df, target_col, window_len=10, zero_base=True, test_size=0.2):\n",
    "    train_data, test_data = train_test_split(df, test_size=test_size)\n",
    "    X_train = extract_window_data(train_data, window_len, zero_base)\n",
    "    X_test = extract_window_data(test_data, window_len, zero_base)\n",
    "    y_train = train_data[target_col][window_len:].values\n",
    "    y_test = test_data[target_col][window_len:].values\n",
    "    if zero_base:\n",
    "        y_train = y_train / train_data[target_col][:-window_len].values - 1\n",
    "        y_test = y_test / test_data[target_col][:-window_len].values - 1\n",
    "\n",
    "    return train_data, test_data, X_train, X_test, y_train, y_test"
   ]
  },
  {
   "cell_type": "code",
   "execution_count": null,
   "id": "continued-evidence",
   "metadata": {
    "ExecuteTime": {
     "end_time": "2021-02-14T14:05:59.094379Z",
     "start_time": "2021-02-14T14:05:59.084387Z"
    }
   },
   "outputs": [],
   "source": [
    "def build_lstm_model(input_data, output_size, neurons=100, activ_func='linear', dropout=0.2, loss='mse', optimizer='adam'):\n",
    "    model = Sequential()\n",
    "    model.add(LSTM(neurons, input_shape=(input_data.shape[1], input_data.shape[2])))\n",
    "    model.add(Dropout(dropout))\n",
    "    model.add(Dense(units=output_size))\n",
    "    model.add(Activation(activ_func))\n",
    "    \n",
    "    model.compile(loss=loss, optimizer=optimizer)\n",
    "    return model"
   ]
  },
  {
   "cell_type": "code",
   "execution_count": null,
   "id": "photographic-edition",
   "metadata": {
    "ExecuteTime": {
     "end_time": "2021-02-14T14:06:00.277043Z",
     "start_time": "2021-02-14T14:06:00.266049Z"
    }
   },
   "outputs": [],
   "source": [
    "np.random.seed(42)\n",
    "window_len = 5\n",
    "test_size = 0.2\n",
    "zero_base = True\n",
    "lstm_neurons = 100\n",
    "epochs = 100\n",
    "batch_size = 32\n",
    "loss = 'mse'\n",
    "dropout = 0.2\n",
    "optimizer = 'adam'"
   ]
  },
  {
   "cell_type": "code",
   "execution_count": null,
   "id": "selected-symbol",
   "metadata": {
    "ExecuteTime": {
     "end_time": "2021-02-14T14:07:07.282079Z",
     "start_time": "2021-02-14T14:06:06.913505Z"
    },
    "scrolled": true
   },
   "outputs": [],
   "source": [
    "train, test, X_train, X_test, y_train, y_test = prepare_data(\n",
    "    hist, target_col, window_len=window_len, zero_base=zero_base, test_size=test_size)"
   ]
  },
  {
   "cell_type": "code",
   "execution_count": null,
   "id": "negative-meaning",
   "metadata": {
    "ExecuteTime": {
     "end_time": "2021-02-14T14:11:24.581166Z",
     "start_time": "2021-02-14T14:09:43.690922Z"
    },
    "scrolled": true
   },
   "outputs": [],
   "source": [
    "model = build_lstm_model(\n",
    "    X_train, output_size=1, neurons=lstm_neurons, dropout=dropout, loss=loss,\n",
    "    optimizer=optimizer)\n",
    "history = model.fit(\n",
    "    X_train, y_train, epochs=epochs, batch_size=batch_size, verbose=1, shuffle=True)"
   ]
  },
  {
   "cell_type": "code",
   "execution_count": null,
   "id": "coastal-windows",
   "metadata": {
    "ExecuteTime": {
     "end_time": "2021-02-14T14:11:31.766953Z",
     "start_time": "2021-02-14T14:11:31.004523Z"
    }
   },
   "outputs": [],
   "source": [
    "targets = test[target_col][window_len:]\n",
    "preds = model.predict(X_test).squeeze()\n",
    "mean_absolute_error(preds, y_test)"
   ]
  },
  {
   "cell_type": "code",
   "execution_count": null,
   "id": "plain-egyptian",
   "metadata": {
    "ExecuteTime": {
     "end_time": "2021-02-14T14:11:39.981684Z",
     "start_time": "2021-02-14T14:11:39.974703Z"
    },
    "scrolled": false
   },
   "outputs": [],
   "source": [
    "preds = test[target_col].values[:-window_len] * (preds + 1)\n",
    "preds = pd.Series(index=targets.index, data=preds)\n",
    "#line_plot(targets, preds, 'actual', 'prediction', lw=1)"
   ]
  },
  {
   "cell_type": "code",
   "execution_count": null,
   "id": "obvious-target",
   "metadata": {
    "ExecuteTime": {
     "end_time": "2021-02-14T14:11:45.597927Z",
     "start_time": "2021-02-14T14:11:45.586944Z"
    },
    "scrolled": true
   },
   "outputs": [],
   "source": [
    "t = targets.to_frame(\"price_close\")\n",
    "p = preds.to_frame(\"price_close\")\n",
    "\n",
    "p = p.shift(periods=-1)\n",
    "\n",
    "p = p.iloc[:-1]\n",
    "t = t.iloc[:-1]\n",
    "\n",
    "s = t.merge(p, how='inner', on='time_period_end', suffixes=('_targets', '_preds'))"
   ]
  },
  {
   "cell_type": "code",
   "execution_count": null,
   "id": "egyptian-university",
   "metadata": {
    "ExecuteTime": {
     "end_time": "2021-02-14T14:14:24.653984Z",
     "start_time": "2021-02-14T14:14:24.541237Z"
    }
   },
   "outputs": [],
   "source": [
    "fig = go.Figure([\n",
    "\n",
    "    go.Scatter(\n",
    "        name='Actual',\n",
    "        x=s.index,\n",
    "        y=s['price_close_targets'],\n",
    "        mode='lines',\n",
    "        marker=dict(color=\"#008080\"),\n",
    "        line=dict(width=1),\n",
    "        showlegend=True\n",
    "    ),\n",
    "    go.Scatter(\n",
    "        name='Prediction',\n",
    "        x=s.index,\n",
    "        y=s['price_close_preds'],\n",
    "        marker=dict(color=\"#FF8C00\"),\n",
    "        line=dict(width=1),\n",
    "        mode='lines',\n",
    "        fillcolor='rgba(68, 68, 68, 0.2)',\n",
    "        fill='tonexty',\n",
    "        showlegend=True\n",
    "    )\n",
    "])\n",
    "fig.update_layout(\n",
    "    yaxis_title='',\n",
    "    title='',\n",
    "    hovermode=\"x\"\n",
    ")\n",
    "fig.show()"
   ]
  },
  {
   "cell_type": "code",
   "execution_count": null,
   "id": "virtual-sierra",
   "metadata": {},
   "outputs": [],
   "source": []
  }
 ],
 "metadata": {
  "kernelspec": {
   "display_name": "Python 3",
   "language": "python",
   "name": "python3"
  },
  "language_info": {
   "codemirror_mode": {
    "name": "ipython",
    "version": 3
   },
   "file_extension": ".py",
   "mimetype": "text/x-python",
   "name": "python",
   "nbconvert_exporter": "python",
   "pygments_lexer": "ipython3",
   "version": "3.8.5"
  },
  "varInspector": {
   "cols": {
    "lenName": 16,
    "lenType": 16,
    "lenVar": 40
   },
   "kernels_config": {
    "python": {
     "delete_cmd_postfix": "",
     "delete_cmd_prefix": "del ",
     "library": "var_list.py",
     "varRefreshCmd": "print(var_dic_list())"
    },
    "r": {
     "delete_cmd_postfix": ") ",
     "delete_cmd_prefix": "rm(",
     "library": "var_list.r",
     "varRefreshCmd": "cat(var_dic_list()) "
    }
   },
   "types_to_exclude": [
    "module",
    "function",
    "builtin_function_or_method",
    "instance",
    "_Feature"
   ],
   "window_display": false
  }
 },
 "nbformat": 4,
 "nbformat_minor": 5
}
