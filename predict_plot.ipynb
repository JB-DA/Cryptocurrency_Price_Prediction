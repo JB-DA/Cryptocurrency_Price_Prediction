{
 "cells": [
  {
   "cell_type": "code",
   "execution_count": 8,
   "id": "given-nursing",
   "metadata": {
    "ExecuteTime": {
     "end_time": "2021-02-25T05:28:49.291075Z",
     "start_time": "2021-02-25T05:28:49.281877Z"
    }
   },
   "outputs": [],
   "source": [
    "### IMPORTS\n",
    "#\n",
    "from flask import Flask, jsonify, render_template, request\n",
    "from pandas.plotting import lag_plot\n",
    "from sklearn.metrics import mean_squared_error\n",
    "from sqlalchemy import create_engine\n",
    "from sqlite3 import Error\n",
    "from statsmodels.graphics.tsaplots import plot_acf, plot_pacf\n",
    "from statsmodels.tsa.arima_model import ARIMA\n",
    "# import statsmodels.tsa.arima.model.ARIMA\n",
    "from statsmodels.tsa.arima_model import ARIMAResults\n",
    "# from statsmodels.tsa.arima.model import ARIMAResults\n",
    "from statsmodels.tsa.stattools import adfuller\n",
    "import dataframe_image as dfi\n",
    "import datetime\n",
    "import glob\n",
    "import joblib\n",
    "import json\n",
    "import matplotlib.pyplot as plt\n",
    "import numpy as np\n",
    "import os\n",
    "import pandas as pd\n",
    "import requests\n",
    "import sqlite3\n",
    "import time\n",
    "# END IMPORTS"
   ]
  },
  {
   "cell_type": "code",
   "execution_count": 9,
   "id": "tamil-tooth",
   "metadata": {
    "ExecuteTime": {
     "end_time": "2021-02-25T05:28:55.712364Z",
     "start_time": "2021-02-25T05:28:55.701384Z"
    }
   },
   "outputs": [],
   "source": [
    "database = r'crypto_db.sqlite'\n",
    "\n",
    "def create_connection(db_file):\n",
    "    \"\"\" create a database connection to the SQLite database specified by db_file\n",
    "    :param db_file: database file\n",
    "    :return: Connection object or None\n",
    "    \"\"\"\n",
    "    conn = None\n",
    "    try:\n",
    "        conn = sqlite3.connect(db_file)\n",
    "        return conn\n",
    "    except Error as e:\n",
    "        print(e)\n",
    "    return conn\n",
    "# END create_connection\n",
    "\n",
    "\n",
    "### RUN SQL COMMAND\n",
    "#\n",
    "def execute_sql_cmd(conn, command):\n",
    "    \"\"\" run a sql command statement\n",
    "    :param conn: Connection object\n",
    "    :param execute_sql_cmd: run sql statement\n",
    "    :return:\n",
    "    \"\"\"\n",
    "    try:\n",
    "        c = conn.cursor()\n",
    "        c.execute(command)\n",
    "    except Error as e:\n",
    "        print(e)\n",
    "# END execute_sql_cmd\n",
    "\n",
    "\n",
    "### LOAD SCHEMA\n",
    "#\n",
    "conn = create_connection(database)\n",
    "# END LOAD SCHEMA"
   ]
  },
  {
   "cell_type": "code",
   "execution_count": 47,
   "id": "cultural-helping",
   "metadata": {
    "ExecuteTime": {
     "end_time": "2021-02-25T06:14:48.726824Z",
     "start_time": "2021-02-25T06:14:48.682867Z"
    },
    "scrolled": true
   },
   "outputs": [
    {
     "name": "stderr",
     "output_type": "stream",
     "text": [
      "C:\\Users\\jakeb\\anaconda3\\envs\\data_analytics\\lib\\site-packages\\statsmodels\\tsa\\arima_model.py:472: FutureWarning: \n",
      "statsmodels.tsa.arima_model.ARMA and statsmodels.tsa.arima_model.ARIMA have\n",
      "been deprecated in favor of statsmodels.tsa.arima.model.ARIMA (note the .\n",
      "between arima and model) and\n",
      "statsmodels.tsa.SARIMAX. These will be removed after the 0.12 release.\n",
      "\n",
      "statsmodels.tsa.arima.model.ARIMA makes use of the statespace framework and\n",
      "is both well tested and maintained.\n",
      "\n",
      "To silence this warning and continue using ARMA and ARIMA until they are\n",
      "removed, use:\n",
      "\n",
      "import warnings\n",
      "warnings.filterwarnings('ignore', 'statsmodels.tsa.arima_model.ARMA',\n",
      "                        FutureWarning)\n",
      "warnings.filterwarnings('ignore', 'statsmodels.tsa.arima_model.ARIMA',\n",
      "                        FutureWarning)\n",
      "\n",
      "  warnings.warn(ARIMA_DEPRECATION_WARN, FutureWarning)\n"
     ]
    }
   ],
   "source": [
    "asset = 'brentoil'\n",
    "\n",
    "path = f'models/{asset}/'\n",
    "\n",
    "MODEL = joblib.load(f'{path}{asset}_model.smd')\n",
    "\n",
    "conn = create_connection(database)\n",
    "query = f\"SELECT time_period_end, price_close from historic_data WHERE asset_id='{asset}'\"\n",
    "\n",
    "if conn is not None:\n",
    "    result = pd.read_sql_query(query,conn)\n",
    "else:\n",
    "    print(\"Error! cannot create the database connection.\")\n",
    "conn.close()\n",
    "\n",
    "forecast = MODEL.forecast(365)[0]\n",
    "forecast\n",
    "\n",
    "#MODEL.forecast() shows predicted value, std error of forecast, and confidence interval (lower & upper bounds)\n",
    "\n",
    "newdates = result['time_period_end'].max()"
   ]
  },
  {
   "cell_type": "code",
   "execution_count": 53,
   "id": "bronze-drove",
   "metadata": {
    "ExecuteTime": {
     "end_time": "2021-02-25T06:21:09.575535Z",
     "start_time": "2021-02-25T06:21:09.554537Z"
    }
   },
   "outputs": [
    {
     "ename": "TypeError",
     "evalue": "'module' object is not callable",
     "output_type": "error",
     "traceback": [
      "\u001b[1;31m---------------------------------------------------------------------------\u001b[0m",
      "\u001b[1;31mTypeError\u001b[0m                                 Traceback (most recent call last)",
      "\u001b[1;32m<ipython-input-53-dc3ee51725c7>\u001b[0m in \u001b[0;36m<module>\u001b[1;34m\u001b[0m\n\u001b[0;32m      1\u001b[0m \u001b[1;32mimport\u001b[0m \u001b[0mdatetime\u001b[0m\u001b[1;33m\u001b[0m\u001b[1;33m\u001b[0m\u001b[0m\n\u001b[0;32m      2\u001b[0m \u001b[1;33m\u001b[0m\u001b[0m\n\u001b[1;32m----> 3\u001b[1;33m \u001b[0mstart_index\u001b[0m \u001b[1;33m=\u001b[0m \u001b[0mdatetime\u001b[0m\u001b[1;33m(\u001b[0m\u001b[1;36m2020\u001b[0m\u001b[1;33m,\u001b[0m \u001b[1;36m2\u001b[0m\u001b[1;33m,\u001b[0m \u001b[1;36m5\u001b[0m\u001b[1;33m)\u001b[0m\u001b[1;33m\u001b[0m\u001b[1;33m\u001b[0m\u001b[0m\n\u001b[0m\u001b[0;32m      4\u001b[0m \u001b[0mend_index\u001b[0m \u001b[1;33m=\u001b[0m \u001b[0mdatetime\u001b[0m\u001b[1;33m(\u001b[0m\u001b[1;36m2021\u001b[0m\u001b[1;33m,\u001b[0m \u001b[1;36m2\u001b[0m\u001b[1;33m,\u001b[0m \u001b[1;36m5\u001b[0m\u001b[1;33m)\u001b[0m\u001b[1;33m\u001b[0m\u001b[1;33m\u001b[0m\u001b[0m\n\u001b[0;32m      5\u001b[0m \u001b[0mforecast\u001b[0m \u001b[1;33m=\u001b[0m \u001b[0mmodel_fit\u001b[0m\u001b[1;33m.\u001b[0m\u001b[0mpredict\u001b[0m\u001b[1;33m(\u001b[0m\u001b[0mstart\u001b[0m\u001b[1;33m=\u001b[0m\u001b[0mstart_index\u001b[0m\u001b[1;33m,\u001b[0m \u001b[0mend\u001b[0m\u001b[1;33m=\u001b[0m\u001b[0mend_index\u001b[0m\u001b[1;33m)\u001b[0m\u001b[1;33m\u001b[0m\u001b[1;33m\u001b[0m\u001b[0m\n",
      "\u001b[1;31mTypeError\u001b[0m: 'module' object is not callable"
     ]
    }
   ],
   "source": [
    "import datetime\n",
    "\n",
    "start_index = datetime(2020, 2, 5)\n",
    "end_index = datetime(2021, 2, 5)\n",
    "forecast = model_fit.predict(start=start_index, end=end_index)\n",
    "\n",
    "\n",
    "# for i in args:\n",
    "#     newdates = newdates.append({'time_period_end': i}, ignore_index=True)"
   ]
  },
  {
   "cell_type": "code",
   "execution_count": null,
   "id": "bizarre-lending",
   "metadata": {},
   "outputs": [],
   "source": [
    "#### PLOTLY EXAMPLE\n",
    "##\n",
    "\n",
    "\n",
    "import plotly.express as px\n",
    "import plotly.graph_objects as go\n",
    "\n",
    "fig = go.Figure([\n",
    "\n",
    "    go.Scatter(\n",
    "        name='Actual',\n",
    "        x=result.Date,\n",
    "        y=result.price_close,\n",
    "        mode='lines',\n",
    "        marker=dict(color=\"#008080\"),\n",
    "        line=dict(width=1),\n",
    "        showlegend=True\n",
    "    ),\n",
    "    go.Scatter(\n",
    "        name='Prediction Forecast',\n",
    "        x=result.Date+1,\n",
    "        y=forecast[0],\n",
    "        marker=dict(color=\"#FF8C00\"),\n",
    "        line=dict(width=1),\n",
    "        mode='lines',\n",
    "        fillcolor='rgba(68, 68, 68, 0.3)',\n",
    "        showlegend=True\n",
    "    )\n",
    "])\n",
    "\n",
    "fig.update_layout(\n",
    "    yaxis_title='',\n",
    "    title='',\n",
    "    hovermode=\"x\"\n",
    ")\n",
    "\n",
    "fig.show()"
   ]
  }
 ],
 "metadata": {
  "hide_input": false,
  "kernelspec": {
   "display_name": "Python 3",
   "language": "python",
   "name": "python3"
  },
  "language_info": {
   "codemirror_mode": {
    "name": "ipython",
    "version": 3
   },
   "file_extension": ".py",
   "mimetype": "text/x-python",
   "name": "python",
   "nbconvert_exporter": "python",
   "pygments_lexer": "ipython3",
   "version": "3.8.5"
  },
  "varInspector": {
   "cols": {
    "lenName": 16,
    "lenType": 16,
    "lenVar": 40
   },
   "kernels_config": {
    "python": {
     "delete_cmd_postfix": "",
     "delete_cmd_prefix": "del ",
     "library": "var_list.py",
     "varRefreshCmd": "print(var_dic_list())"
    },
    "r": {
     "delete_cmd_postfix": ") ",
     "delete_cmd_prefix": "rm(",
     "library": "var_list.r",
     "varRefreshCmd": "cat(var_dic_list()) "
    }
   },
   "types_to_exclude": [
    "module",
    "function",
    "builtin_function_or_method",
    "instance",
    "_Feature"
   ],
   "window_display": false
  }
 },
 "nbformat": 4,
 "nbformat_minor": 5
}
