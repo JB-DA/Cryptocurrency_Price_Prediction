{
 "metadata": {
  "language_info": {
   "codemirror_mode": {
    "name": "ipython",
    "version": 3
   },
   "file_extension": ".py",
   "mimetype": "text/x-python",
   "name": "python",
   "nbconvert_exporter": "python",
   "pygments_lexer": "ipython3",
   "version": "3.8.5-final"
  },
  "orig_nbformat": 2,
  "kernelspec": {
   "name": "python_defaultSpec_1613558201734",
   "display_name": "Python 3.8.5 32-bit"
  }
 },
 "nbformat": 4,
 "nbformat_minor": 2,
 "cells": [
  {
   "cell_type": "code",
   "execution_count": 1,
   "metadata": {},
   "outputs": [],
   "source": [
    "import numpy as np \n",
    "import pandas as pd \n",
    "import matplotlib.pyplot as plt\n",
    "from pandas.plotting import lag_plot\n",
    "from pandas import datetime\n",
    "from statsmodels.tsa.arima_model import ARIMA\n",
    "from sklearn.metrics import mean_squared_error"
   ]
  },
  {
   "cell_type": "code",
   "execution_count": 5,
   "metadata": {
    "tags": []
   },
   "outputs": [
    {
     "output_type": "stream",
     "name": "stdout",
     "text": "Defaulting to user installation because normal site-packages is not writeableWARNING: You are using pip version 20.1.1; however, version 21.0.1 is available.\nYou should consider upgrading via the 'c:\\program files (x86)\\python38-32\\python.exe -m pip install --upgrade pip' command.\n\nCollecting xlrd\n  Downloading xlrd-2.0.1-py2.py3-none-any.whl (96 kB)\nInstalling collected packages: xlrd\nSuccessfully installed xlrd-2.0.1\n"
    }
   ],
   "source": [
    "!pip install xlrd"
   ]
  },
  {
   "cell_type": "code",
   "execution_count": 30,
   "metadata": {},
   "outputs": [],
   "source": [
    "path = r'Inflation data.xls'\n",
    "inf_df=pd.read_excel(path,skiprows =lambda x: x in [0,2,3,4,5,6,7,8,9,10,11],usecols=[\"Title\", \"Year-ended inflation\"])"
   ]
  },
  {
   "cell_type": "code",
   "execution_count": 31,
   "metadata": {},
   "outputs": [
    {
     "output_type": "execute_result",
     "data": {
      "text/plain": "        Title  Year-ended inflation\n0  1922-09-01                   NaN\n1  1922-12-01                   NaN\n2  1923-03-01                   NaN\n3  1923-06-01                   2.3\n4  1923-09-01                   3.8\n5  1923-12-01                   4.6\n6  1924-03-01                   1.4\n7  1924-06-01                  -1.7\n8  1924-09-01                  -3.7\n9  1924-12-01                  -3.3\n10 1925-03-01                   0.8\n11 1925-06-01                   1.6\n12 1925-09-01                   2.9\n13 1925-12-01                   2.8\n14 1926-03-01                   1.5\n15 1926-06-01                   2.7\n16 1926-09-01                   0.8\n17 1926-12-01                   0.5\n18 1927-03-01                  -0.6\n19 1927-06-01                  -3.0",
      "text/html": "<div>\n<style scoped>\n    .dataframe tbody tr th:only-of-type {\n        vertical-align: middle;\n    }\n\n    .dataframe tbody tr th {\n        vertical-align: top;\n    }\n\n    .dataframe thead th {\n        text-align: right;\n    }\n</style>\n<table border=\"1\" class=\"dataframe\">\n  <thead>\n    <tr style=\"text-align: right;\">\n      <th></th>\n      <th>Title</th>\n      <th>Year-ended inflation</th>\n    </tr>\n  </thead>\n  <tbody>\n    <tr>\n      <th>0</th>\n      <td>1922-09-01</td>\n      <td>NaN</td>\n    </tr>\n    <tr>\n      <th>1</th>\n      <td>1922-12-01</td>\n      <td>NaN</td>\n    </tr>\n    <tr>\n      <th>2</th>\n      <td>1923-03-01</td>\n      <td>NaN</td>\n    </tr>\n    <tr>\n      <th>3</th>\n      <td>1923-06-01</td>\n      <td>2.3</td>\n    </tr>\n    <tr>\n      <th>4</th>\n      <td>1923-09-01</td>\n      <td>3.8</td>\n    </tr>\n    <tr>\n      <th>5</th>\n      <td>1923-12-01</td>\n      <td>4.6</td>\n    </tr>\n    <tr>\n      <th>6</th>\n      <td>1924-03-01</td>\n      <td>1.4</td>\n    </tr>\n    <tr>\n      <th>7</th>\n      <td>1924-06-01</td>\n      <td>-1.7</td>\n    </tr>\n    <tr>\n      <th>8</th>\n      <td>1924-09-01</td>\n      <td>-3.7</td>\n    </tr>\n    <tr>\n      <th>9</th>\n      <td>1924-12-01</td>\n      <td>-3.3</td>\n    </tr>\n    <tr>\n      <th>10</th>\n      <td>1925-03-01</td>\n      <td>0.8</td>\n    </tr>\n    <tr>\n      <th>11</th>\n      <td>1925-06-01</td>\n      <td>1.6</td>\n    </tr>\n    <tr>\n      <th>12</th>\n      <td>1925-09-01</td>\n      <td>2.9</td>\n    </tr>\n    <tr>\n      <th>13</th>\n      <td>1925-12-01</td>\n      <td>2.8</td>\n    </tr>\n    <tr>\n      <th>14</th>\n      <td>1926-03-01</td>\n      <td>1.5</td>\n    </tr>\n    <tr>\n      <th>15</th>\n      <td>1926-06-01</td>\n      <td>2.7</td>\n    </tr>\n    <tr>\n      <th>16</th>\n      <td>1926-09-01</td>\n      <td>0.8</td>\n    </tr>\n    <tr>\n      <th>17</th>\n      <td>1926-12-01</td>\n      <td>0.5</td>\n    </tr>\n    <tr>\n      <th>18</th>\n      <td>1927-03-01</td>\n      <td>-0.6</td>\n    </tr>\n    <tr>\n      <th>19</th>\n      <td>1927-06-01</td>\n      <td>-3.0</td>\n    </tr>\n  </tbody>\n</table>\n</div>"
     },
     "metadata": {},
     "execution_count": 31
    }
   ],
   "source": [
    "inf_df.head(20)"
   ]
  },
  {
   "cell_type": "code",
   "execution_count": 35,
   "metadata": {},
   "outputs": [
    {
     "output_type": "execute_result",
     "data": {
      "text/plain": "          Date  Year-ended inflation\n0   1922-09-01                   0.0\n1   1922-12-01                   0.0\n2   1923-03-01                   0.0\n3   1923-06-01                   2.3\n4   1923-09-01                   3.8\n..         ...                   ...\n392 2020-09-30                   0.7\n393 2020-12-31                   0.9\n394 2021-03-31                   0.0\n395 2021-06-30                   0.0\n396 2021-09-30                   0.0\n\n[397 rows x 2 columns]",
      "text/html": "<div>\n<style scoped>\n    .dataframe tbody tr th:only-of-type {\n        vertical-align: middle;\n    }\n\n    .dataframe tbody tr th {\n        vertical-align: top;\n    }\n\n    .dataframe thead th {\n        text-align: right;\n    }\n</style>\n<table border=\"1\" class=\"dataframe\">\n  <thead>\n    <tr style=\"text-align: right;\">\n      <th></th>\n      <th>Date</th>\n      <th>Year-ended inflation</th>\n    </tr>\n  </thead>\n  <tbody>\n    <tr>\n      <th>0</th>\n      <td>1922-09-01</td>\n      <td>0.0</td>\n    </tr>\n    <tr>\n      <th>1</th>\n      <td>1922-12-01</td>\n      <td>0.0</td>\n    </tr>\n    <tr>\n      <th>2</th>\n      <td>1923-03-01</td>\n      <td>0.0</td>\n    </tr>\n    <tr>\n      <th>3</th>\n      <td>1923-06-01</td>\n      <td>2.3</td>\n    </tr>\n    <tr>\n      <th>4</th>\n      <td>1923-09-01</td>\n      <td>3.8</td>\n    </tr>\n    <tr>\n      <th>...</th>\n      <td>...</td>\n      <td>...</td>\n    </tr>\n    <tr>\n      <th>392</th>\n      <td>2020-09-30</td>\n      <td>0.7</td>\n    </tr>\n    <tr>\n      <th>393</th>\n      <td>2020-12-31</td>\n      <td>0.9</td>\n    </tr>\n    <tr>\n      <th>394</th>\n      <td>2021-03-31</td>\n      <td>0.0</td>\n    </tr>\n    <tr>\n      <th>395</th>\n      <td>2021-06-30</td>\n      <td>0.0</td>\n    </tr>\n    <tr>\n      <th>396</th>\n      <td>2021-09-30</td>\n      <td>0.0</td>\n    </tr>\n  </tbody>\n</table>\n<p>397 rows × 2 columns</p>\n</div>"
     },
     "metadata": {},
     "execution_count": 35
    }
   ],
   "source": [
    "new_inf= inf_df.rename(columns={'Title':'Date'})\n",
    "final_inf=new_inf.replace(np.nan,0)\n",
    "final_inf"
   ]
  },
  {
   "cell_type": "code",
   "execution_count": 36,
   "metadata": {
    "tags": []
   },
   "outputs": [
    {
     "output_type": "stream",
     "name": "stdout",
     "text": "<class 'pandas.core.frame.DataFrame'>\nRangeIndex: 397 entries, 0 to 396\nData columns (total 2 columns):\n #   Column                Non-Null Count  Dtype         \n---  ------                --------------  -----         \n 0   Date                  397 non-null    datetime64[ns]\n 1   Year-ended inflation  397 non-null    float64       \ndtypes: datetime64[ns](1), float64(1)\nmemory usage: 6.3 KB\n"
    }
   ],
   "source": [
    "final_inf.info()"
   ]
  },
  {
   "cell_type": "code",
   "execution_count": 44,
   "metadata": {},
   "outputs": [],
   "source": [
    "final_inf_2010 =final_inf.iloc[350:]\n",
    "# final_inf_2010"
   ]
  },
  {
   "cell_type": "code",
   "execution_count": 45,
   "metadata": {},
   "outputs": [
    {
     "output_type": "display_data",
     "data": {
      "application/vnd.plotly.v1+json": {
       "config": {
        "plotlyServerURL": "https://plot.ly"
       },
       "data": [
        {
         "line": {
          "width": 1
         },
         "marker": {
          "color": "#008080"
         },
         "mode": "lines",
         "name": "Qtrly inflation rates",
         "showlegend": true,
         "type": "scatter",
         "x": [
          "2010-03-31T00:00:00",
          "2010-06-30T00:00:00",
          "2010-09-30T00:00:00",
          "2010-12-31T00:00:00",
          "2011-03-31T00:00:00",
          "2011-06-30T00:00:00",
          "2011-09-30T00:00:00",
          "2011-12-31T00:00:00",
          "2012-03-31T00:00:00",
          "2012-06-30T00:00:00",
          "2012-09-30T00:00:00",
          "2012-12-31T00:00:00",
          "2013-03-31T00:00:00",
          "2013-06-30T00:00:00",
          "2013-09-30T00:00:00",
          "2013-12-31T00:00:00",
          "2014-03-31T00:00:00",
          "2014-06-30T00:00:00",
          "2014-09-30T00:00:00",
          "2014-12-31T00:00:00",
          "2015-03-31T00:00:00",
          "2015-06-30T00:00:00",
          "2015-09-30T00:00:00",
          "2015-12-31T00:00:00",
          "2016-03-31T00:00:00",
          "2016-06-30T00:00:00",
          "2016-09-30T00:00:00",
          "2016-12-31T00:00:00",
          "2017-03-31T00:00:00",
          "2017-06-30T00:00:00",
          "2017-09-30T00:00:00",
          "2017-12-31T00:00:00",
          "2018-03-31T00:00:00",
          "2018-06-30T00:00:00",
          "2018-09-30T00:00:00",
          "2018-12-31T00:00:00",
          "2019-03-31T00:00:00",
          "2019-06-30T00:00:00",
          "2019-09-30T00:00:00",
          "2019-12-31T00:00:00",
          "2020-03-31T00:00:00",
          "2020-06-30T00:00:00",
          "2020-09-30T00:00:00",
          "2020-12-31T00:00:00",
          "2021-03-31T00:00:00",
          "2021-06-30T00:00:00",
          "2021-09-30T00:00:00"
         ],
         "y": [
          2.9,
          3.1,
          2.9,
          2.8,
          3.3,
          3.5,
          3.4,
          3,
          1.6,
          1.2,
          2,
          2.2,
          2.5,
          2.4,
          2.2,
          2.7,
          2.9,
          3,
          2.3,
          1.7,
          1.3,
          1.5,
          1.5,
          1.7,
          1.3,
          1,
          1.3,
          1.5,
          2.1,
          1.9,
          1.8,
          1.9,
          1.9,
          2.1,
          1.9,
          1.8,
          1.3,
          1.6,
          1.7,
          1.8,
          2.2,
          -0.3,
          0.7,
          0.9,
          0,
          0,
          0
         ]
        }
       ],
       "layout": {
        "hovermode": "x",
        "template": {
         "data": {
          "bar": [
           {
            "error_x": {
             "color": "#2a3f5f"
            },
            "error_y": {
             "color": "#2a3f5f"
            },
            "marker": {
             "line": {
              "color": "#E5ECF6",
              "width": 0.5
             }
            },
            "type": "bar"
           }
          ],
          "barpolar": [
           {
            "marker": {
             "line": {
              "color": "#E5ECF6",
              "width": 0.5
             }
            },
            "type": "barpolar"
           }
          ],
          "carpet": [
           {
            "aaxis": {
             "endlinecolor": "#2a3f5f",
             "gridcolor": "white",
             "linecolor": "white",
             "minorgridcolor": "white",
             "startlinecolor": "#2a3f5f"
            },
            "baxis": {
             "endlinecolor": "#2a3f5f",
             "gridcolor": "white",
             "linecolor": "white",
             "minorgridcolor": "white",
             "startlinecolor": "#2a3f5f"
            },
            "type": "carpet"
           }
          ],
          "choropleth": [
           {
            "colorbar": {
             "outlinewidth": 0,
             "ticks": ""
            },
            "type": "choropleth"
           }
          ],
          "contour": [
           {
            "colorbar": {
             "outlinewidth": 0,
             "ticks": ""
            },
            "colorscale": [
             [
              0,
              "#0d0887"
             ],
             [
              0.1111111111111111,
              "#46039f"
             ],
             [
              0.2222222222222222,
              "#7201a8"
             ],
             [
              0.3333333333333333,
              "#9c179e"
             ],
             [
              0.4444444444444444,
              "#bd3786"
             ],
             [
              0.5555555555555556,
              "#d8576b"
             ],
             [
              0.6666666666666666,
              "#ed7953"
             ],
             [
              0.7777777777777778,
              "#fb9f3a"
             ],
             [
              0.8888888888888888,
              "#fdca26"
             ],
             [
              1,
              "#f0f921"
             ]
            ],
            "type": "contour"
           }
          ],
          "contourcarpet": [
           {
            "colorbar": {
             "outlinewidth": 0,
             "ticks": ""
            },
            "type": "contourcarpet"
           }
          ],
          "heatmap": [
           {
            "colorbar": {
             "outlinewidth": 0,
             "ticks": ""
            },
            "colorscale": [
             [
              0,
              "#0d0887"
             ],
             [
              0.1111111111111111,
              "#46039f"
             ],
             [
              0.2222222222222222,
              "#7201a8"
             ],
             [
              0.3333333333333333,
              "#9c179e"
             ],
             [
              0.4444444444444444,
              "#bd3786"
             ],
             [
              0.5555555555555556,
              "#d8576b"
             ],
             [
              0.6666666666666666,
              "#ed7953"
             ],
             [
              0.7777777777777778,
              "#fb9f3a"
             ],
             [
              0.8888888888888888,
              "#fdca26"
             ],
             [
              1,
              "#f0f921"
             ]
            ],
            "type": "heatmap"
           }
          ],
          "heatmapgl": [
           {
            "colorbar": {
             "outlinewidth": 0,
             "ticks": ""
            },
            "colorscale": [
             [
              0,
              "#0d0887"
             ],
             [
              0.1111111111111111,
              "#46039f"
             ],
             [
              0.2222222222222222,
              "#7201a8"
             ],
             [
              0.3333333333333333,
              "#9c179e"
             ],
             [
              0.4444444444444444,
              "#bd3786"
             ],
             [
              0.5555555555555556,
              "#d8576b"
             ],
             [
              0.6666666666666666,
              "#ed7953"
             ],
             [
              0.7777777777777778,
              "#fb9f3a"
             ],
             [
              0.8888888888888888,
              "#fdca26"
             ],
             [
              1,
              "#f0f921"
             ]
            ],
            "type": "heatmapgl"
           }
          ],
          "histogram": [
           {
            "marker": {
             "colorbar": {
              "outlinewidth": 0,
              "ticks": ""
             }
            },
            "type": "histogram"
           }
          ],
          "histogram2d": [
           {
            "colorbar": {
             "outlinewidth": 0,
             "ticks": ""
            },
            "colorscale": [
             [
              0,
              "#0d0887"
             ],
             [
              0.1111111111111111,
              "#46039f"
             ],
             [
              0.2222222222222222,
              "#7201a8"
             ],
             [
              0.3333333333333333,
              "#9c179e"
             ],
             [
              0.4444444444444444,
              "#bd3786"
             ],
             [
              0.5555555555555556,
              "#d8576b"
             ],
             [
              0.6666666666666666,
              "#ed7953"
             ],
             [
              0.7777777777777778,
              "#fb9f3a"
             ],
             [
              0.8888888888888888,
              "#fdca26"
             ],
             [
              1,
              "#f0f921"
             ]
            ],
            "type": "histogram2d"
           }
          ],
          "histogram2dcontour": [
           {
            "colorbar": {
             "outlinewidth": 0,
             "ticks": ""
            },
            "colorscale": [
             [
              0,
              "#0d0887"
             ],
             [
              0.1111111111111111,
              "#46039f"
             ],
             [
              0.2222222222222222,
              "#7201a8"
             ],
             [
              0.3333333333333333,
              "#9c179e"
             ],
             [
              0.4444444444444444,
              "#bd3786"
             ],
             [
              0.5555555555555556,
              "#d8576b"
             ],
             [
              0.6666666666666666,
              "#ed7953"
             ],
             [
              0.7777777777777778,
              "#fb9f3a"
             ],
             [
              0.8888888888888888,
              "#fdca26"
             ],
             [
              1,
              "#f0f921"
             ]
            ],
            "type": "histogram2dcontour"
           }
          ],
          "mesh3d": [
           {
            "colorbar": {
             "outlinewidth": 0,
             "ticks": ""
            },
            "type": "mesh3d"
           }
          ],
          "parcoords": [
           {
            "line": {
             "colorbar": {
              "outlinewidth": 0,
              "ticks": ""
             }
            },
            "type": "parcoords"
           }
          ],
          "pie": [
           {
            "automargin": true,
            "type": "pie"
           }
          ],
          "scatter": [
           {
            "marker": {
             "colorbar": {
              "outlinewidth": 0,
              "ticks": ""
             }
            },
            "type": "scatter"
           }
          ],
          "scatter3d": [
           {
            "line": {
             "colorbar": {
              "outlinewidth": 0,
              "ticks": ""
             }
            },
            "marker": {
             "colorbar": {
              "outlinewidth": 0,
              "ticks": ""
             }
            },
            "type": "scatter3d"
           }
          ],
          "scattercarpet": [
           {
            "marker": {
             "colorbar": {
              "outlinewidth": 0,
              "ticks": ""
             }
            },
            "type": "scattercarpet"
           }
          ],
          "scattergeo": [
           {
            "marker": {
             "colorbar": {
              "outlinewidth": 0,
              "ticks": ""
             }
            },
            "type": "scattergeo"
           }
          ],
          "scattergl": [
           {
            "marker": {
             "colorbar": {
              "outlinewidth": 0,
              "ticks": ""
             }
            },
            "type": "scattergl"
           }
          ],
          "scattermapbox": [
           {
            "marker": {
             "colorbar": {
              "outlinewidth": 0,
              "ticks": ""
             }
            },
            "type": "scattermapbox"
           }
          ],
          "scatterpolar": [
           {
            "marker": {
             "colorbar": {
              "outlinewidth": 0,
              "ticks": ""
             }
            },
            "type": "scatterpolar"
           }
          ],
          "scatterpolargl": [
           {
            "marker": {
             "colorbar": {
              "outlinewidth": 0,
              "ticks": ""
             }
            },
            "type": "scatterpolargl"
           }
          ],
          "scatterternary": [
           {
            "marker": {
             "colorbar": {
              "outlinewidth": 0,
              "ticks": ""
             }
            },
            "type": "scatterternary"
           }
          ],
          "surface": [
           {
            "colorbar": {
             "outlinewidth": 0,
             "ticks": ""
            },
            "colorscale": [
             [
              0,
              "#0d0887"
             ],
             [
              0.1111111111111111,
              "#46039f"
             ],
             [
              0.2222222222222222,
              "#7201a8"
             ],
             [
              0.3333333333333333,
              "#9c179e"
             ],
             [
              0.4444444444444444,
              "#bd3786"
             ],
             [
              0.5555555555555556,
              "#d8576b"
             ],
             [
              0.6666666666666666,
              "#ed7953"
             ],
             [
              0.7777777777777778,
              "#fb9f3a"
             ],
             [
              0.8888888888888888,
              "#fdca26"
             ],
             [
              1,
              "#f0f921"
             ]
            ],
            "type": "surface"
           }
          ],
          "table": [
           {
            "cells": {
             "fill": {
              "color": "#EBF0F8"
             },
             "line": {
              "color": "white"
             }
            },
            "header": {
             "fill": {
              "color": "#C8D4E3"
             },
             "line": {
              "color": "white"
             }
            },
            "type": "table"
           }
          ]
         },
         "layout": {
          "annotationdefaults": {
           "arrowcolor": "#2a3f5f",
           "arrowhead": 0,
           "arrowwidth": 1
          },
          "autotypenumbers": "strict",
          "coloraxis": {
           "colorbar": {
            "outlinewidth": 0,
            "ticks": ""
           }
          },
          "colorscale": {
           "diverging": [
            [
             0,
             "#8e0152"
            ],
            [
             0.1,
             "#c51b7d"
            ],
            [
             0.2,
             "#de77ae"
            ],
            [
             0.3,
             "#f1b6da"
            ],
            [
             0.4,
             "#fde0ef"
            ],
            [
             0.5,
             "#f7f7f7"
            ],
            [
             0.6,
             "#e6f5d0"
            ],
            [
             0.7,
             "#b8e186"
            ],
            [
             0.8,
             "#7fbc41"
            ],
            [
             0.9,
             "#4d9221"
            ],
            [
             1,
             "#276419"
            ]
           ],
           "sequential": [
            [
             0,
             "#0d0887"
            ],
            [
             0.1111111111111111,
             "#46039f"
            ],
            [
             0.2222222222222222,
             "#7201a8"
            ],
            [
             0.3333333333333333,
             "#9c179e"
            ],
            [
             0.4444444444444444,
             "#bd3786"
            ],
            [
             0.5555555555555556,
             "#d8576b"
            ],
            [
             0.6666666666666666,
             "#ed7953"
            ],
            [
             0.7777777777777778,
             "#fb9f3a"
            ],
            [
             0.8888888888888888,
             "#fdca26"
            ],
            [
             1,
             "#f0f921"
            ]
           ],
           "sequentialminus": [
            [
             0,
             "#0d0887"
            ],
            [
             0.1111111111111111,
             "#46039f"
            ],
            [
             0.2222222222222222,
             "#7201a8"
            ],
            [
             0.3333333333333333,
             "#9c179e"
            ],
            [
             0.4444444444444444,
             "#bd3786"
            ],
            [
             0.5555555555555556,
             "#d8576b"
            ],
            [
             0.6666666666666666,
             "#ed7953"
            ],
            [
             0.7777777777777778,
             "#fb9f3a"
            ],
            [
             0.8888888888888888,
             "#fdca26"
            ],
            [
             1,
             "#f0f921"
            ]
           ]
          },
          "colorway": [
           "#636efa",
           "#EF553B",
           "#00cc96",
           "#ab63fa",
           "#FFA15A",
           "#19d3f3",
           "#FF6692",
           "#B6E880",
           "#FF97FF",
           "#FECB52"
          ],
          "font": {
           "color": "#2a3f5f"
          },
          "geo": {
           "bgcolor": "white",
           "lakecolor": "white",
           "landcolor": "#E5ECF6",
           "showlakes": true,
           "showland": true,
           "subunitcolor": "white"
          },
          "hoverlabel": {
           "align": "left"
          },
          "hovermode": "closest",
          "mapbox": {
           "style": "light"
          },
          "paper_bgcolor": "white",
          "plot_bgcolor": "#E5ECF6",
          "polar": {
           "angularaxis": {
            "gridcolor": "white",
            "linecolor": "white",
            "ticks": ""
           },
           "bgcolor": "#E5ECF6",
           "radialaxis": {
            "gridcolor": "white",
            "linecolor": "white",
            "ticks": ""
           }
          },
          "scene": {
           "xaxis": {
            "backgroundcolor": "#E5ECF6",
            "gridcolor": "white",
            "gridwidth": 2,
            "linecolor": "white",
            "showbackground": true,
            "ticks": "",
            "zerolinecolor": "white"
           },
           "yaxis": {
            "backgroundcolor": "#E5ECF6",
            "gridcolor": "white",
            "gridwidth": 2,
            "linecolor": "white",
            "showbackground": true,
            "ticks": "",
            "zerolinecolor": "white"
           },
           "zaxis": {
            "backgroundcolor": "#E5ECF6",
            "gridcolor": "white",
            "gridwidth": 2,
            "linecolor": "white",
            "showbackground": true,
            "ticks": "",
            "zerolinecolor": "white"
           }
          },
          "shapedefaults": {
           "line": {
            "color": "#2a3f5f"
           }
          },
          "ternary": {
           "aaxis": {
            "gridcolor": "white",
            "linecolor": "white",
            "ticks": ""
           },
           "baxis": {
            "gridcolor": "white",
            "linecolor": "white",
            "ticks": ""
           },
           "bgcolor": "#E5ECF6",
           "caxis": {
            "gridcolor": "white",
            "linecolor": "white",
            "ticks": ""
           }
          },
          "title": {
           "x": 0.05
          },
          "xaxis": {
           "automargin": true,
           "gridcolor": "white",
           "linecolor": "white",
           "ticks": "",
           "title": {
            "standoff": 15
           },
           "zerolinecolor": "white",
           "zerolinewidth": 2
          },
          "yaxis": {
           "automargin": true,
           "gridcolor": "white",
           "linecolor": "white",
           "ticks": "",
           "title": {
            "standoff": 15
           },
           "zerolinecolor": "white",
           "zerolinewidth": 2
          }
         }
        },
        "title": {
         "text": "Inflation_rates- RBA"
        },
        "yaxis": {
         "title": {
          "text": ""
         }
        }
       }
      }
     },
     "metadata": {}
    }
   ],
   "source": [
    "import plotly.express as px\n",
    "import plotly.graph_objects as go\n",
    "\n",
    "fig = go.Figure([\n",
    "\n",
    "    go.Scatter(\n",
    "        name='Qtrly inflation rates',\n",
    "        x=final_inf_2010.Date,\n",
    "        y=final_inf_2010['Year-ended inflation'],\n",
    "        mode='lines',\n",
    "        marker=dict(color=\"#008080\"),\n",
    "        line=dict(width=1),\n",
    "        showlegend=True\n",
    "    )\n",
    "])\n",
    "\n",
    "fig.update_layout(\n",
    "    yaxis_title='',\n",
    "    title='Inflation_rates- RBA',\n",
    "    hovermode=\"x\"\n",
    ")\n",
    "\n",
    "fig.show()"
   ]
  },
  {
   "cell_type": "code",
   "execution_count": null,
   "metadata": {},
   "outputs": [],
   "source": []
  }
 ]
}