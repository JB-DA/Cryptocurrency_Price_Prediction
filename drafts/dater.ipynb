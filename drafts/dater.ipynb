{
 "cells": [
  {
   "cell_type": "code",
   "execution_count": 64,
   "id": "swiss-retirement",
   "metadata": {
    "ExecuteTime": {
     "end_time": "2021-02-26T12:35:51.452273Z",
     "start_time": "2021-02-26T12:35:51.449235Z"
    }
   },
   "outputs": [],
   "source": [
    "from sqlite3 import Error\n",
    "from datetime import datetime\n",
    "from datetime import timedelta\n",
    "import json\n",
    "import pandas as pd\n",
    "import sqlite3\n",
    "\n",
    "database = r'crypto_db.sqlite'"
   ]
  },
  {
   "cell_type": "code",
   "execution_count": 66,
   "id": "expressed-bloom",
   "metadata": {
    "ExecuteTime": {
     "end_time": "2021-02-26T12:36:02.477564Z",
     "start_time": "2021-02-26T12:36:02.471566Z"
    }
   },
   "outputs": [],
   "source": [
    "def create_connection(db_file):\n",
    "    \"\"\" create a database connection to the SQLite database specified by db_file\n",
    "    :param db_file: database file\n",
    "    :return: Connection object or None\n",
    "    \"\"\"\n",
    "    conn = None\n",
    "    try:\n",
    "        conn = sqlite3.connect(db_file)\n",
    "        return conn\n",
    "    except Error as e:\n",
    "        print(e)\n",
    "    return conn\n",
    "# END create_connection"
   ]
  },
  {
   "cell_type": "code",
   "execution_count": 83,
   "id": "future-bulgarian",
   "metadata": {
    "ExecuteTime": {
     "end_time": "2021-02-26T12:42:14.632308Z",
     "start_time": "2021-02-26T12:42:14.591307Z"
    }
   },
   "outputs": [
    {
     "data": {
      "text/html": [
       "<div>\n",
       "<style scoped>\n",
       "    .dataframe tbody tr th:only-of-type {\n",
       "        vertical-align: middle;\n",
       "    }\n",
       "\n",
       "    .dataframe tbody tr th {\n",
       "        vertical-align: top;\n",
       "    }\n",
       "\n",
       "    .dataframe thead th {\n",
       "        text-align: right;\n",
       "    }\n",
       "</style>\n",
       "<table border=\"1\" class=\"dataframe\">\n",
       "  <thead>\n",
       "    <tr style=\"text-align: right;\">\n",
       "      <th></th>\n",
       "      <th>time_period_end</th>\n",
       "      <th>price_close</th>\n",
       "    </tr>\n",
       "  </thead>\n",
       "  <tbody>\n",
       "    <tr>\n",
       "      <th>0</th>\n",
       "      <td>2011-09-14T00:00:00.0000000Z</td>\n",
       "      <td>5.97</td>\n",
       "    </tr>\n",
       "    <tr>\n",
       "      <th>1</th>\n",
       "      <td>2011-09-15T00:00:00.0000000Z</td>\n",
       "      <td>5.53</td>\n",
       "    </tr>\n",
       "    <tr>\n",
       "      <th>2</th>\n",
       "      <td>2011-09-16T00:00:00.0000000Z</td>\n",
       "      <td>5.13</td>\n",
       "    </tr>\n",
       "    <tr>\n",
       "      <th>3</th>\n",
       "      <td>2011-09-17T00:00:00.0000000Z</td>\n",
       "      <td>4.85</td>\n",
       "    </tr>\n",
       "    <tr>\n",
       "      <th>4</th>\n",
       "      <td>2011-09-18T00:00:00.0000000Z</td>\n",
       "      <td>4.87</td>\n",
       "    </tr>\n",
       "    <tr>\n",
       "      <th>...</th>\n",
       "      <td>...</td>\n",
       "      <td>...</td>\n",
       "    </tr>\n",
       "    <tr>\n",
       "      <th>3430</th>\n",
       "      <td>2021-02-21T00:00:00.0000000Z</td>\n",
       "      <td>55923.52</td>\n",
       "    </tr>\n",
       "    <tr>\n",
       "      <th>3431</th>\n",
       "      <td>2021-02-22T00:00:00.0000000Z</td>\n",
       "      <td>57492.91</td>\n",
       "    </tr>\n",
       "    <tr>\n",
       "      <th>3432</th>\n",
       "      <td>2021-02-23T00:00:00.0000000Z</td>\n",
       "      <td>54142.13</td>\n",
       "    </tr>\n",
       "    <tr>\n",
       "      <th>3433</th>\n",
       "      <td>2021-02-24T00:00:00.0000000Z</td>\n",
       "      <td>48899.99</td>\n",
       "    </tr>\n",
       "    <tr>\n",
       "      <th>3434</th>\n",
       "      <td>2021-02-25T00:00:00.0000000Z</td>\n",
       "      <td>50934.74</td>\n",
       "    </tr>\n",
       "  </tbody>\n",
       "</table>\n",
       "<p>3435 rows × 2 columns</p>\n",
       "</div>"
      ],
      "text/plain": [
       "                   time_period_end  price_close\n",
       "0     2011-09-14T00:00:00.0000000Z         5.97\n",
       "1     2011-09-15T00:00:00.0000000Z         5.53\n",
       "2     2011-09-16T00:00:00.0000000Z         5.13\n",
       "3     2011-09-17T00:00:00.0000000Z         4.85\n",
       "4     2011-09-18T00:00:00.0000000Z         4.87\n",
       "...                            ...          ...\n",
       "3430  2021-02-21T00:00:00.0000000Z     55923.52\n",
       "3431  2021-02-22T00:00:00.0000000Z     57492.91\n",
       "3432  2021-02-23T00:00:00.0000000Z     54142.13\n",
       "3433  2021-02-24T00:00:00.0000000Z     48899.99\n",
       "3434  2021-02-25T00:00:00.0000000Z     50934.74\n",
       "\n",
       "[3435 rows x 2 columns]"
      ]
     },
     "execution_count": 83,
     "metadata": {},
     "output_type": "execute_result"
    }
   ],
   "source": [
    "conn = create_connection(database)\n",
    "query = f\"SELECT time_period_end, price_close FROM historic_data WHERE asset_id='BTC' ORDER BY time_period_end ASC\"\n",
    "if conn is not None:\n",
    "    result = pd.read_sql_query(query,conn)\n",
    "else:\n",
    "    print(\"Error! cannot create the database connection.\")\n",
    "conn.close()\n",
    "\n",
    "result"
   ]
  },
  {
   "cell_type": "code",
   "execution_count": 68,
   "id": "general-electron",
   "metadata": {
    "ExecuteTime": {
     "end_time": "2021-02-26T12:36:06.342321Z",
     "start_time": "2021-02-26T12:36:06.323328Z"
    }
   },
   "outputs": [
    {
     "data": {
      "text/plain": [
       "Timestamp('2021-02-24 00:00:00+0000', tz='UTC')"
      ]
     },
     "execution_count": 68,
     "metadata": {},
     "output_type": "execute_result"
    }
   ],
   "source": [
    "result['time_period_end'] = pd.to_datetime(result['time_period_end'])\n",
    "result\n",
    "\n",
    "plotstart = result['time_period_end'].iloc[-2]\n",
    "plotstart"
   ]
  },
  {
   "cell_type": "code",
   "execution_count": 82,
   "id": "equipped-midnight",
   "metadata": {
    "ExecuteTime": {
     "end_time": "2021-02-26T12:41:38.961138Z",
     "start_time": "2021-02-26T12:41:38.929181Z"
    }
   },
   "outputs": [
    {
     "data": {
      "text/html": [
       "<div>\n",
       "<style scoped>\n",
       "    .dataframe tbody tr th:only-of-type {\n",
       "        vertical-align: middle;\n",
       "    }\n",
       "\n",
       "    .dataframe tbody tr th {\n",
       "        vertical-align: top;\n",
       "    }\n",
       "\n",
       "    .dataframe thead th {\n",
       "        text-align: right;\n",
       "    }\n",
       "</style>\n",
       "<table border=\"1\" class=\"dataframe\">\n",
       "  <thead>\n",
       "    <tr style=\"text-align: right;\">\n",
       "      <th></th>\n",
       "      <th>time</th>\n",
       "    </tr>\n",
       "  </thead>\n",
       "  <tbody>\n",
       "    <tr>\n",
       "      <th>0</th>\n",
       "      <td>2021-02-24 00:00:00+00:00</td>\n",
       "    </tr>\n",
       "    <tr>\n",
       "      <th>1</th>\n",
       "      <td>2021-02-25 00:00:00+00:00</td>\n",
       "    </tr>\n",
       "    <tr>\n",
       "      <th>2</th>\n",
       "      <td>2021-02-26 00:00:00+00:00</td>\n",
       "    </tr>\n",
       "    <tr>\n",
       "      <th>3</th>\n",
       "      <td>2021-02-27 00:00:00+00:00</td>\n",
       "    </tr>\n",
       "    <tr>\n",
       "      <th>4</th>\n",
       "      <td>2021-02-28 00:00:00+00:00</td>\n",
       "    </tr>\n",
       "    <tr>\n",
       "      <th>5</th>\n",
       "      <td>2021-03-01 00:00:00+00:00</td>\n",
       "    </tr>\n",
       "  </tbody>\n",
       "</table>\n",
       "</div>"
      ],
      "text/plain": [
       "                       time\n",
       "0 2021-02-24 00:00:00+00:00\n",
       "1 2021-02-25 00:00:00+00:00\n",
       "2 2021-02-26 00:00:00+00:00\n",
       "3 2021-02-27 00:00:00+00:00\n",
       "4 2021-02-28 00:00:00+00:00\n",
       "5 2021-03-01 00:00:00+00:00"
      ]
     },
     "execution_count": 82,
     "metadata": {},
     "output_type": "execute_result"
    }
   ],
   "source": [
    "date = plotstart\n",
    "number_of_days = 5\n",
    "\n",
    "graph = pd.DataFrame({\"time\" : [plotstart]})\n",
    "\n",
    "for i in range(number_of_days):\n",
    "    date += timedelta(days=1)\n",
    "    graph = graph.append({'time' : date}, ignore_index=True)      \n",
    "\n",
    "graph"
   ]
  }
 ],
 "metadata": {
  "hide_input": false,
  "kernelspec": {
   "display_name": "Python 3",
   "language": "python",
   "name": "python3"
  },
  "language_info": {
   "codemirror_mode": {
    "name": "ipython",
    "version": 3
   },
   "file_extension": ".py",
   "mimetype": "text/x-python",
   "name": "python",
   "nbconvert_exporter": "python",
   "pygments_lexer": "ipython3",
   "version": "3.8.5"
  },
  "varInspector": {
   "cols": {
    "lenName": 16,
    "lenType": 16,
    "lenVar": 40
   },
   "kernels_config": {
    "python": {
     "delete_cmd_postfix": "",
     "delete_cmd_prefix": "del ",
     "library": "var_list.py",
     "varRefreshCmd": "print(var_dic_list())"
    },
    "r": {
     "delete_cmd_postfix": ") ",
     "delete_cmd_prefix": "rm(",
     "library": "var_list.r",
     "varRefreshCmd": "cat(var_dic_list()) "
    }
   },
   "types_to_exclude": [
    "module",
    "function",
    "builtin_function_or_method",
    "instance",
    "_Feature"
   ],
   "window_display": false
  }
 },
 "nbformat": 4,
 "nbformat_minor": 5
}
