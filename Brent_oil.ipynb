{
 "cells": [
  {
   "cell_type": "code",
   "execution_count": null,
   "metadata": {
    "ExecuteTime": {
     "end_time": "2021-02-14T13:23:19.516561Z",
     "start_time": "2021-02-14T13:23:19.483947Z"
    }
   },
   "outputs": [],
   "source": [
    "import pandas as pd\n",
    "import datetime as dt\n",
    "import requests\n",
    "from keras.models import Sequential\n",
    "from keras.layers import Activation, Dense, Dropout, LSTM\n",
    "import matplotlib.pyplot as plt\n",
    "import numpy as np\n",
    "import pandas as pd\n",
    "import seaborn as sns\n",
    "from sklearn.metrics import mean_absolute_error\n",
    "%matplotlib inline"
   ]
  },
  {
   "cell_type": "code",
   "execution_count": null,
   "metadata": {
    "ExecuteTime": {
     "end_time": "2021-02-14T13:23:21.140397Z",
     "start_time": "2021-02-14T13:23:21.137390Z"
    }
   },
   "outputs": [],
   "source": [
    "path = \"Brent_crude_oil.csv\""
   ]
  },
  {
   "cell_type": "code",
   "execution_count": null,
   "metadata": {
    "ExecuteTime": {
     "end_time": "2021-02-14T13:23:24.874743Z",
     "start_time": "2021-02-14T13:23:24.859776Z"
    }
   },
   "outputs": [],
   "source": [
    "brent_df=pd.read_csv(path)"
   ]
  },
  {
   "cell_type": "code",
   "execution_count": null,
   "metadata": {
    "ExecuteTime": {
     "end_time": "2021-02-14T13:23:30.786115Z",
     "start_time": "2021-02-14T13:23:30.748938Z"
    }
   },
   "outputs": [],
   "source": [
    "brent_df.head(1)"
   ]
  },
  {
   "cell_type": "code",
   "execution_count": null,
   "metadata": {
    "ExecuteTime": {
     "end_time": "2021-02-14T13:23:33.233862Z",
     "start_time": "2021-02-14T13:23:33.226747Z"
    }
   },
   "outputs": [],
   "source": [
    "brent_df.shape"
   ]
  },
  {
   "cell_type": "code",
   "execution_count": null,
   "metadata": {
    "ExecuteTime": {
     "end_time": "2021-02-14T13:23:34.746255Z",
     "start_time": "2021-02-14T13:23:34.733462Z"
    }
   },
   "outputs": [],
   "source": [
    "brent_df.isna().sum()"
   ]
  },
  {
   "cell_type": "code",
   "execution_count": null,
   "metadata": {
    "ExecuteTime": {
     "end_time": "2021-02-14T13:23:35.949370Z",
     "start_time": "2021-02-14T13:23:35.932378Z"
    }
   },
   "outputs": [],
   "source": [
    "brent_df.dropna(inplace = True)"
   ]
  },
  {
   "cell_type": "code",
   "execution_count": null,
   "metadata": {
    "ExecuteTime": {
     "end_time": "2021-02-14T13:23:36.932349Z",
     "start_time": "2021-02-14T13:23:36.919341Z"
    }
   },
   "outputs": [],
   "source": [
    "brent_df.isna().sum()"
   ]
  },
  {
   "cell_type": "code",
   "execution_count": null,
   "metadata": {
    "ExecuteTime": {
     "end_time": "2021-02-14T13:23:38.894201Z",
     "start_time": "2021-02-14T13:23:38.887203Z"
    }
   },
   "outputs": [],
   "source": [
    "brent_df.shape"
   ]
  },
  {
   "cell_type": "code",
   "execution_count": null,
   "metadata": {
    "ExecuteTime": {
     "end_time": "2021-02-14T13:23:39.531404Z",
     "start_time": "2021-02-14T13:23:39.525402Z"
    }
   },
   "outputs": [],
   "source": [
    "df1=brent_df.copy()"
   ]
  },
  {
   "cell_type": "code",
   "execution_count": null,
   "metadata": {
    "ExecuteTime": {
     "end_time": "2021-02-14T13:23:40.149836Z",
     "start_time": "2021-02-14T13:23:40.087835Z"
    }
   },
   "outputs": [],
   "source": [
    "df1[\"Date\"]=pd.to_datetime(brent_df[\"Date\"],format='%d/%m/%Y')\n",
    "df1.head(1)"
   ]
  },
  {
   "cell_type": "code",
   "execution_count": null,
   "metadata": {
    "ExecuteTime": {
     "end_time": "2021-02-14T13:23:40.868690Z",
     "start_time": "2021-02-14T13:23:40.848686Z"
    }
   },
   "outputs": [],
   "source": [
    "df1.info()"
   ]
  },
  {
   "cell_type": "code",
   "execution_count": null,
   "metadata": {
    "ExecuteTime": {
     "end_time": "2021-02-14T13:23:43.137172Z",
     "start_time": "2021-02-14T13:23:43.118210Z"
    }
   },
   "outputs": [],
   "source": [
    "hist=df1.set_index('Date')\n",
    "hist.head(5)"
   ]
  },
  {
   "cell_type": "code",
   "execution_count": null,
   "metadata": {
    "ExecuteTime": {
     "end_time": "2021-02-14T13:23:43.815107Z",
     "start_time": "2021-02-14T13:23:43.805159Z"
    }
   },
   "outputs": [],
   "source": [
    "hist.index = pd.to_datetime(hist.index, unit='s')\n",
    "target_col = 'Close'"
   ]
  },
  {
   "cell_type": "code",
   "execution_count": null,
   "metadata": {
    "ExecuteTime": {
     "end_time": "2021-02-14T13:23:44.379219Z",
     "start_time": "2021-02-14T13:23:44.356221Z"
    }
   },
   "outputs": [],
   "source": [
    "hist.head(5)"
   ]
  },
  {
   "cell_type": "code",
   "execution_count": null,
   "metadata": {
    "ExecuteTime": {
     "end_time": "2021-02-14T13:23:44.936045Z",
     "start_time": "2021-02-14T13:23:44.920453Z"
    }
   },
   "outputs": [],
   "source": [
    "hist.isna().sum()"
   ]
  },
  {
   "cell_type": "code",
   "execution_count": null,
   "metadata": {
    "ExecuteTime": {
     "end_time": "2021-02-14T13:23:47.086337Z",
     "start_time": "2021-02-14T13:23:47.078344Z"
    }
   },
   "outputs": [],
   "source": [
    "hist.shape"
   ]
  },
  {
   "cell_type": "code",
   "execution_count": null,
   "metadata": {
    "ExecuteTime": {
     "end_time": "2021-02-14T13:23:47.618296Z",
     "start_time": "2021-02-14T13:23:47.610291Z"
    }
   },
   "outputs": [],
   "source": [
    "def train_test_split(df, test_size=0.2):\n",
    "\n",
    "    split_row = len(df) - int(test_size * len(df))\n",
    "    train_data = df.iloc[:split_row]\n",
    "    test_data = df.iloc[split_row:]\n",
    "    return train_data, test_data"
   ]
  },
  {
   "cell_type": "code",
   "execution_count": null,
   "metadata": {
    "ExecuteTime": {
     "end_time": "2021-02-14T13:23:49.065533Z",
     "start_time": "2021-02-14T13:23:49.058525Z"
    }
   },
   "outputs": [],
   "source": [
    "train, test = train_test_split(hist, test_size=0.2)"
   ]
  },
  {
   "cell_type": "code",
   "execution_count": null,
   "metadata": {
    "ExecuteTime": {
     "end_time": "2021-02-14T13:23:50.019547Z",
     "start_time": "2021-02-14T13:23:50.011549Z"
    }
   },
   "outputs": [],
   "source": [
    "def line_plot(line1, line2, label1=None, label2=None, title='Brent_oil', lw=1):\n",
    "    fig, ax = plt.subplots(1, figsize=(13, 7))\n",
    "    ax.plot(line1, label=label1, linewidth=lw)\n",
    "    ax.plot(line2, label=label2, linewidth=lw)\n",
    "    ax.set_ylabel('price [USD]', fontsize=14)\n",
    "    ax.set_title(title, fontsize=16)\n",
    "    ax.legend(loc='best', fontsize=16);"
   ]
  },
  {
   "cell_type": "code",
   "execution_count": null,
   "metadata": {
    "ExecuteTime": {
     "end_time": "2021-02-14T13:23:53.896095Z",
     "start_time": "2021-02-14T13:23:53.448478Z"
    }
   },
   "outputs": [],
   "source": [
    "line_plot(train[target_col], test[target_col], 'training', 'test', title='Brent_oil')"
   ]
  },
  {
   "cell_type": "code",
   "execution_count": null,
   "metadata": {
    "ExecuteTime": {
     "end_time": "2021-02-14T13:32:08.599888Z",
     "start_time": "2021-02-14T13:32:08.585382Z"
    }
   },
   "outputs": [],
   "source": [
    "# def normalise_zero_base(df):\n",
    "#     return df / df.iloc[0] - 1\n",
    "\n",
    "# def normalise_min_max(df):\n",
    "#     return (df - df.min()) / (data.max() - df.min())\n",
    "\n",
    "def normalise_zero_base(df):\n",
    "    new_df= df / df.iloc[3] - 1\n",
    "    #print(f'DF: {df}\\n\\nDF iloc:\\n{df.iloc[3]-1} \\n\\n')\n",
    "    new_df=new_df.fillna(0)\n",
    "    new_df=new_df.replace(np.inf,0)\n",
    "    return new_df\n",
    "\n",
    "def normalise_min_max(df):\n",
    "    return (df - df.min()) / (data.max() - df.min())"
   ]
  },
  {
   "cell_type": "code",
   "execution_count": null,
   "metadata": {
    "ExecuteTime": {
     "end_time": "2021-02-14T13:23:59.299321Z",
     "start_time": "2021-02-14T13:23:59.294315Z"
    }
   },
   "outputs": [],
   "source": [
    "def extract_window_data(df, window_len=5, zero_base=True):\n",
    "    window_data = []\n",
    "    for idx in range(len(df) - window_len):\n",
    "        tmp = df[idx: (idx + window_len)].copy()\n",
    "        if zero_base:\n",
    "            tmp = normalise_zero_base(tmp)\n",
    "        window_data.append(tmp.values)\n",
    "    return np.array(window_data)"
   ]
  },
  {
   "cell_type": "code",
   "execution_count": null,
   "metadata": {
    "ExecuteTime": {
     "end_time": "2021-02-14T13:24:04.175315Z",
     "start_time": "2021-02-14T13:24:04.169316Z"
    }
   },
   "outputs": [],
   "source": [
    "def prepare_data(df, target_col, window_len=10, zero_base=True, test_size=0.2):\n",
    "    train_data, test_data = train_test_split(df, test_size=test_size)\n",
    "    X_train = extract_window_data(train_data, window_len, zero_base)\n",
    "    X_test = extract_window_data(test_data, window_len, zero_base)\n",
    "    y_train = train_data[target_col][window_len:].values\n",
    "    y_test = test_data[target_col][window_len:].values\n",
    "    if zero_base:\n",
    "        y_train = y_train / train_data[target_col][:-window_len].values - 1\n",
    "        y_test = y_test / test_data[target_col][:-window_len].values - 1\n",
    "\n",
    "    return train_data, test_data, X_train, X_test, y_train, y_test"
   ]
  },
  {
   "cell_type": "code",
   "execution_count": null,
   "metadata": {
    "ExecuteTime": {
     "end_time": "2021-02-14T13:24:07.717735Z",
     "start_time": "2021-02-14T13:24:07.701762Z"
    }
   },
   "outputs": [],
   "source": [
    "def build_lstm_model(input_data, output_size, neurons=100, activ_func='linear',\n",
    "                     dropout=0.2, loss='mse', optimizer='adam'):\n",
    "    model = Sequential()\n",
    "    model.add(LSTM(neurons, input_shape=(input_data.shape[1], input_data.shape[2])))\n",
    "    model.add(Dropout(dropout))\n",
    "    model.add(Dense(units=output_size))\n",
    "    model.add(Activation(activ_func))\n",
    "\n",
    "    model.compile(loss=loss, optimizer=optimizer)\n",
    "    return model"
   ]
  },
  {
   "cell_type": "code",
   "execution_count": null,
   "metadata": {
    "ExecuteTime": {
     "end_time": "2021-02-14T13:24:42.934047Z",
     "start_time": "2021-02-14T13:24:42.922352Z"
    }
   },
   "outputs": [],
   "source": [
    "np.random.seed(42)\n",
    "window_len = 5\n",
    "test_size = 0.2\n",
    "zero_base = True\n",
    "lstm_neurons = 100\n",
    "epochs = 30\n",
    "batch_size = 32\n",
    "loss = 'mse'\n",
    "dropout = 0.2\n",
    "optimizer = 'adam'"
   ]
  },
  {
   "cell_type": "code",
   "execution_count": null,
   "metadata": {
    "ExecuteTime": {
     "end_time": "2021-02-14T13:32:52.486177Z",
     "start_time": "2021-02-14T13:32:15.933014Z"
    },
    "scrolled": true
   },
   "outputs": [],
   "source": [
    "train, test, X_train, X_test, y_train, y_test = prepare_data(\n",
    "    hist, target_col, window_len=window_len, zero_base=zero_base, test_size=test_size)"
   ]
  },
  {
   "cell_type": "code",
   "execution_count": null,
   "metadata": {
    "ExecuteTime": {
     "end_time": "2021-02-14T13:45:07.486776Z",
     "start_time": "2021-02-14T13:44:32.133012Z"
    },
    "scrolled": true
   },
   "outputs": [],
   "source": [
    "model = build_lstm_model(\n",
    "    X_train, output_size=1, neurons=lstm_neurons, dropout=dropout, loss=loss,\n",
    "    optimizer=optimizer)\n",
    "history = model.fit(\n",
    "    X_train, y_train, epochs=epochs, batch_size=batch_size, verbose=1, shuffle=True)"
   ]
  },
  {
   "cell_type": "code",
   "execution_count": null,
   "metadata": {
    "ExecuteTime": {
     "end_time": "2021-02-14T13:57:09.549219Z",
     "start_time": "2021-02-14T13:57:09.288577Z"
    }
   },
   "outputs": [],
   "source": [
    "targets = test[target_col][window_len:]\n",
    "preds = model.predict(X_test).squeeze()\n",
    "mean_absolute_error(preds, y_test)"
   ]
  },
  {
   "cell_type": "code",
   "execution_count": null,
   "metadata": {
    "ExecuteTime": {
     "end_time": "2021-02-14T13:57:10.588123Z",
     "start_time": "2021-02-14T13:57:10.580109Z"
    }
   },
   "outputs": [],
   "source": [
    "preds = test[target_col].values[:-window_len] * (preds + 1)\n",
    "preds = pd.Series(index=targets.index, data=preds)\n",
    "#line_plot(targets, preds, 'actual', 'prediction', lw=1)"
   ]
  },
  {
   "cell_type": "code",
   "execution_count": null,
   "metadata": {
    "ExecuteTime": {
     "end_time": "2021-02-14T13:57:29.852320Z",
     "start_time": "2021-02-14T13:57:29.836667Z"
    }
   },
   "outputs": [],
   "source": [
    "t = targets.to_frame(\"Close\")\n",
    "p = preds.to_frame(\"Close\")\n",
    "\n",
    "p = p.shift(periods=-1)\n",
    "\n",
    "p = p.iloc[:-1]\n",
    "t = t.iloc[:-1]\n",
    "\n",
    "graphdata = t.merge(p, how='inner', on='Date', suffixes=('_actual', '_prediction'))\n",
    "\n",
    "#print(t, p, graphdata)"
   ]
  },
  {
   "cell_type": "code",
   "execution_count": null,
   "metadata": {
    "ExecuteTime": {
     "end_time": "2021-02-14T13:57:45.708524Z",
     "start_time": "2021-02-14T13:57:45.570281Z"
    }
   },
   "outputs": [],
   "source": [
    "import plotly.express as px\n",
    "import plotly.graph_objects as go\n",
    "\n",
    "fig = go.Figure([\n",
    "\n",
    "    go.Scatter(\n",
    "        name='Actual',\n",
    "        x=graphdata.index,\n",
    "        y=graphdata['Close_actual'],\n",
    "        mode='lines',\n",
    "        marker=dict(color=\"#008080\"),\n",
    "        line=dict(width=1),\n",
    "        showlegend=True\n",
    "    ),\n",
    "    go.Scatter(\n",
    "        name='Prediction',\n",
    "        x=graphdata.index,\n",
    "        y=graphdata['Close_prediction'],\n",
    "        marker=dict(color=\"#FF8C00\"),\n",
    "        line=dict(width=1),\n",
    "        mode='lines',\n",
    "        fillcolor='rgba(68, 68, 68, 0.3)',\n",
    "        showlegend=True\n",
    "    )\n",
    "])\n",
    "\n",
    "fig.update_layout(\n",
    "    yaxis_title='',\n",
    "    title='',\n",
    "    hovermode=\"x\"\n",
    ")\n",
    "\n",
    "fig.show()"
   ]
  },
  {
   "cell_type": "code",
   "execution_count": null,
   "metadata": {},
   "outputs": [],
   "source": []
  }
 ],
 "metadata": {
  "kernelspec": {
   "display_name": "Python 3",
   "language": "python",
   "name": "python3"
  },
  "language_info": {
   "codemirror_mode": {
    "name": "ipython",
    "version": 3
   },
   "file_extension": ".py",
   "mimetype": "text/x-python",
   "name": "python",
   "nbconvert_exporter": "python",
   "pygments_lexer": "ipython3",
   "version": "3.8.5"
  },
  "varInspector": {
   "cols": {
    "lenName": 16,
    "lenType": 16,
    "lenVar": 40
   },
   "kernels_config": {
    "python": {
     "delete_cmd_postfix": "",
     "delete_cmd_prefix": "del ",
     "library": "var_list.py",
     "varRefreshCmd": "print(var_dic_list())"
    },
    "r": {
     "delete_cmd_postfix": ") ",
     "delete_cmd_prefix": "rm(",
     "library": "var_list.r",
     "varRefreshCmd": "cat(var_dic_list()) "
    }
   },
   "types_to_exclude": [
    "module",
    "function",
    "builtin_function_or_method",
    "instance",
    "_Feature"
   ],
   "window_display": false
  }
 },
 "nbformat": 4,
 "nbformat_minor": 4
}
